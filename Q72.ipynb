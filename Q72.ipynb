{
 "cells": [
  {
   "cell_type": "markdown",
   "id": "b7c6ae62-3afd-47ec-b6ef-115937b4219c",
   "metadata": {},
   "source": [
    "## Questionário 72 (Q72)\n",
    "\n",
    "Orientações: \n",
    "\n",
    "- Registre suas respostas no questionário de mesmo nome no SIGAA.\n",
    "- O tempo de registro das respostas no questionário será de 10 minutos. Portanto, resolva primeiro as questões e depois registre-as.\n",
    "- Haverá apenas 1 (uma) tentativa de resposta.\n",
    "- Submeta seu arquivo-fonte (utilizado para resolver as questões) em formato _.ipynb_ pelo SIGAA anexando-o à Tarefa denominada \"Envio de arquivo\" correspondente ao questionário.\n",
    "\n",
    "*Nota:* o arquivo-fonte será utilizado apenas como prova de execução da tarefa. Nenhuma avaliação será feita quanto ao estilo de programação.\n",
    "\n",
    "<hr>"
   ]
  },
  {
   "cell_type": "markdown",
   "id": "2754415b-22e8-4733-aa28-901c3ef1bdf1",
   "metadata": {},
   "source": [
    "Para responder às questões, leia o texto introdutório a seguir.\n",
    "\n",
    ">Um ataque hacker ao portal do Governo Federal foi identificado após se descobrir na página https://www.gov.br/economia/pt-br/assuntos/processo-eletronico-nacional/conteudo/barramento-de-servicos/relacao-dos-orgaos-e-entidades, associada ao Ministério da Economia, que as _cache keys_ embutidas em alguns links resultavam em uma chave com 6 blocos de 4 dígitos que permitia o acesso furtivo a dados sigilosos.\n",
    ">\n",
    ">A atividade criminosa funcionava da seguinte forma:\n",
    ">\n",
    ">1. O hacker coletou cada _cache key_ existente no cabeçalho do arquivo .HTML dessa página exatamente nas vinculações aos arquivos .CSS. A _cache key_ é um número hexadecimal de 32 dígitos que aparece em um elemento `<link>`. No exemplo \n",
    ">```html\n",
    "><link href=\"https://www.gov.br/economia/ ... cachekey-dac9630aec642a428cd73f4be0a03569.css\"  ... />,\n",
    ">```\n",
    "> a cache key é o número `dac9630aec642a428cd73f4be0a03569`.\n",
    "> 2. O hacker usava a _cache key_ como entrada para uma função decriptadora e obtinha um número de 4 dígitos.\n",
    "> 3. Juntando as 6 _cache keys_ contidas na página, ele determinava uma sequência do tipo ####.####.####.####.####.####, que era usada para quebrar _firewalls_ e acessar os arquivos sigilosos.\n",
    ">\n",
    "\n",
    "Como especialista, você frustrou o ataque do hacker usando a função de decriptação dada por:\n",
    "```python\n",
    "def decrypt(Hash):\n",
    "    return sum(map(lambda x: ord(x),Hash)),\n",
    "```\n",
    "onde `Hash` é uma _cache key_. Por exemplo:\n",
    "\n",
    "```python\n",
    "print(decrypt('dac9630aec642a428cd73f4be0a03569'))\n",
    "2280\n",
    "```\n",
    "\n",
    "\n",
    "_Obs.:_ o relato acima é fictício."
   ]
  },
  {
   "cell_type": "markdown",
   "id": "37812462-e0aa-4490-b1fc-30209150f2d2",
   "metadata": {},
   "source": [
    "**Questão 1.** Utilize raspagem de dados para coletar as 6 _cache keys_ contidas na página e determinar as 6 quádruplas que quebram o _firewall_ e assinale a alternativa que contém todas as quádruplas corretas, independentemente da ordem das _cache keys_ que os determinam.\n",
    "\n",
    "A. 2184.1999.2200.1090.2215.2175\n",
    "\n",
    "B. 1090.1999.2169.2215.2175.2184\n",
    "\n",
    "***C. 2091.2169.1999.2184.2215.2175***\n",
    "\n",
    "D. 2175.1999.2184.2215.1090.1010\n",
    "\n",
    "<div class=\"alert alert-block alert-success\">\n",
    "<b>Resposta:</b> C. 2091.2169.1999.2184.2215.2175\n",
    "</div>"
   ]
  },
  {
   "cell_type": "code",
   "execution_count": 1,
   "id": "7be059b3",
   "metadata": {},
   "outputs": [],
   "source": [
    "import requests\n",
    "import pandas as pd\n",
    "from bs4 import BeautifulSoup\n",
    "from urllib.parse import unquote\n",
    "def decrypt(Hash):\n",
    "    return sum(map(lambda x: ord(x), Hash))"
   ]
  },
  {
   "cell_type": "code",
   "execution_count": 2,
   "id": "1fd02e89",
   "metadata": {},
   "outputs": [],
   "source": [
    "url = requests.get(\"https://www.gov.br/economia/pt-br/assuntos/processo-eletronico-nacional/conteudo/barramento-de-servicos/relacao-dos-orgaos-e-entidades\")"
   ]
  },
  {
   "cell_type": "code",
   "execution_count": 3,
   "id": "d96331f1",
   "metadata": {},
   "outputs": [],
   "source": [
    "html = url.content\n",
    "soup = BeautifulSoup(html,\"html\")"
   ]
  },
  {
   "cell_type": "code",
   "execution_count": 4,
   "id": "c24648f3",
   "metadata": {},
   "outputs": [],
   "source": [
    "links = soup.find_all(\"link\")\n",
    "hashes = []\n",
    "for link in links:\n",
    "    if \"cachekey\" in str(link):\n",
    "        hashes.append(str(link).split(\"cachekey-\")[1][:32])"
   ]
  },
  {
   "cell_type": "code",
   "execution_count": 5,
   "id": "a5dbaf75",
   "metadata": {},
   "outputs": [
    {
     "name": "stdout",
     "output_type": "stream",
     "text": [
      "Index #: 2\n"
     ]
    }
   ],
   "source": [
    "hashes_decrypt = []\n",
    "for hash in hashes:\n",
    "    hashes_decrypt.append(decrypt(hash))\n",
    "\n",
    "a = [2184, 1999, 2200, 1090, 2215, 2175]\n",
    "b = [1090, 1999, 2169, 2215, 2175, 2184]\n",
    "c = [2091, 2169, 1999, 2184, 2215, 2175]\n",
    "d = [2175, 1999, 2184, 2215, 1090, 1010]\n",
    "alternativas = [a,b,c,d]\n",
    "for idx, alternativa in enumerate(alternativas):\n",
    "    if sorted(alternativa) == sorted(hashes_decrypt):\n",
    "        print(f\"Index #: {idx}\")"
   ]
  },
  {
   "cell_type": "markdown",
   "id": "71ab03a5-7746-476b-add0-c81201eeb46e",
   "metadata": {},
   "source": [
    "**Questão 2.** No corpo do arquivo HTML da página em questão, existem diversas âncoras (elementos da árvore DOM com a tag `<a>...</a>` com URLs que apontam para outros endereços no domínio do Ministério da Economia. Assinale a alternativa correta para o número de links contidos em `<body>` que iniciam pela raiz `https://www.gov.br/economia/pt-br`.\n",
    "\n",
    "A. 502\n",
    "\n",
    "***B. 499***\n",
    "\n",
    "C. 400\n",
    "\n",
    "D. 380\n",
    "\n",
    "<div class=\"alert alert-block alert-success\">\n",
    "<b>Resposta:</b> B. 499\n",
    "</div>"
   ]
  },
  {
   "cell_type": "code",
   "execution_count": 6,
   "id": "9d34199a",
   "metadata": {},
   "outputs": [
    {
     "data": {
      "text/plain": [
       "499"
      ]
     },
     "execution_count": 6,
     "metadata": {},
     "output_type": "execute_result"
    }
   ],
   "source": [
    "import re\n",
    "len(soup.body.find_all('a', attrs={'href': re.compile(\"https://www.gov.br/economia/pt-br\")}))"
   ]
  },
  {
   "cell_type": "markdown",
   "id": "4cd39168-b31f-459f-84aa-eb83e7d94da6",
   "metadata": {},
   "source": [
    "**Questão 3.** Marque a alternativa correta para o número de descendentes de `<body>` na árvore DOM correspondente ao arquivo HTML da página em questão.\n",
    "\n",
    "***A. 5821***\n",
    "\n",
    "B. 6000\n",
    "\n",
    "C. 5800\n",
    "\n",
    "D. 5994\n",
    "\n",
    "<div class=\"alert alert-block alert-success\">\n",
    "<b>Resposta:</b> A. 5821\n",
    "</div>"
   ]
  },
  {
   "cell_type": "code",
   "execution_count": 7,
   "id": "5bd6d585-3907-477c-92f4-d097ba3e2932",
   "metadata": {},
   "outputs": [],
   "source": [
    "descendants = [desc for desc in soup.body.descendants]"
   ]
  },
  {
   "cell_type": "code",
   "execution_count": 8,
   "id": "708015d5",
   "metadata": {},
   "outputs": [
    {
     "data": {
      "text/plain": [
       "5821"
      ]
     },
     "execution_count": 8,
     "metadata": {},
     "output_type": "execute_result"
    }
   ],
   "source": [
    "len(descendants)"
   ]
  }
 ],
 "metadata": {
  "kernelspec": {
   "display_name": "Python 3",
   "language": "python",
   "name": "python3"
  },
  "language_info": {
   "codemirror_mode": {
    "name": "ipython",
    "version": 3
   },
   "file_extension": ".py",
   "mimetype": "text/x-python",
   "name": "python",
   "nbconvert_exporter": "python",
   "pygments_lexer": "ipython3",
   "version": "3.9.6"
  }
 },
 "nbformat": 4,
 "nbformat_minor": 5
}
