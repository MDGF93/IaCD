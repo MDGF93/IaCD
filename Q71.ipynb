{
 "cells": [
  {
   "cell_type": "markdown",
   "id": "ff3b2b1a-5f18-4011-ac59-5fc376585725",
   "metadata": {},
   "source": [
    "## Questionário 71 (Q71)"
   ]
  },
  {
   "cell_type": "markdown",
   "id": "98d3b5da-db23-4002-807d-2712f7c5d8fe",
   "metadata": {},
   "source": [
    "Orientações: \n",
    "\n",
    "- Registre suas respostas no questionário de mesmo nome no SIGAA.\n",
    "- O tempo de registro das respostas no questionário será de 10 minutos. Portanto, resolva primeiro as questões e depois registre-as.\n",
    "- Haverá apenas 1 (uma) tentativa de resposta.\n",
    "- Submeta seu arquivo-fonte (utilizado para resolver as questões) em formato _.ipynb_ pelo SIGAA anexando-o à Tarefa denominada \"Envio de arquivo\" correspondente ao questionário.\n",
    "\n",
    "*Nota:* o arquivo-fonte será utilizado apenas como prova de execução da tarefa. Nenhuma avaliação será feita quanto ao estilo de programação.\n",
    "\n",
    "<hr>"
   ]
  },
  {
   "cell_type": "markdown",
   "id": "95e8d91b-3bee-4bc1-ac3b-87e64ebd7e1c",
   "metadata": {},
   "source": [
    "Para responder às questões, leia o texto introdutório a seguir.\n",
    "\n",
    "\n",
    ">Oftalmologistas baseiam-se em imagens para emitir diagnósticos sobre a condição visual de seus pacientes. Uma das técnicas comumemente empregadas é a medição da curvatura da córnea. Grosso modo, a análise verifica tonalidades de cor sobre um gráfico em coordenadas polares como o apresentado na figura abaixo, à esquerda. Entretanto, a imagem completa perfaz um retângulo que contém não só o círculo colorido, mas também a área complementar externa na cor branca, como se vê também à direita. \n",
    "\n",
    " <center><img src=\"https://i.imgur.com/Zeaz3u9.png\" width=\"800\" height=\"700\"></center> \n",
    "\n",
    "Imagens representativas de uma córnea com altas curvaturas, indicando uma ectasia. \n",
    "\n",
    "\n",
    ">Essas cores que vemos acima são, na verdade, uma composição de tonalidades de vermelho, verde e azul, de modo que a imagem, matematicamente, é representada por um _array_ tridimensional de dimensões $I \\times J \\times 3$. Isto é, são $I$ pixels no eixo vertical (`axis=0`), são $J$ pixels no eixo horizontal (`axis=1`) e 3 canais de cor contendo, cada, valores que variam de 0 a 255. \n",
    ">\n",
    ">Ou seja, em linguagem computacional, se chamarmos esse array de `img`, o valor de `img[43,99,1]` é a tonalidade da cor \"verde\" do pixel localizado na posição `i=43` e `j=99`, onde `i` varia de `0` a `I` ao longo do eixo vertical, e `j` varia de `0` a `J` ao longo do eixo horizontal. A terceira componente da tupla de indexação determina o canal de cor: `0`, para vermelho; `1`, para verde e `2` para azul.\n",
    ">\n",
    "> O código a seguir foi utilizado para carregar o _array_ 3D da imagem anterior, bem como um _dataframe_  contendo as posições dos pixels das imagens e os valores correspondentes das tonalidades de cor.\n",
    ">```python\n",
    "># carrega array da imagem\n",
    ">img = np.load('SyntEyeKTC-106_a.npz')['arr_0']\n",
    ">\n",
    "># carrega dataframe de dados\n",
    ">col = pd.read_csv('SyntEyeKTC-106_a.csv')\n",
    ">```\n",
    ">*Obs.:* acesse os arquivos [aqui](https://github.com/gcpeixoto/ICD/tree/main/database/eyes)."
   ]
  },
  {
   "cell_type": "markdown",
   "id": "2b5ea6cc-64e5-41f5-8cb1-26ff6d2ef593",
   "metadata": {},
   "source": [
    "**Questão 1.** Considere a _linha central_ aquela que corta a imagem polar da córnea no ângulo de 0 grau (cor azul). Esta linha é formada por todos os pixels que estão enfileirados ao longo do eixo horizontal (direção _j_) com a posição no eixo vertical  fixa (direção _i_). Supondo que `imed` seja, por divisão inteira, o índice que define o \"meio\" do eixo vertical, isto é, a coordenada na direção _i_ onde é traçada a _linha central_, assinale a alternativa correta: \n",
    "\n",
    "A. `imed = 1100`\n",
    "\n",
    "***B. `imed = 1250`***\n",
    "\n",
    "C. `imed = 1550`\n",
    "\n",
    "D. `imed = 2000`\n",
    "\n",
    "<div class=\"alert alert-block alert-success\">\n",
    "<b>Resposta:</b> B. imed = 1250\n",
    "</div>"
   ]
  },
  {
   "cell_type": "code",
   "execution_count": 6,
   "id": "a5daa36f-8a9d-4256-9871-6582121d4ce1",
   "metadata": {},
   "outputs": [
    {
     "data": {
      "text/plain": [
       "Index(['x', 'y', 'r', 'g', 'b'], dtype='object')"
      ]
     },
     "execution_count": 6,
     "metadata": {},
     "output_type": "execute_result"
    }
   ],
   "source": [
    "import pandas as pd\n",
    "df = pd.read_csv(\"SyntEyeKTC-106_a.csv\")\n"
   ]
  },
  {
   "cell_type": "code",
   "execution_count": 14,
   "id": "3d0b195e-bf5a-4b02-8a72-6418bd13dc59",
   "metadata": {},
   "outputs": [
    {
     "data": {
      "text/plain": [
       "1250"
      ]
     },
     "execution_count": 14,
     "metadata": {},
     "output_type": "execute_result"
    }
   ],
   "source": [
    "len(df[df.x == 2449])//2"
   ]
  },
  {
   "cell_type": "code",
   "execution_count": 15,
   "id": "fdbcb802-b733-4f0b-90d1-849313206c5b",
   "metadata": {},
   "outputs": [
    {
     "data": {
      "text/html": [
       "<div>\n",
       "<style scoped>\n",
       "    .dataframe tbody tr th:only-of-type {\n",
       "        vertical-align: middle;\n",
       "    }\n",
       "\n",
       "    .dataframe tbody tr th {\n",
       "        vertical-align: top;\n",
       "    }\n",
       "\n",
       "    .dataframe thead th {\n",
       "        text-align: right;\n",
       "    }\n",
       "</style>\n",
       "<table border=\"1\" class=\"dataframe\">\n",
       "  <thead>\n",
       "    <tr style=\"text-align: right;\">\n",
       "      <th></th>\n",
       "      <th>x</th>\n",
       "      <th>y</th>\n",
       "      <th>r</th>\n",
       "      <th>g</th>\n",
       "      <th>b</th>\n",
       "    </tr>\n",
       "  </thead>\n",
       "  <tbody>\n",
       "    <tr>\n",
       "      <th>0</th>\n",
       "      <td>0</td>\n",
       "      <td>0</td>\n",
       "      <td>255</td>\n",
       "      <td>255</td>\n",
       "      <td>255</td>\n",
       "    </tr>\n",
       "    <tr>\n",
       "      <th>1</th>\n",
       "      <td>0</td>\n",
       "      <td>1</td>\n",
       "      <td>255</td>\n",
       "      <td>255</td>\n",
       "      <td>255</td>\n",
       "    </tr>\n",
       "    <tr>\n",
       "      <th>2</th>\n",
       "      <td>0</td>\n",
       "      <td>2</td>\n",
       "      <td>255</td>\n",
       "      <td>255</td>\n",
       "      <td>255</td>\n",
       "    </tr>\n",
       "    <tr>\n",
       "      <th>3</th>\n",
       "      <td>0</td>\n",
       "      <td>3</td>\n",
       "      <td>255</td>\n",
       "      <td>255</td>\n",
       "      <td>255</td>\n",
       "    </tr>\n",
       "    <tr>\n",
       "      <th>4</th>\n",
       "      <td>0</td>\n",
       "      <td>4</td>\n",
       "      <td>255</td>\n",
       "      <td>255</td>\n",
       "      <td>255</td>\n",
       "    </tr>\n",
       "    <tr>\n",
       "      <th>5</th>\n",
       "      <td>0</td>\n",
       "      <td>5</td>\n",
       "      <td>255</td>\n",
       "      <td>255</td>\n",
       "      <td>255</td>\n",
       "    </tr>\n",
       "    <tr>\n",
       "      <th>6</th>\n",
       "      <td>0</td>\n",
       "      <td>6</td>\n",
       "      <td>255</td>\n",
       "      <td>255</td>\n",
       "      <td>255</td>\n",
       "    </tr>\n",
       "    <tr>\n",
       "      <th>7</th>\n",
       "      <td>0</td>\n",
       "      <td>7</td>\n",
       "      <td>255</td>\n",
       "      <td>255</td>\n",
       "      <td>255</td>\n",
       "    </tr>\n",
       "    <tr>\n",
       "      <th>8</th>\n",
       "      <td>0</td>\n",
       "      <td>8</td>\n",
       "      <td>255</td>\n",
       "      <td>255</td>\n",
       "      <td>255</td>\n",
       "    </tr>\n",
       "    <tr>\n",
       "      <th>9</th>\n",
       "      <td>0</td>\n",
       "      <td>9</td>\n",
       "      <td>255</td>\n",
       "      <td>255</td>\n",
       "      <td>255</td>\n",
       "    </tr>\n",
       "    <tr>\n",
       "      <th>10</th>\n",
       "      <td>0</td>\n",
       "      <td>10</td>\n",
       "      <td>255</td>\n",
       "      <td>255</td>\n",
       "      <td>255</td>\n",
       "    </tr>\n",
       "    <tr>\n",
       "      <th>11</th>\n",
       "      <td>0</td>\n",
       "      <td>11</td>\n",
       "      <td>255</td>\n",
       "      <td>255</td>\n",
       "      <td>255</td>\n",
       "    </tr>\n",
       "    <tr>\n",
       "      <th>12</th>\n",
       "      <td>0</td>\n",
       "      <td>12</td>\n",
       "      <td>255</td>\n",
       "      <td>255</td>\n",
       "      <td>255</td>\n",
       "    </tr>\n",
       "    <tr>\n",
       "      <th>13</th>\n",
       "      <td>0</td>\n",
       "      <td>13</td>\n",
       "      <td>255</td>\n",
       "      <td>255</td>\n",
       "      <td>255</td>\n",
       "    </tr>\n",
       "    <tr>\n",
       "      <th>14</th>\n",
       "      <td>0</td>\n",
       "      <td>14</td>\n",
       "      <td>255</td>\n",
       "      <td>255</td>\n",
       "      <td>255</td>\n",
       "    </tr>\n",
       "  </tbody>\n",
       "</table>\n",
       "</div>"
      ],
      "text/plain": [
       "    x   y    r    g    b\n",
       "0   0   0  255  255  255\n",
       "1   0   1  255  255  255\n",
       "2   0   2  255  255  255\n",
       "3   0   3  255  255  255\n",
       "4   0   4  255  255  255\n",
       "5   0   5  255  255  255\n",
       "6   0   6  255  255  255\n",
       "7   0   7  255  255  255\n",
       "8   0   8  255  255  255\n",
       "9   0   9  255  255  255\n",
       "10  0  10  255  255  255\n",
       "11  0  11  255  255  255\n",
       "12  0  12  255  255  255\n",
       "13  0  13  255  255  255\n",
       "14  0  14  255  255  255"
      ]
     },
     "execution_count": 15,
     "metadata": {},
     "output_type": "execute_result"
    }
   ],
   "source": [
    "df.head(15)"
   ]
  },
  {
   "cell_type": "markdown",
   "id": "4ce2572f-d792-4f38-a840-a940e09982df",
   "metadata": {},
   "source": [
    "## **Questão 2.** Através do código (incompleto) abaixo, somos capazes de plotar os tons de cor em valores de 0 a 255 para cada pixel sobre a _linha central_.\n",
    "\n",
    "```python\n",
    "from seaborn import lineplot\n",
    "col_0 = col[col['x'] == imed]\n",
    "lineplot(x= ,y= ,data= )\n",
    "```\n",
    "Passando os valores corretos para os argumentos `x`, `y` e `data`, as figuras abaixo podem ser reproduzidas. \n",
    "\n",
    " <center><img src=\"https://i.imgur.com/4qKQ8P4.png\" width=\"800\" height=\"700\"></center> \n",
    "\n",
    "\n",
    "Sabendo disso, marque a alternativa cuja correspondência entre figura e tons de cor aparecem na ordem correta:\n",
    "\n",
    "***A. \\(a\\): vermelho, \\(b\\): azul, \\(c\\): verde.***\n",
    "\n",
    "B. \\(a\\): azul, \\(b\\): vermelho, \\(c\\): verde.\n",
    "\n",
    "C. \\(a\\): verde, \\(b\\): vermelho, \\(c\\): azul.\n",
    "\n",
    "D. \\(a\\): azul, \\(b\\): verde, \\(c\\): vermelho.\n",
    "\n",
    "<div class=\"alert alert-block alert-success\">\n",
    "<b>Resposta: </b>A. (a): vermelho, (b): azul, (c): verde.\n",
    "</div>"
   ]
  },
  {
   "cell_type": "code",
   "execution_count": 150,
   "id": "b455bc7c-c010-471a-9967-a39542184701",
   "metadata": {},
   "outputs": [
    {
     "data": {
      "text/plain": [
       "Text(0.5, 1.0, 'Verde')"
      ]
     },
     "execution_count": 150,
     "metadata": {},
     "output_type": "execute_result"
    },
    {
     "data": {
      "image/png": "[encoded data removed]",
      "text/plain": [
       "<Figure size 1080x288 with 3 Axes>"
      ]
     },
     "metadata": {},
     "output_type": "display_data"
    }
   ],
   "source": [
    "import seaborn as sns\n",
    "import matplotlib.pyplot as plt\n",
    "sns.set(rc={'figure.figsize':(15,4)})\n",
    "df2 = df.query(\"x==1250\")\n",
    "\n",
    "fig, ax =plt.subplots(1,3)\n",
    "\n",
    "sns.lineplot(data=df2['r'],x=df2['y'],y=df2['r'],ax=ax[0]).set_title(\"Vermelho\",fontsize=14)\n",
    "sns.lineplot(data=df2['b'],x=df2['y'],y=df2['b'],ax=ax[1]).set_title(\"Azul\",fontsize=14)\n",
    "sns.lineplot(data=df2['g'],x=df2['y'],y=df2['g'],ax=ax[2]).set_title(\"Verde\",fontsize=14)\n",
    "\n"
   ]
  },
  {
   "cell_type": "markdown",
   "id": "184ec566-6f06-4fae-8ac3-2beb778d1e94",
   "metadata": {},
   "source": [
    "**Questão 3.** Defina como `colf` o _dataframe_ obtido a partir de `col` pela aplicação de um filtro sobre as tonalidades de cor dado pela seguinte expressão:\n",
    "\n",
    ">Se $r$, $g$ e $b$ são as tonalidades de vermelho, verde e azul, respectivamente, então, em `colf` deverão constar apenas valores tais que: \n",
    ">$50 \\le r \\le 200, \\ \\ 50 \\le g \\le 200, \\ \\ 50 \\le b \\le 200$.\n",
    "\n",
    "A partir disso, use a função `jointplot` do _seaborn_ para descobrir quais são as distribuições marginais do tipo Cor 1 x Cor 2 de tonalidades de cor plotadas abaixo.\n",
    "\n",
    " <center><img src=\"https://i.imgur.com/7AZMcEL.png\" width=\"800\" height=\"700\"></center> \n",
    "\n",
    "\n",
    "Assinale a alternativa correta: \n",
    "\n",
    "A. \\(a\\): verde x azul, \\(b\\): vermelho x verde, \\(c\\): azul x vermelho.\n",
    "\n",
    "B. \\(a\\): verde x azul, \\(b\\): vermelho x azul, \\(c\\): verde x vermelho.\n",
    "\n",
    "C. \\(a\\): vermelho x azul, \\(b\\): vermelho x verde, \\(c\\): azul x verde.\n",
    "\n",
    "***D. \\(a\\): vermelho x verde, \\(b\\): vermelho x azul, \\(c\\): azul x verde.***\n",
    "\n",
    "\n",
    "<div class=\"alert alert-block alert-success\">\n",
    "<b>Resposta:</b>D. (a): vermelho x verde, (b): vermelho x azul, (c): azul x verde.\n",
    "</div>"
   ]
  },
  {
   "cell_type": "code",
   "execution_count": 153,
   "id": "f354fa40-b672-4416-8d36-21f690c99996",
   "metadata": {},
   "outputs": [],
   "source": [
    "colf = df.query(\"50<=r<=200\").query(\"50<=g<=200\").query(\"50<=b<=200\")"
   ]
  },
  {
   "cell_type": "code",
   "execution_count": 169,
   "id": "fa1b070b-7c50-4be2-8dc6-7e07f581d32c",
   "metadata": {},
   "outputs": [
    {
     "data": {
      "text/plain": [
       "Text(0.5, 1.08, 'Vermelho x Verde')"
      ]
     },
     "execution_count": 169,
     "metadata": {},
     "output_type": "execute_result"
    },
    {
     "data": {
      "image/png": "[encoded data removed]",
      "text/plain": [
       "<Figure size 432x432 with 3 Axes>"
      ]
     },
     "metadata": {},
     "output_type": "display_data"
    }
   ],
   "source": [
    "sns.set_style(\"whitegrid\", {'axes.grid' : False})\n",
    "sns.jointplot(data=colf, x=\"r\", y=\"g\")\n"
   ]
  },
  {
   "cell_type": "code",
   "execution_count": 168,
   "id": "dbeb5107-fcee-477d-bfb8-785831f52c7f",
   "metadata": {},
   "outputs": [
    {
     "data": {
      "text/plain": [
       "Text(0.5, 1.08, 'Vermelho x Azul')"
      ]
     },
     "execution_count": 168,
     "metadata": {},
     "output_type": "execute_result"
    },
    {
     "data": {
      "image/png": "[encoded data removed]",
      "text/plain": [
       "<Figure size 432x432 with 3 Axes>"
      ]
     },
     "metadata": {},
     "output_type": "display_data"
    }
   ],
   "source": [
    "sns.jointplot(data=colf, x=\"r\", y=\"b\")\n",
    "plt.title(\"Vermelho x Azul\", y=1.08)"
   ]
  },
  {
   "cell_type": "code",
   "execution_count": 166,
   "id": "13d50be6-2ec7-412e-afd6-9f9c2f9ae6a7",
   "metadata": {},
   "outputs": [
    {
     "data": {
      "text/plain": [
       "Text(0.5, 1.08, 'Azul x Verde')"
      ]
     },
     "execution_count": 166,
     "metadata": {},
     "output_type": "execute_result"
    },
    {
     "data": {
      "image/png": "[encoded data removed]",
      "text/plain": [
       "<Figure size 432x432 with 3 Axes>"
      ]
     },
     "metadata": {},
     "output_type": "display_data"
    }
   ],
   "source": [
    "sns.jointplot(data=colf, x=\"b\", y=\"g\")\n",
    "plt.title(\"Azul x Verde\", y=1.08)"
   ]
  }
 ],
 "metadata": {
  "kernelspec": {
   "display_name": "Python 3",
   "language": "python",
   "name": "python3"
  },
  "language_info": {
   "codemirror_mode": {
    "name": "ipython",
    "version": 3
   },
   "file_extension": ".py",
   "mimetype": "text/x-python",
   "name": "python",
   "nbconvert_exporter": "python",
   "pygments_lexer": "ipython3",
   "version": "3.9.6"
  }
 },
 "nbformat": 4,
 "nbformat_minor": 5
}
