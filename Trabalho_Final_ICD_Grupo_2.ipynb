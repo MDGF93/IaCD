{
  "nbformat": 4,
  "nbformat_minor": 5,
  "metadata": {
    "kernelspec": {
      "display_name": "Python 3",
      "language": "python",
      "name": "python3"
    },
    "language_info": {
      "codemirror_mode": {
        "name": "ipython",
        "version": 3
      },
      "file_extension": ".py",
      "mimetype": "text/x-python",
      "name": "python",
      "nbconvert_exporter": "python",
      "pygments_lexer": "ipython3",
      "version": "3.9.6"
    },
    "colab": {
      "name": "Trabalho Final ICD Grupo 2.ipynb",
      "provenance": [],
      "collapsed_sections": [],
      "include_colab_link": true
    }
  },
  "cells": [
    {
      "cell_type": "markdown",
      "metadata": {
        "id": "view-in-github",
        "colab_type": "text"
      },
      "source": [
        "<a href=\"https://colab.research.google.com/github/MDGF93/IaCD/blob/main/Trabalho_Final_ICD_Grupo_2.ipynb\" target=\"_parent\"><img src=\"https://colab.research.google.com/assets/colab-badge.svg\" alt=\"Open In Colab\"/></a>"
      ]
    },
    {
      "cell_type": "markdown",
      "metadata": {
        "id": "dcbd90cf"
      },
      "source": [
        "# Relatório de Projeto Final - Grupo 2\n",
        "**Introdução à Ciência de Dados - Prof. Gustavo Oliveira - Semestre 2021/1**\n",
        "\n",
        "\n",
        "***Equipe:***\n",
        "- Ismael Alves Lima, ‘Ismael.alves@academico.ufpb.br’\n",
        "- Jansen Cruz de Souza, ‘jansen.souza@gmail.com’\n",
        "- Marcos Dantas Guimarães Filho, ‘mdgf@academico.ufpb.br’\n",
        "- Ramon Azevedo dos Santos Cavalcanti, ‘ramontolete12@gmail.com’\n",
        "- Renan Cavalcanti Florentino ‘renanflorentino2011@gmail.com’\n",
        "\n",
        "\n"
      ],
      "id": "dcbd90cf"
    },
    {
      "cell_type": "markdown",
      "metadata": {
        "id": "78cc3fec-4391-4f6e-ba32-786cc64b2bc2"
      },
      "source": [
        "## Resumo\n",
        "\n",
        "Este relatório tem a finalidade de analisar os dados referente a movimentação do gás natural nas regiões do Brasil. A ideia seria mapear o nível de produtividade desse insumo principalmente na região Nordeste, já que o investimento em gasodutos veio à tona, devido também à atual crise elétrica. Aplicamos a técnica de heatmap para destacar o potencial para produção de gás natural nas regiões do Brasil\n",
        "\n",
        "\n"
      ],
      "id": "78cc3fec-4391-4f6e-ba32-786cc64b2bc2"
    },
    {
      "cell_type": "markdown",
      "metadata": {
        "id": "9a82467a-2cd3-4b34-a979-4d61996af0d5"
      },
      "source": [
        "## Descrição do problema\n",
        "\n",
        "No Brasil, com a consequente crise de energia elétrica , tomou impulso um grande esforço do governo brasileiro para incrementar a expansão da potência instalada através de usinas termelétricas alimentadas por gás natural (PRAÇA, 2003).\n",
        "\n",
        "\n",
        "Em geral, as perspectivas para a utilização plena e racional do gás natural no mundo são bastante promissoras, pois é possível obter alta eficiência energética utilizando sistemas de cogeração, produzindo conjuntamente calor (ou frio) e energia. Além disso, diversas outras aplicações no setor veicular, industrial e residencial podem ser incrementadas, configurando-se nos chamados “usos nobres” do gás natural (SANTOS, 2002).\n",
        "\n",
        "\n",
        "A questão central que buscamos responder é: *podemos construir um mapa de calor sobre as regiões do Brasil pelo qual possamos, rapidamente, visualizar o potencial de geração de gás natural no Nordeste?* *Podemos enxergar quais seriam os indices de produtividade, disponibilidade e consumo na região do Nordeste ao longo dos anos?*"
      ],
      "id": "9a82467a-2cd3-4b34-a979-4d61996af0d5"
    },
    {
      "cell_type": "markdown",
      "metadata": {
        "id": "13aeb66a-541e-4a29-b09a-204dd2c7ca80"
      },
      "source": [
        "## Metodologia de solução"
      ],
      "id": "13aeb66a-541e-4a29-b09a-204dd2c7ca80"
    },
    {
      "cell_type": "markdown",
      "metadata": {
        "id": "81026a6c-9b0a-45a2-9cbc-81139b31b41a"
      },
      "source": [
        "Para resolver o problema proposto, usamos a seguinte metodologia:\n",
        "\n",
        "\n",
        "1.  Coleta de dados no site da Agência Nacional do Petróleo, Gás Natural e Biocombustíveis (ANP), órgão regulador das atividades que integram as indústrias de petróleo, gás natural e de biocombustíveis no Brasil. Abaixo estão os códigos que foram utilizados para realizar a coleta dos arquivos de *dataframe* diretamente do site da ANP.\n"
      ],
      "id": "81026a6c-9b0a-45a2-9cbc-81139b31b41a"
    },
    {
      "cell_type": "code",
      "metadata": {
        "id": "eac14920"
      },
      "source": [
        "import pandas as pd\n",
        "df  = pd.read_csv(\"https://www.gov.br/anp/pt-br/centrais-de-conteudo/dados-abertos/arquivos/ppgn-el/consumo-proprio-gn1000m3-2000-2021.csv\", sep=\";\")\n",
        "df2 = pd.read_csv(\"https://www.gov.br/anp/pt-br/centrais-de-conteudo/dados-abertos/arquivos/ppgn-el/producao-gas-natural-1000m3-1997-2021.csv\", sep=\";\")\n",
        "df3 = pd.read_csv(\"https://www.gov.br/anp/pt-br/centrais-de-conteudo/dados-abertos/arquivos/ppgn-el/gn-disponivel-1000m3-2000-2021.csv\", sep=\";\")"
      ],
      "id": "eac14920",
      "execution_count": null,
      "outputs": []
    },
    {
      "cell_type": "markdown",
      "metadata": {
        "id": "5042cab9"
      },
      "source": [
        "2.  Limpeza e processamento dos dados utilizando os módulos pandas e numpy para construir DataFrames contendo os parâmetros mais relevantes de análise. A seguir, mostramos como foi realizada a limpeza dos dados colhidos:\n"
      ],
      "id": "5042cab9"
    },
    {
      "cell_type": "markdown",
      "metadata": {
        "id": "3866f0f4"
      },
      "source": [
        "Trocando as vírgulas por ponto nos valores númericos, pois o Pandas não funcionaria corretamente caso seja utilizado vírgulas como separador decimal."
      ],
      "id": "3866f0f4"
    },
    {
      "cell_type": "code",
      "metadata": {
        "id": "1304cbf4"
      },
      "source": [
        "for idx in range(len(df)):\n",
        "    df.at[idx,\"CONSUMO\"] = df.at[idx,\"CONSUMO\"].replace(\",\",\".\")\n",
        "for idx in range(len(df2)):\n",
        "    df2.at[idx,\"PRODUÇÃO\"] = df2.at[idx,\"PRODUÇÃO\"].replace(\",\",\".\")\n",
        "for idx in range(len(df3)):\n",
        "    df3.at[idx,\"DISPONÍVEL\"] = df3.at[idx,\"DISPONÍVEL\"].replace(\",\",\".\")\n"
      ],
      "id": "1304cbf4",
      "execution_count": null,
      "outputs": []
    },
    {
      "cell_type": "markdown",
      "metadata": {
        "id": "b487d7a5"
      },
      "source": [
        "Renomeando as colunas para que seja possível utilizar o método `.query()` do Pandas para realizar a filtragem dos dados, pois alguns caracteres presentes na língua portuguesa não são suportados pelo método `.query()`."
      ],
      "id": "b487d7a5"
    },
    {
      "cell_type": "code",
      "metadata": {
        "id": "236c2506"
      },
      "source": [
        "df = df.rename(columns={\"ANO\":\"ano\", \"MÊS\":\"mes\", \"GRANDE REGIÃO\":\"granderegiao\", \"UNIDADE DA FEDERAÇÃO\":\"unidadedafederacao\",\n",
        "          \"PRODUTO\":\"produto\",\"LOCALIZAÇÃO\":\"localizacao\", \"CONSUMO\":\"consumo\"})\n",
        "df2 = df2.rename(columns={\"ANO\":\"ano\", \"MÊS\":\"mes\", \"GRANDE REGIÃO\":\"granderegiao\", \"UNIDADE DA FEDERAÇÃO\":\"unidadedafederacao\",\n",
        "          \"PRODUTO\":\"produto\",\"LOCALIZAÇÃO\":\"localizacao\", \"PRODUÇÃO\":\"producao\"})\n",
        "df3 = df3.rename(columns={\"ANO\":\"ano\", \"MÊS\":\"mes\", \"GRANDE REGIÃO\":\"granderegiao\", \"UNIDADE DA FEDERAÇÃO\":\"unidadedafederacao\",\n",
        "          \"PRODUTO\":\"produto\",\"LOCALIZAÇÃO\":\"localizacao\", \"DISPONÍVEL\":\"disponivel\"})"
      ],
      "id": "236c2506",
      "execution_count": null,
      "outputs": []
    },
    {
      "cell_type": "markdown",
      "metadata": {
        "id": "b6f83e83"
      },
      "source": [
        "Convertendo o `datatype` das colunas em númerico."
      ],
      "id": "b6f83e83"
    },
    {
      "cell_type": "code",
      "metadata": {
        "id": "c6e0836e"
      },
      "source": [
        "df[\"consumo\"]     = pd.to_numeric(df[\"consumo\"])\n",
        "df2[\"producao\"]   = pd.to_numeric(df2[\"producao\"])\n",
        "df3[\"disponivel\"] = pd.to_numeric(df3[\"disponivel\"])"
      ],
      "id": "c6e0836e",
      "execution_count": null,
      "outputs": []
    },
    {
      "cell_type": "markdown",
      "metadata": {
        "id": "55fa8462-ce2d-4e2d-9557-f36a19ef3711"
      },
      "source": [
        "### Dataframes de métricas notáveis\n",
        "\n",
        "A seguir, mostramos um recorte de um dos *DataFrames* apresentando a média de ***consumo*** de Gás Natural, no período de 2019 até 2021, de cada região do Brasil."
      ],
      "id": "55fa8462-ce2d-4e2d-9557-f36a19ef3711"
    },
    {
      "cell_type": "code",
      "metadata": {
        "id": "22e98b53",
        "colab": {
          "base_uri": "https://localhost:8080/",
          "height": 457
        },
        "outputId": "eaf2dbd9-f118-4cea-e4a8-e338bf8d52fb"
      },
      "source": [
        "df.query(\"ano >= 2019\").groupby([\"granderegiao\", \"ano\"]).mean()"
      ],
      "id": "22e98b53",
      "execution_count": null,
      "outputs": [
        {
          "output_type": "execute_result",
          "data": {
            "text/html": [
              "<div>\n",
              "<style scoped>\n",
              "    .dataframe tbody tr th:only-of-type {\n",
              "        vertical-align: middle;\n",
              "    }\n",
              "\n",
              "    .dataframe tbody tr th {\n",
              "        vertical-align: top;\n",
              "    }\n",
              "\n",
              "    .dataframe thead th {\n",
              "        text-align: right;\n",
              "    }\n",
              "</style>\n",
              "<table border=\"1\" class=\"dataframe\">\n",
              "  <thead>\n",
              "    <tr style=\"text-align: right;\">\n",
              "      <th></th>\n",
              "      <th></th>\n",
              "      <th>consumo</th>\n",
              "    </tr>\n",
              "    <tr>\n",
              "      <th>granderegiao</th>\n",
              "      <th>ano</th>\n",
              "      <th></th>\n",
              "    </tr>\n",
              "  </thead>\n",
              "  <tbody>\n",
              "    <tr>\n",
              "      <th rowspan=\"3\" valign=\"top\">REGIÃO NORDESTE</th>\n",
              "      <th>2019</th>\n",
              "      <td>2325.404867</td>\n",
              "    </tr>\n",
              "    <tr>\n",
              "      <th>2020</th>\n",
              "      <td>1314.320738</td>\n",
              "    </tr>\n",
              "    <tr>\n",
              "      <th>2021</th>\n",
              "      <td>1116.265929</td>\n",
              "    </tr>\n",
              "    <tr>\n",
              "      <th rowspan=\"3\" valign=\"top\">REGIÃO NORTE</th>\n",
              "      <th>2019</th>\n",
              "      <td>7352.223400</td>\n",
              "    </tr>\n",
              "    <tr>\n",
              "      <th>2020</th>\n",
              "      <td>6711.636611</td>\n",
              "    </tr>\n",
              "    <tr>\n",
              "      <th>2021</th>\n",
              "      <td>6479.674305</td>\n",
              "    </tr>\n",
              "    <tr>\n",
              "      <th rowspan=\"3\" valign=\"top\">REGIÃO SUDESTE</th>\n",
              "      <th>2019</th>\n",
              "      <td>64717.955245</td>\n",
              "    </tr>\n",
              "    <tr>\n",
              "      <th>2020</th>\n",
              "      <td>69479.466330</td>\n",
              "    </tr>\n",
              "    <tr>\n",
              "      <th>2021</th>\n",
              "      <td>68165.087374</td>\n",
              "    </tr>\n",
              "    <tr>\n",
              "      <th rowspan=\"3\" valign=\"top\">REGIÃO SUL</th>\n",
              "      <th>2019</th>\n",
              "      <td>0.000000</td>\n",
              "    </tr>\n",
              "    <tr>\n",
              "      <th>2020</th>\n",
              "      <td>0.000000</td>\n",
              "    </tr>\n",
              "    <tr>\n",
              "      <th>2021</th>\n",
              "      <td>0.000000</td>\n",
              "    </tr>\n",
              "  </tbody>\n",
              "</table>\n",
              "</div>"
            ],
            "text/plain": [
              "                           consumo\n",
              "granderegiao    ano               \n",
              "REGIÃO NORDESTE 2019   2325.404867\n",
              "                2020   1314.320738\n",
              "                2021   1116.265929\n",
              "REGIÃO NORTE    2019   7352.223400\n",
              "                2020   6711.636611\n",
              "                2021   6479.674305\n",
              "REGIÃO SUDESTE  2019  64717.955245\n",
              "                2020  69479.466330\n",
              "                2021  68165.087374\n",
              "REGIÃO SUL      2019      0.000000\n",
              "                2020      0.000000\n",
              "                2021      0.000000"
            ]
          },
          "metadata": {},
          "execution_count": 5
        }
      ]
    },
    {
      "cell_type": "markdown",
      "metadata": {
        "id": "e5eb27bf"
      },
      "source": [
        "\n",
        "A seguir, mostramos um recorte de um dos *DataFrames* apresentando a média de ***produção*** de Gás Natural, no período de 2019 até 2021, de cada região do Brasil."
      ],
      "id": "e5eb27bf"
    },
    {
      "cell_type": "code",
      "metadata": {
        "id": "e911e99b",
        "colab": {
          "base_uri": "https://localhost:8080/",
          "height": 457
        },
        "outputId": "7d57a90f-cc52-4408-d2fe-ad95669f9984"
      },
      "source": [
        "df2.query(\"ano >= 2019\").groupby([\"granderegiao\", \"ano\"]).mean()"
      ],
      "id": "e911e99b",
      "execution_count": null,
      "outputs": [
        {
          "output_type": "execute_result",
          "data": {
            "text/html": [
              "<div>\n",
              "<style scoped>\n",
              "    .dataframe tbody tr th:only-of-type {\n",
              "        vertical-align: middle;\n",
              "    }\n",
              "\n",
              "    .dataframe tbody tr th {\n",
              "        vertical-align: top;\n",
              "    }\n",
              "\n",
              "    .dataframe thead th {\n",
              "        text-align: right;\n",
              "    }\n",
              "</style>\n",
              "<table border=\"1\" class=\"dataframe\">\n",
              "  <thead>\n",
              "    <tr style=\"text-align: right;\">\n",
              "      <th></th>\n",
              "      <th></th>\n",
              "      <th>producao</th>\n",
              "    </tr>\n",
              "    <tr>\n",
              "      <th>granderegiao</th>\n",
              "      <th>ano</th>\n",
              "      <th></th>\n",
              "    </tr>\n",
              "  </thead>\n",
              "  <tbody>\n",
              "    <tr>\n",
              "      <th rowspan=\"3\" valign=\"top\">REGIÃO NORDESTE</th>\n",
              "      <th>2019</th>\n",
              "      <td>33340.980170</td>\n",
              "    </tr>\n",
              "    <tr>\n",
              "      <th>2020</th>\n",
              "      <td>25330.561360</td>\n",
              "    </tr>\n",
              "    <tr>\n",
              "      <th>2021</th>\n",
              "      <td>32204.700074</td>\n",
              "    </tr>\n",
              "    <tr>\n",
              "      <th rowspan=\"3\" valign=\"top\">REGIÃO NORTE</th>\n",
              "      <th>2019</th>\n",
              "      <td>232128.311429</td>\n",
              "    </tr>\n",
              "    <tr>\n",
              "      <th>2020</th>\n",
              "      <td>206549.031754</td>\n",
              "    </tr>\n",
              "    <tr>\n",
              "      <th>2021</th>\n",
              "      <td>205161.616080</td>\n",
              "    </tr>\n",
              "    <tr>\n",
              "      <th rowspan=\"3\" valign=\"top\">REGIÃO SUDESTE</th>\n",
              "      <th>2019</th>\n",
              "      <td>477111.823979</td>\n",
              "    </tr>\n",
              "    <tr>\n",
              "      <th>2020</th>\n",
              "      <td>528399.033300</td>\n",
              "    </tr>\n",
              "    <tr>\n",
              "      <th>2021</th>\n",
              "      <td>544326.443234</td>\n",
              "    </tr>\n",
              "    <tr>\n",
              "      <th rowspan=\"3\" valign=\"top\">REGIÃO SUL</th>\n",
              "      <th>2019</th>\n",
              "      <td>0.000000</td>\n",
              "    </tr>\n",
              "    <tr>\n",
              "      <th>2020</th>\n",
              "      <td>0.000000</td>\n",
              "    </tr>\n",
              "    <tr>\n",
              "      <th>2021</th>\n",
              "      <td>0.000000</td>\n",
              "    </tr>\n",
              "  </tbody>\n",
              "</table>\n",
              "</div>"
            ],
            "text/plain": [
              "                           producao\n",
              "granderegiao    ano                \n",
              "REGIÃO NORDESTE 2019   33340.980170\n",
              "                2020   25330.561360\n",
              "                2021   32204.700074\n",
              "REGIÃO NORTE    2019  232128.311429\n",
              "                2020  206549.031754\n",
              "                2021  205161.616080\n",
              "REGIÃO SUDESTE  2019  477111.823979\n",
              "                2020  528399.033300\n",
              "                2021  544326.443234\n",
              "REGIÃO SUL      2019       0.000000\n",
              "                2020       0.000000\n",
              "                2021       0.000000"
            ]
          },
          "metadata": {},
          "execution_count": 6
        }
      ]
    },
    {
      "cell_type": "markdown",
      "metadata": {
        "id": "0b7d4b71"
      },
      "source": [
        "\n",
        "A seguir, mostramos um recorte de um dos *DataFrames* apresentando a média de ***disponibilidade*** de Gás Natural, no período de 2019 até 2021, de cada região do Brasil."
      ],
      "id": "0b7d4b71"
    },
    {
      "cell_type": "code",
      "metadata": {
        "id": "1c9a5416",
        "colab": {
          "base_uri": "https://localhost:8080/",
          "height": 457
        },
        "outputId": "3331b2f2-dc75-4564-ad96-86b60ccfe523"
      },
      "source": [
        "df3.query(\"ano >= 2019\").groupby([\"granderegiao\", \"ano\"]).mean()"
      ],
      "id": "1c9a5416",
      "execution_count": null,
      "outputs": [
        {
          "output_type": "execute_result",
          "data": {
            "text/html": [
              "<div>\n",
              "<style scoped>\n",
              "    .dataframe tbody tr th:only-of-type {\n",
              "        vertical-align: middle;\n",
              "    }\n",
              "\n",
              "    .dataframe tbody tr th {\n",
              "        vertical-align: top;\n",
              "    }\n",
              "\n",
              "    .dataframe thead th {\n",
              "        text-align: right;\n",
              "    }\n",
              "</style>\n",
              "<table border=\"1\" class=\"dataframe\">\n",
              "  <thead>\n",
              "    <tr style=\"text-align: right;\">\n",
              "      <th></th>\n",
              "      <th></th>\n",
              "      <th>disponivel</th>\n",
              "    </tr>\n",
              "    <tr>\n",
              "      <th>granderegiao</th>\n",
              "      <th>ano</th>\n",
              "      <th></th>\n",
              "    </tr>\n",
              "  </thead>\n",
              "  <tbody>\n",
              "    <tr>\n",
              "      <th rowspan=\"3\" valign=\"top\">REGIÃO NORDESTE</th>\n",
              "      <th>2019</th>\n",
              "      <td>26124.524608</td>\n",
              "    </tr>\n",
              "    <tr>\n",
              "      <th>2020</th>\n",
              "      <td>21731.023930</td>\n",
              "    </tr>\n",
              "    <tr>\n",
              "      <th>2021</th>\n",
              "      <td>29349.208711</td>\n",
              "    </tr>\n",
              "    <tr>\n",
              "      <th rowspan=\"3\" valign=\"top\">REGIÃO NORTE</th>\n",
              "      <th>2019</th>\n",
              "      <td>101046.188583</td>\n",
              "    </tr>\n",
              "    <tr>\n",
              "      <th>2020</th>\n",
              "      <td>105844.389313</td>\n",
              "    </tr>\n",
              "    <tr>\n",
              "      <th>2021</th>\n",
              "      <td>109344.774410</td>\n",
              "    </tr>\n",
              "    <tr>\n",
              "      <th rowspan=\"3\" valign=\"top\">REGIÃO SUDESTE</th>\n",
              "      <th>2019</th>\n",
              "      <td>222219.156236</td>\n",
              "    </tr>\n",
              "    <tr>\n",
              "      <th>2020</th>\n",
              "      <td>199733.034190</td>\n",
              "    </tr>\n",
              "    <tr>\n",
              "      <th>2021</th>\n",
              "      <td>182393.537868</td>\n",
              "    </tr>\n",
              "    <tr>\n",
              "      <th rowspan=\"3\" valign=\"top\">REGIÃO SUL</th>\n",
              "      <th>2019</th>\n",
              "      <td>0.000000</td>\n",
              "    </tr>\n",
              "    <tr>\n",
              "      <th>2020</th>\n",
              "      <td>0.000000</td>\n",
              "    </tr>\n",
              "    <tr>\n",
              "      <th>2021</th>\n",
              "      <td>0.000000</td>\n",
              "    </tr>\n",
              "  </tbody>\n",
              "</table>\n",
              "</div>"
            ],
            "text/plain": [
              "                         disponivel\n",
              "granderegiao    ano                \n",
              "REGIÃO NORDESTE 2019   26124.524608\n",
              "                2020   21731.023930\n",
              "                2021   29349.208711\n",
              "REGIÃO NORTE    2019  101046.188583\n",
              "                2020  105844.389313\n",
              "                2021  109344.774410\n",
              "REGIÃO SUDESTE  2019  222219.156236\n",
              "                2020  199733.034190\n",
              "                2021  182393.537868\n",
              "REGIÃO SUL      2019       0.000000\n",
              "                2020       0.000000\n",
              "                2021       0.000000"
            ]
          },
          "metadata": {},
          "execution_count": 7
        }
      ]
    },
    {
      "cell_type": "code",
      "metadata": {
        "id": "7ad08da6",
        "colab": {
          "base_uri": "https://localhost:8080/"
        },
        "outputId": "84569741-642e-4597-9310-fea89e08a80e"
      },
      "source": [
        "df['localizacao']"
      ],
      "id": "7ad08da6",
      "execution_count": null,
      "outputs": [
        {
          "output_type": "execute_result",
          "data": {
            "text/plain": [
              "0         MAR\n",
              "1         MAR\n",
              "2         MAR\n",
              "3         MAR\n",
              "4         MAR\n",
              "        ...  \n",
              "5740    TERRA\n",
              "5741    TERRA\n",
              "5742    TERRA\n",
              "5743    TERRA\n",
              "5744    TERRA\n",
              "Name: localizacao, Length: 5745, dtype: object"
            ]
          },
          "metadata": {},
          "execution_count": 8
        }
      ]
    },
    {
      "cell_type": "code",
      "metadata": {
        "scrolled": false,
        "id": "3d084d7c",
        "colab": {
          "base_uri": "https://localhost:8080/",
          "height": 424
        },
        "outputId": "b8e06c89-e451-4123-befc-3b572e596a22"
      },
      "source": [
        "df2"
      ],
      "id": "3d084d7c",
      "execution_count": null,
      "outputs": [
        {
          "output_type": "execute_result",
          "data": {
            "text/html": [
              "<div>\n",
              "<style scoped>\n",
              "    .dataframe tbody tr th:only-of-type {\n",
              "        vertical-align: middle;\n",
              "    }\n",
              "\n",
              "    .dataframe tbody tr th {\n",
              "        vertical-align: top;\n",
              "    }\n",
              "\n",
              "    .dataframe thead th {\n",
              "        text-align: right;\n",
              "    }\n",
              "</style>\n",
              "<table border=\"1\" class=\"dataframe\">\n",
              "  <thead>\n",
              "    <tr style=\"text-align: right;\">\n",
              "      <th></th>\n",
              "      <th>ano</th>\n",
              "      <th>mes</th>\n",
              "      <th>granderegiao</th>\n",
              "      <th>unidadedafederacao</th>\n",
              "      <th>produto</th>\n",
              "      <th>localizacao</th>\n",
              "      <th>producao</th>\n",
              "    </tr>\n",
              "  </thead>\n",
              "  <tbody>\n",
              "    <tr>\n",
              "      <th>0</th>\n",
              "      <td>1997</td>\n",
              "      <td>JAN</td>\n",
              "      <td>REGIÃO SUDESTE</td>\n",
              "      <td>RIO DE JANEIRO</td>\n",
              "      <td>GÁS NATURAL</td>\n",
              "      <td>MAR</td>\n",
              "      <td>325655.00000</td>\n",
              "    </tr>\n",
              "    <tr>\n",
              "      <th>1</th>\n",
              "      <td>1997</td>\n",
              "      <td>FEV</td>\n",
              "      <td>REGIÃO SUDESTE</td>\n",
              "      <td>RIO DE JANEIRO</td>\n",
              "      <td>GÁS NATURAL</td>\n",
              "      <td>MAR</td>\n",
              "      <td>330876.00000</td>\n",
              "    </tr>\n",
              "    <tr>\n",
              "      <th>2</th>\n",
              "      <td>1997</td>\n",
              "      <td>MAR</td>\n",
              "      <td>REGIÃO SUDESTE</td>\n",
              "      <td>RIO DE JANEIRO</td>\n",
              "      <td>GÁS NATURAL</td>\n",
              "      <td>MAR</td>\n",
              "      <td>346070.00000</td>\n",
              "    </tr>\n",
              "    <tr>\n",
              "      <th>3</th>\n",
              "      <td>1997</td>\n",
              "      <td>ABR</td>\n",
              "      <td>REGIÃO SUDESTE</td>\n",
              "      <td>RIO DE JANEIRO</td>\n",
              "      <td>GÁS NATURAL</td>\n",
              "      <td>MAR</td>\n",
              "      <td>323297.00000</td>\n",
              "    </tr>\n",
              "    <tr>\n",
              "      <th>4</th>\n",
              "      <td>1997</td>\n",
              "      <td>MAI</td>\n",
              "      <td>REGIÃO SUDESTE</td>\n",
              "      <td>RIO DE JANEIRO</td>\n",
              "      <td>GÁS NATURAL</td>\n",
              "      <td>MAR</td>\n",
              "      <td>309287.00000</td>\n",
              "    </tr>\n",
              "    <tr>\n",
              "      <th>...</th>\n",
              "      <td>...</td>\n",
              "      <td>...</td>\n",
              "      <td>...</td>\n",
              "      <td>...</td>\n",
              "      <td>...</td>\n",
              "      <td>...</td>\n",
              "      <td>...</td>\n",
              "    </tr>\n",
              "    <tr>\n",
              "      <th>6472</th>\n",
              "      <td>2021</td>\n",
              "      <td>JUN</td>\n",
              "      <td>REGIÃO SUDESTE</td>\n",
              "      <td>ESPÍRITO SANTO</td>\n",
              "      <td>GÁS NATURAL</td>\n",
              "      <td>TERRA</td>\n",
              "      <td>2011.64982</td>\n",
              "    </tr>\n",
              "    <tr>\n",
              "      <th>6473</th>\n",
              "      <td>2021</td>\n",
              "      <td>JUL</td>\n",
              "      <td>REGIÃO SUDESTE</td>\n",
              "      <td>ESPÍRITO SANTO</td>\n",
              "      <td>GÁS NATURAL</td>\n",
              "      <td>TERRA</td>\n",
              "      <td>2252.51107</td>\n",
              "    </tr>\n",
              "    <tr>\n",
              "      <th>6474</th>\n",
              "      <td>2021</td>\n",
              "      <td>AGO</td>\n",
              "      <td>REGIÃO SUDESTE</td>\n",
              "      <td>ESPÍRITO SANTO</td>\n",
              "      <td>GÁS NATURAL</td>\n",
              "      <td>TERRA</td>\n",
              "      <td>1894.26625</td>\n",
              "    </tr>\n",
              "    <tr>\n",
              "      <th>6475</th>\n",
              "      <td>2021</td>\n",
              "      <td>SET</td>\n",
              "      <td>REGIÃO SUDESTE</td>\n",
              "      <td>ESPÍRITO SANTO</td>\n",
              "      <td>GÁS NATURAL</td>\n",
              "      <td>TERRA</td>\n",
              "      <td>1795.55080</td>\n",
              "    </tr>\n",
              "    <tr>\n",
              "      <th>6476</th>\n",
              "      <td>2021</td>\n",
              "      <td>OUT</td>\n",
              "      <td>REGIÃO SUDESTE</td>\n",
              "      <td>ESPÍRITO SANTO</td>\n",
              "      <td>GÁS NATURAL</td>\n",
              "      <td>TERRA</td>\n",
              "      <td>1764.21733</td>\n",
              "    </tr>\n",
              "  </tbody>\n",
              "</table>\n",
              "<p>6477 rows × 7 columns</p>\n",
              "</div>"
            ],
            "text/plain": [
              "       ano  mes    granderegiao  ...      produto localizacao      producao\n",
              "0     1997  JAN  REGIÃO SUDESTE  ...  GÁS NATURAL         MAR  325655.00000\n",
              "1     1997  FEV  REGIÃO SUDESTE  ...  GÁS NATURAL         MAR  330876.00000\n",
              "2     1997  MAR  REGIÃO SUDESTE  ...  GÁS NATURAL         MAR  346070.00000\n",
              "3     1997  ABR  REGIÃO SUDESTE  ...  GÁS NATURAL         MAR  323297.00000\n",
              "4     1997  MAI  REGIÃO SUDESTE  ...  GÁS NATURAL         MAR  309287.00000\n",
              "...    ...  ...             ...  ...          ...         ...           ...\n",
              "6472  2021  JUN  REGIÃO SUDESTE  ...  GÁS NATURAL       TERRA    2011.64982\n",
              "6473  2021  JUL  REGIÃO SUDESTE  ...  GÁS NATURAL       TERRA    2252.51107\n",
              "6474  2021  AGO  REGIÃO SUDESTE  ...  GÁS NATURAL       TERRA    1894.26625\n",
              "6475  2021  SET  REGIÃO SUDESTE  ...  GÁS NATURAL       TERRA    1795.55080\n",
              "6476  2021  OUT  REGIÃO SUDESTE  ...  GÁS NATURAL       TERRA    1764.21733\n",
              "\n",
              "[6477 rows x 7 columns]"
            ]
          },
          "metadata": {},
          "execution_count": 9
        }
      ]
    },
    {
      "cell_type": "code",
      "metadata": {
        "id": "3e9a4396",
        "colab": {
          "base_uri": "https://localhost:8080/",
          "height": 424
        },
        "outputId": "1ab1e89c-0ace-436c-f93e-e2597db6b08d"
      },
      "source": [
        "df2.style.set_caption(\"Produção\")\n",
        "df2"
      ],
      "id": "3e9a4396",
      "execution_count": null,
      "outputs": [
        {
          "output_type": "execute_result",
          "data": {
            "text/html": [
              "<div>\n",
              "<style scoped>\n",
              "    .dataframe tbody tr th:only-of-type {\n",
              "        vertical-align: middle;\n",
              "    }\n",
              "\n",
              "    .dataframe tbody tr th {\n",
              "        vertical-align: top;\n",
              "    }\n",
              "\n",
              "    .dataframe thead th {\n",
              "        text-align: right;\n",
              "    }\n",
              "</style>\n",
              "<table border=\"1\" class=\"dataframe\">\n",
              "  <thead>\n",
              "    <tr style=\"text-align: right;\">\n",
              "      <th></th>\n",
              "      <th>ano</th>\n",
              "      <th>mes</th>\n",
              "      <th>granderegiao</th>\n",
              "      <th>unidadedafederacao</th>\n",
              "      <th>produto</th>\n",
              "      <th>localizacao</th>\n",
              "      <th>producao</th>\n",
              "    </tr>\n",
              "  </thead>\n",
              "  <tbody>\n",
              "    <tr>\n",
              "      <th>0</th>\n",
              "      <td>1997</td>\n",
              "      <td>JAN</td>\n",
              "      <td>REGIÃO SUDESTE</td>\n",
              "      <td>RIO DE JANEIRO</td>\n",
              "      <td>GÁS NATURAL</td>\n",
              "      <td>MAR</td>\n",
              "      <td>325655.00000</td>\n",
              "    </tr>\n",
              "    <tr>\n",
              "      <th>1</th>\n",
              "      <td>1997</td>\n",
              "      <td>FEV</td>\n",
              "      <td>REGIÃO SUDESTE</td>\n",
              "      <td>RIO DE JANEIRO</td>\n",
              "      <td>GÁS NATURAL</td>\n",
              "      <td>MAR</td>\n",
              "      <td>330876.00000</td>\n",
              "    </tr>\n",
              "    <tr>\n",
              "      <th>2</th>\n",
              "      <td>1997</td>\n",
              "      <td>MAR</td>\n",
              "      <td>REGIÃO SUDESTE</td>\n",
              "      <td>RIO DE JANEIRO</td>\n",
              "      <td>GÁS NATURAL</td>\n",
              "      <td>MAR</td>\n",
              "      <td>346070.00000</td>\n",
              "    </tr>\n",
              "    <tr>\n",
              "      <th>3</th>\n",
              "      <td>1997</td>\n",
              "      <td>ABR</td>\n",
              "      <td>REGIÃO SUDESTE</td>\n",
              "      <td>RIO DE JANEIRO</td>\n",
              "      <td>GÁS NATURAL</td>\n",
              "      <td>MAR</td>\n",
              "      <td>323297.00000</td>\n",
              "    </tr>\n",
              "    <tr>\n",
              "      <th>4</th>\n",
              "      <td>1997</td>\n",
              "      <td>MAI</td>\n",
              "      <td>REGIÃO SUDESTE</td>\n",
              "      <td>RIO DE JANEIRO</td>\n",
              "      <td>GÁS NATURAL</td>\n",
              "      <td>MAR</td>\n",
              "      <td>309287.00000</td>\n",
              "    </tr>\n",
              "    <tr>\n",
              "      <th>...</th>\n",
              "      <td>...</td>\n",
              "      <td>...</td>\n",
              "      <td>...</td>\n",
              "      <td>...</td>\n",
              "      <td>...</td>\n",
              "      <td>...</td>\n",
              "      <td>...</td>\n",
              "    </tr>\n",
              "    <tr>\n",
              "      <th>6472</th>\n",
              "      <td>2021</td>\n",
              "      <td>JUN</td>\n",
              "      <td>REGIÃO SUDESTE</td>\n",
              "      <td>ESPÍRITO SANTO</td>\n",
              "      <td>GÁS NATURAL</td>\n",
              "      <td>TERRA</td>\n",
              "      <td>2011.64982</td>\n",
              "    </tr>\n",
              "    <tr>\n",
              "      <th>6473</th>\n",
              "      <td>2021</td>\n",
              "      <td>JUL</td>\n",
              "      <td>REGIÃO SUDESTE</td>\n",
              "      <td>ESPÍRITO SANTO</td>\n",
              "      <td>GÁS NATURAL</td>\n",
              "      <td>TERRA</td>\n",
              "      <td>2252.51107</td>\n",
              "    </tr>\n",
              "    <tr>\n",
              "      <th>6474</th>\n",
              "      <td>2021</td>\n",
              "      <td>AGO</td>\n",
              "      <td>REGIÃO SUDESTE</td>\n",
              "      <td>ESPÍRITO SANTO</td>\n",
              "      <td>GÁS NATURAL</td>\n",
              "      <td>TERRA</td>\n",
              "      <td>1894.26625</td>\n",
              "    </tr>\n",
              "    <tr>\n",
              "      <th>6475</th>\n",
              "      <td>2021</td>\n",
              "      <td>SET</td>\n",
              "      <td>REGIÃO SUDESTE</td>\n",
              "      <td>ESPÍRITO SANTO</td>\n",
              "      <td>GÁS NATURAL</td>\n",
              "      <td>TERRA</td>\n",
              "      <td>1795.55080</td>\n",
              "    </tr>\n",
              "    <tr>\n",
              "      <th>6476</th>\n",
              "      <td>2021</td>\n",
              "      <td>OUT</td>\n",
              "      <td>REGIÃO SUDESTE</td>\n",
              "      <td>ESPÍRITO SANTO</td>\n",
              "      <td>GÁS NATURAL</td>\n",
              "      <td>TERRA</td>\n",
              "      <td>1764.21733</td>\n",
              "    </tr>\n",
              "  </tbody>\n",
              "</table>\n",
              "<p>6477 rows × 7 columns</p>\n",
              "</div>"
            ],
            "text/plain": [
              "       ano  mes    granderegiao  ...      produto localizacao      producao\n",
              "0     1997  JAN  REGIÃO SUDESTE  ...  GÁS NATURAL         MAR  325655.00000\n",
              "1     1997  FEV  REGIÃO SUDESTE  ...  GÁS NATURAL         MAR  330876.00000\n",
              "2     1997  MAR  REGIÃO SUDESTE  ...  GÁS NATURAL         MAR  346070.00000\n",
              "3     1997  ABR  REGIÃO SUDESTE  ...  GÁS NATURAL         MAR  323297.00000\n",
              "4     1997  MAI  REGIÃO SUDESTE  ...  GÁS NATURAL         MAR  309287.00000\n",
              "...    ...  ...             ...  ...          ...         ...           ...\n",
              "6472  2021  JUN  REGIÃO SUDESTE  ...  GÁS NATURAL       TERRA    2011.64982\n",
              "6473  2021  JUL  REGIÃO SUDESTE  ...  GÁS NATURAL       TERRA    2252.51107\n",
              "6474  2021  AGO  REGIÃO SUDESTE  ...  GÁS NATURAL       TERRA    1894.26625\n",
              "6475  2021  SET  REGIÃO SUDESTE  ...  GÁS NATURAL       TERRA    1795.55080\n",
              "6476  2021  OUT  REGIÃO SUDESTE  ...  GÁS NATURAL       TERRA    1764.21733\n",
              "\n",
              "[6477 rows x 7 columns]"
            ]
          },
          "metadata": {},
          "execution_count": 10
        }
      ]
    },
    {
      "cell_type": "markdown",
      "metadata": {
        "id": "852ca19b"
      },
      "source": [
        "A seguir, unimos todos os *DataFrames* coletados, e realizamos a análise de correlação entre as colunas de consumo, produção e disponibilidade.\n"
      ],
      "id": "852ca19b"
    },
    {
      "cell_type": "code",
      "metadata": {
        "id": "95a3a3ac"
      },
      "source": [
        "df_cpy=df\n",
        "df_cpy = pd.merge(df_cpy, df2, how='left', left_on=['produto','ano', 'mes', 'granderegiao', 'unidadedafederacao', 'localizacao'], right_on = ['produto','ano', 'mes', 'granderegiao', 'unidadedafederacao', 'localizacao'])\n",
        "df_cpy = pd.merge(df_cpy, df3, how='left', left_on=['produto','ano', 'mes', 'granderegiao', 'unidadedafederacao', 'localizacao'], right_on = ['produto','ano', 'mes', 'granderegiao', 'unidadedafederacao', 'localizacao'])\n"
      ],
      "id": "95a3a3ac",
      "execution_count": null,
      "outputs": []
    },
    {
      "cell_type": "code",
      "metadata": {
        "id": "70774971",
        "colab": {
          "base_uri": "https://localhost:8080/",
          "height": 143
        },
        "outputId": "a49fdc06-6512-4da4-9f3b-9dffe07bfc54"
      },
      "source": [
        "corr = df_cpy[['consumo','producao','disponivel']].corr()\n",
        "df_cpy[['consumo','producao','disponivel']].corr()"
      ],
      "id": "70774971",
      "execution_count": null,
      "outputs": [
        {
          "output_type": "execute_result",
          "data": {
            "text/html": [
              "<div>\n",
              "<style scoped>\n",
              "    .dataframe tbody tr th:only-of-type {\n",
              "        vertical-align: middle;\n",
              "    }\n",
              "\n",
              "    .dataframe tbody tr th {\n",
              "        vertical-align: top;\n",
              "    }\n",
              "\n",
              "    .dataframe thead th {\n",
              "        text-align: right;\n",
              "    }\n",
              "</style>\n",
              "<table border=\"1\" class=\"dataframe\">\n",
              "  <thead>\n",
              "    <tr style=\"text-align: right;\">\n",
              "      <th></th>\n",
              "      <th>consumo</th>\n",
              "      <th>producao</th>\n",
              "      <th>disponivel</th>\n",
              "    </tr>\n",
              "  </thead>\n",
              "  <tbody>\n",
              "    <tr>\n",
              "      <th>consumo</th>\n",
              "      <td>1.000000</td>\n",
              "      <td>0.915796</td>\n",
              "      <td>0.877914</td>\n",
              "    </tr>\n",
              "    <tr>\n",
              "      <th>producao</th>\n",
              "      <td>0.915796</td>\n",
              "      <td>1.000000</td>\n",
              "      <td>0.930340</td>\n",
              "    </tr>\n",
              "    <tr>\n",
              "      <th>disponivel</th>\n",
              "      <td>0.877914</td>\n",
              "      <td>0.930340</td>\n",
              "      <td>1.000000</td>\n",
              "    </tr>\n",
              "  </tbody>\n",
              "</table>\n",
              "</div>"
            ],
            "text/plain": [
              "             consumo  producao  disponivel\n",
              "consumo     1.000000  0.915796    0.877914\n",
              "producao    0.915796  1.000000    0.930340\n",
              "disponivel  0.877914  0.930340    1.000000"
            ]
          },
          "metadata": {},
          "execution_count": 12
        }
      ]
    },
    {
      "cell_type": "code",
      "metadata": {
        "id": "58499a56"
      },
      "source": [
        "corr_consumo_disp = corr['consumo'].iloc[2]\n",
        "corr_consumo_prod = corr['consumo'].iloc[1]\n",
        "corr_prod_disp = corr['producao'].iloc[2]\n"
      ],
      "id": "58499a56",
      "execution_count": null,
      "outputs": []
    },
    {
      "cell_type": "markdown",
      "metadata": {
        "id": "92c0fa46-b9bd-4b0d-868e-fbb614a2be9f"
      },
      "source": [
        "### Carregamento dados de geolocalização\n",
        "\n",
        "Carregamento dos dados geográficos para o `geopandas`:"
      ],
      "id": "92c0fa46-b9bd-4b0d-868e-fbb614a2be9f"
    },
    {
      "cell_type": "markdown",
      "metadata": {
        "id": "e68daf8c-a99d-4074-a253-e52caf924a9e"
      },
      "source": [
        "COLOCAR OS CODIGOS DO CARREGAMENTO DOS MAPAS\n",
        "\n",
        "```python\n",
        "# local directory on your computer\n",
        "local_dir = '/Users/gustavo/Downloads/'\n",
        "\n",
        "# level 1 shape file\n",
        "bra = geo.read_file(local_dir + 'gadm36_BRA_shp/gadm36_BRA_1.shp')\n",
        "\n",
        "# level 2 shape file\n",
        "bra2 = geo.read_file(local_dir + 'gadm36_BRA_shp/gadm36_BRA_2.shp')\n",
        "\n",
        "# NE region mask\n",
        "mask = (bra['NAME_1'] == 'Alagoas') | \\\n",
        "       (bra['NAME_1'] == 'Bahia') | \\\n",
        "       (bra['NAME_1'] == 'Ceará') | \\\n",
        "       (bra['NAME_1'] == 'Maranhão') | \\\n",
        "       (bra['NAME_1'] == 'Pernambuco') | \\\n",
        "       (bra['NAME_1'] == 'Piauí') | \\\n",
        "       (bra['NAME_1'] == 'Paraíba') | \\\n",
        "       (bra['NAME_1'] == 'Rio Grande do Norte') | \\\n",
        "       (bra['NAME_1'] == 'Sergipe')\n",
        "\n",
        "# NE state limits\n",
        "NE = bra[mask]\n",
        "\n",
        "# simulate values for 4 states: AL, PB, PE, and RN\n",
        "AL = simulate_POTBIOG('Alagoas',0.211,0.05)\n",
        "PB = simulate_POTBIOG('Paraíba',0.652,0.06)\n",
        "PE = simulate_POTBIOG('Pernambuco',0.443,0.1)\n",
        "RN = simulate_POTBIOG('Rio Grande do Norte',0.112,0.08)\n",
        "\n",
        "# to have POTBIOG's merged distribution\n",
        "# check for artifacts!!!\n",
        "ALL = AL.merge(PB,how='outer')\n",
        "ALL = ALL.merge(PE,how='outer')\n",
        "ALL = ALL.merge(RN,how='outer')\n",
        "\n",
        "# plot figure for all NE region\n",
        "fig, ax = subplots(figsize=(12,8))\n",
        "NE.plot(ax=ax,edgecolor='k',facecolor='gray',alpha=0.3)\n",
        "ALL.plot(ax=ax,column='POTBIOG',cmap='Reds',legend=True)\n",
        "ax.set_xticks([])\n",
        "ax.set_yticks([]);\n",
        "title('Potencial de Biogás - Região NE')\n",
        "\n",
        "# plot figures per state of interest    \n",
        "for a,b in [(AL,'Potencial de Biogás - AL'),\n",
        "            (PB,'Potencial de Biogás - PB'),\n",
        "            (PE,'Potencial de Biogás - PE'),\n",
        "            (RN,'Potencial de Biogás - RN')]:\n",
        "    plotfig(a,b)\n",
        "```\n",
        "<hr>"
      ],
      "id": "e68daf8c-a99d-4074-a253-e52caf924a9e"
    },
    {
      "cell_type": "markdown",
      "metadata": {
        "id": "5de094cb-e85c-4072-be55-82ff0155f754"
      },
      "source": [
        "## Resultados, análise e discussão\n",
        "\n",
        "Verifica-se que os valores se distribuem de maneira heterogênea na região estudada, mas o POTBIOG do estado da Paraíba é superior aos demais."
      ],
      "id": "5de094cb-e85c-4072-be55-82ff0155f754"
    },
    {
      "cell_type": "code",
      "metadata": {
        "id": "2d0a0553"
      },
      "source": [
        "import plotly.express as px\n",
        "consumo_dash = df.groupby([\"granderegiao\", \"ano\"]).sum()\n",
        "producao_dash = df2.groupby([\"granderegiao\", \"ano\"]).sum()\n",
        "disponivel_dash = df3.groupby([\"granderegiao\", \"ano\"]).sum()"
      ],
      "id": "2d0a0553",
      "execution_count": null,
      "outputs": []
    },
    {
      "cell_type": "code",
      "metadata": {
        "id": "ddec7518"
      },
      "source": [
        "consumo_dash.reset_index(inplace=True)\n",
        "producao_dash.reset_index(inplace=True)\n",
        "disponivel_dash.reset_index(inplace=True)"
      ],
      "id": "ddec7518",
      "execution_count": null,
      "outputs": []
    },
    {
      "cell_type": "markdown",
      "metadata": {
        "id": "98ec63c1"
      },
      "source": [
        "Consumo total de cada região brasileira entre o período de 2000 a 2021. Percebe-se houve uma variação pequena no consumo ao longo dos anos nas regiões Norte, Nordeste e Sul. É notável que a região Sudeste estava em constante crescimento até o ano de 2020, porém em 2021 podemos perceber uma queda de visivel que pode ser interpretada por conta do período de pandemia. É preciso notar, também, que para a região Sul a partir do ano de 2009, não há mais registro de consumo na região."
      ],
      "id": "98ec63c1"
    },
    {
      "cell_type": "code",
      "metadata": {
        "id": "cb29a0ea",
        "colab": {
          "base_uri": "https://localhost:8080/",
          "height": 542
        },
        "outputId": "51498c01-ca59-4412-faca-04a986bded9c"
      },
      "source": [
        "px.line(consumo_dash, x='ano',y='consumo', color='granderegiao')"
      ],
      "id": "cb29a0ea",
      "execution_count": null,
      "outputs": [
        {
          "output_type": "display_data",
          "data": {
            "text/html": [
              "<html>\n",
              "<head><meta charset=\"utf-8\" /></head>\n",
              "<body>\n",
              "    <div>\n",
              "            <script src=\"https://cdnjs.cloudflare.com/ajax/libs/mathjax/2.7.5/MathJax.js?config=TeX-AMS-MML_SVG\"></script><script type=\"text/javascript\">if (window.MathJax) {MathJax.Hub.Config({SVG: {font: \"STIX-Web\"}});}</script>\n",
              "                <script type=\"text/javascript\">window.PlotlyConfig = {MathJaxConfig: 'local'};</script>\n",
              "        <script src=\"https://cdn.plot.ly/plotly-latest.min.js\"></script>    \n",
              "            <div id=\"e3ede5d9-8928-4160-88a8-32977f1925c3\" class=\"plotly-graph-div\" style=\"height:525px; width:100%;\"></div>\n",
              "            <script type=\"text/javascript\">\n",
              "                \n",
              "                    window.PLOTLYENV=window.PLOTLYENV || {};\n",
              "                    \n",
              "                if (document.getElementById(\"e3ede5d9-8928-4160-88a8-32977f1925c3\")) {\n",
              "                    Plotly.newPlot(\n",
              "                        'e3ede5d9-8928-4160-88a8-32977f1925c3',\n",
              "                        [{\"hoverlabel\": {\"namelength\": 0}, \"hovertemplate\": \"granderegiao=REGI\\u00c3O NORDESTE<br>ano=%{x}<br>consumo=%{y}\", \"legendgroup\": \"granderegiao=REGI\\u00c3O NORDESTE\", \"line\": {\"color\": \"#636efa\", \"dash\": \"solid\"}, \"mode\": \"lines\", \"name\": \"granderegiao=REGI\\u00c3O NORDESTE\", \"showlegend\": true, \"type\": \"scatter\", \"x\": [2000, 2001, 2002, 2003, 2004, 2005, 2006, 2007, 2008, 2009, 2010, 2011, 2012, 2013, 2014, 2015, 2016, 2017, 2018, 2019, 2020, 2021], \"xaxis\": \"x\", \"y\": [496710.6062, 466524.0243999999, 497661.5709000001, 523492.15, 579389.3202999998, 556846.3642, 511413.9314000001, 488350.6503999999, 529669.7816239998, 462935.5207800001, 445805.1296299999, 454331.93902, 417830.08271999995, 415382.9037700002, 405381.5275000001, 402635.53738999995, 401117.2549900001, 346310.14567, 375190.32464999985, 334858.3008800002, 189262.1863, 133951.9114600001], \"yaxis\": \"y\"}, {\"hoverlabel\": {\"namelength\": 0}, \"hovertemplate\": \"granderegiao=REGI\\u00c3O NORTE<br>ano=%{x}<br>consumo=%{y}\", \"legendgroup\": \"granderegiao=REGI\\u00c3O NORTE\", \"line\": {\"color\": \"#EF553B\", \"dash\": \"solid\"}, \"mode\": \"lines\", \"name\": \"granderegiao=REGI\\u00c3O NORTE\", \"showlegend\": true, \"type\": \"scatter\", \"x\": [2000, 2001, 2002, 2003, 2004, 2005, 2006, 2007, 2008, 2009, 2010, 2011, 2012, 2013, 2014, 2015, 2016, 2017, 2018, 2019, 2020, 2021], \"xaxis\": \"x\", \"y\": [101192.0, 101329.0, 115804.0, 125202.99, 142604.0, 116017.0, 134250.65610000002, 140620.34000000003, 149398.37196000002, 156733.55289, 157296.68288, 169699.67090000003, 167103.89489000003, 165227.25581, 158686.47777, 160977.21969, 171075.52162999997, 161290.78664, 171475.95061, 176453.36159999997, 161079.27865999998, 129593.48611], \"yaxis\": \"y\"}, {\"hoverlabel\": {\"namelength\": 0}, \"hovertemplate\": \"granderegiao=REGI\\u00c3O SUDESTE<br>ano=%{x}<br>consumo=%{y}\", \"legendgroup\": \"granderegiao=REGI\\u00c3O SUDESTE\", \"line\": {\"color\": \"#00cc96\", \"dash\": \"solid\"}, \"mode\": \"lines\", \"name\": \"granderegiao=REGI\\u00c3O SUDESTE\", \"showlegend\": true, \"type\": \"scatter\", \"x\": [2000, 2001, 2002, 2003, 2004, 2005, 2006, 2007, 2008, 2009, 2010, 2011, 2012, 2013, 2014, 2015, 2016, 2017, 2018, 2019, 2020, 2021], \"xaxis\": \"x\", \"y\": [1139792.765, 1164557.5631, 1262470.0, 1398806.03, 1492109.8119999997, 1798477.6275999998, 2156638.3877999997, 2247013.6852, 2210635.0876289997, 2464567.9386200006, 2944980.9434, 3079334.688990001, 3283704.7517300006, 3378483.73206, 3618594.8048899993, 3887776.2819600003, 4146174.0161600006, 4398174.365579997, 4467198.72722, 4659692.77767, 5002521.575780003, 4089905.242429999], \"yaxis\": \"y\"}, {\"hoverlabel\": {\"namelength\": 0}, \"hovertemplate\": \"granderegiao=REGI\\u00c3O SUL<br>ano=%{x}<br>consumo=%{y}\", \"legendgroup\": \"granderegiao=REGI\\u00c3O SUL\", \"line\": {\"color\": \"#ab63fa\", \"dash\": \"solid\"}, \"mode\": \"lines\", \"name\": \"granderegiao=REGI\\u00c3O SUL\", \"showlegend\": true, \"type\": \"scatter\", \"x\": [2000, 2001, 2002, 2003, 2004, 2005, 2006, 2007, 2008, 2009, 2010, 2011, 2012, 2013, 2014, 2015, 2016, 2017, 2018, 2019, 2020, 2021], \"xaxis\": \"x\", \"y\": [518.0, 1896.0, 535.0, 779.0, 1199.0, 1974.0, 2828.0, 2785.837, 2193.709, 0.0, 0.0, 0.0, 0.0, 0.0, 0.0, 0.0, 0.0, 0.0, 0.0, 0.0, 0.0, 0.0], \"yaxis\": \"y\"}],\n",
              "                        {\"legend\": {\"tracegroupgap\": 0}, \"margin\": {\"t\": 60}, \"template\": {\"data\": {\"bar\": [{\"error_x\": {\"color\": \"#2a3f5f\"}, \"error_y\": {\"color\": \"#2a3f5f\"}, \"marker\": {\"line\": {\"color\": \"#E5ECF6\", \"width\": 0.5}}, \"type\": \"bar\"}], \"barpolar\": [{\"marker\": {\"line\": {\"color\": \"#E5ECF6\", \"width\": 0.5}}, \"type\": \"barpolar\"}], \"carpet\": [{\"aaxis\": {\"endlinecolor\": \"#2a3f5f\", \"gridcolor\": \"white\", \"linecolor\": \"white\", \"minorgridcolor\": \"white\", \"startlinecolor\": \"#2a3f5f\"}, \"baxis\": {\"endlinecolor\": \"#2a3f5f\", \"gridcolor\": \"white\", \"linecolor\": \"white\", \"minorgridcolor\": \"white\", \"startlinecolor\": \"#2a3f5f\"}, \"type\": \"carpet\"}], \"choropleth\": [{\"colorbar\": {\"outlinewidth\": 0, \"ticks\": \"\"}, \"type\": \"choropleth\"}], \"contour\": [{\"colorbar\": {\"outlinewidth\": 0, \"ticks\": \"\"}, \"colorscale\": [[0.0, \"#0d0887\"], [0.1111111111111111, \"#46039f\"], [0.2222222222222222, \"#7201a8\"], [0.3333333333333333, \"#9c179e\"], [0.4444444444444444, \"#bd3786\"], [0.5555555555555556, \"#d8576b\"], [0.6666666666666666, \"#ed7953\"], [0.7777777777777778, \"#fb9f3a\"], [0.8888888888888888, \"#fdca26\"], [1.0, \"#f0f921\"]], \"type\": \"contour\"}], \"contourcarpet\": [{\"colorbar\": {\"outlinewidth\": 0, \"ticks\": \"\"}, \"type\": \"contourcarpet\"}], \"heatmap\": [{\"colorbar\": {\"outlinewidth\": 0, \"ticks\": \"\"}, \"colorscale\": [[0.0, \"#0d0887\"], [0.1111111111111111, \"#46039f\"], [0.2222222222222222, \"#7201a8\"], [0.3333333333333333, \"#9c179e\"], [0.4444444444444444, \"#bd3786\"], [0.5555555555555556, \"#d8576b\"], [0.6666666666666666, \"#ed7953\"], [0.7777777777777778, \"#fb9f3a\"], [0.8888888888888888, \"#fdca26\"], [1.0, \"#f0f921\"]], \"type\": \"heatmap\"}], \"heatmapgl\": [{\"colorbar\": {\"outlinewidth\": 0, \"ticks\": \"\"}, \"colorscale\": [[0.0, \"#0d0887\"], [0.1111111111111111, \"#46039f\"], [0.2222222222222222, \"#7201a8\"], [0.3333333333333333, \"#9c179e\"], [0.4444444444444444, \"#bd3786\"], [0.5555555555555556, \"#d8576b\"], [0.6666666666666666, \"#ed7953\"], [0.7777777777777778, \"#fb9f3a\"], [0.8888888888888888, \"#fdca26\"], [1.0, \"#f0f921\"]], \"type\": \"heatmapgl\"}], \"histogram\": [{\"marker\": {\"colorbar\": {\"outlinewidth\": 0, \"ticks\": \"\"}}, \"type\": \"histogram\"}], \"histogram2d\": [{\"colorbar\": {\"outlinewidth\": 0, \"ticks\": \"\"}, \"colorscale\": [[0.0, \"#0d0887\"], [0.1111111111111111, \"#46039f\"], [0.2222222222222222, \"#7201a8\"], [0.3333333333333333, \"#9c179e\"], [0.4444444444444444, \"#bd3786\"], [0.5555555555555556, \"#d8576b\"], [0.6666666666666666, \"#ed7953\"], [0.7777777777777778, \"#fb9f3a\"], [0.8888888888888888, \"#fdca26\"], [1.0, \"#f0f921\"]], \"type\": \"histogram2d\"}], \"histogram2dcontour\": [{\"colorbar\": {\"outlinewidth\": 0, \"ticks\": \"\"}, \"colorscale\": [[0.0, \"#0d0887\"], [0.1111111111111111, \"#46039f\"], [0.2222222222222222, \"#7201a8\"], [0.3333333333333333, \"#9c179e\"], [0.4444444444444444, \"#bd3786\"], [0.5555555555555556, \"#d8576b\"], [0.6666666666666666, \"#ed7953\"], [0.7777777777777778, \"#fb9f3a\"], [0.8888888888888888, \"#fdca26\"], [1.0, \"#f0f921\"]], \"type\": \"histogram2dcontour\"}], \"mesh3d\": [{\"colorbar\": {\"outlinewidth\": 0, \"ticks\": \"\"}, \"type\": \"mesh3d\"}], \"parcoords\": [{\"line\": {\"colorbar\": {\"outlinewidth\": 0, \"ticks\": \"\"}}, \"type\": \"parcoords\"}], \"pie\": [{\"automargin\": true, \"type\": \"pie\"}], \"scatter\": [{\"marker\": {\"colorbar\": {\"outlinewidth\": 0, \"ticks\": \"\"}}, \"type\": \"scatter\"}], \"scatter3d\": [{\"line\": {\"colorbar\": {\"outlinewidth\": 0, \"ticks\": \"\"}}, \"marker\": {\"colorbar\": {\"outlinewidth\": 0, \"ticks\": \"\"}}, \"type\": \"scatter3d\"}], \"scattercarpet\": [{\"marker\": {\"colorbar\": {\"outlinewidth\": 0, \"ticks\": \"\"}}, \"type\": \"scattercarpet\"}], \"scattergeo\": [{\"marker\": {\"colorbar\": {\"outlinewidth\": 0, \"ticks\": \"\"}}, \"type\": \"scattergeo\"}], \"scattergl\": [{\"marker\": {\"colorbar\": {\"outlinewidth\": 0, \"ticks\": \"\"}}, \"type\": \"scattergl\"}], \"scattermapbox\": [{\"marker\": {\"colorbar\": {\"outlinewidth\": 0, \"ticks\": \"\"}}, \"type\": \"scattermapbox\"}], \"scatterpolar\": [{\"marker\": {\"colorbar\": {\"outlinewidth\": 0, \"ticks\": \"\"}}, \"type\": \"scatterpolar\"}], \"scatterpolargl\": [{\"marker\": {\"colorbar\": {\"outlinewidth\": 0, \"ticks\": \"\"}}, \"type\": \"scatterpolargl\"}], \"scatterternary\": [{\"marker\": {\"colorbar\": {\"outlinewidth\": 0, \"ticks\": \"\"}}, \"type\": \"scatterternary\"}], \"surface\": [{\"colorbar\": {\"outlinewidth\": 0, \"ticks\": \"\"}, \"colorscale\": [[0.0, \"#0d0887\"], [0.1111111111111111, \"#46039f\"], [0.2222222222222222, \"#7201a8\"], [0.3333333333333333, \"#9c179e\"], [0.4444444444444444, \"#bd3786\"], [0.5555555555555556, \"#d8576b\"], [0.6666666666666666, \"#ed7953\"], [0.7777777777777778, \"#fb9f3a\"], [0.8888888888888888, \"#fdca26\"], [1.0, \"#f0f921\"]], \"type\": \"surface\"}], \"table\": [{\"cells\": {\"fill\": {\"color\": \"#EBF0F8\"}, \"line\": {\"color\": \"white\"}}, \"header\": {\"fill\": {\"color\": \"#C8D4E3\"}, \"line\": {\"color\": \"white\"}}, \"type\": \"table\"}]}, \"layout\": {\"annotationdefaults\": {\"arrowcolor\": \"#2a3f5f\", \"arrowhead\": 0, \"arrowwidth\": 1}, \"coloraxis\": {\"colorbar\": {\"outlinewidth\": 0, \"ticks\": \"\"}}, \"colorscale\": {\"diverging\": [[0, \"#8e0152\"], [0.1, \"#c51b7d\"], [0.2, \"#de77ae\"], [0.3, \"#f1b6da\"], [0.4, \"#fde0ef\"], [0.5, \"#f7f7f7\"], [0.6, \"#e6f5d0\"], [0.7, \"#b8e186\"], [0.8, \"#7fbc41\"], [0.9, \"#4d9221\"], [1, \"#276419\"]], \"sequential\": [[0.0, \"#0d0887\"], [0.1111111111111111, \"#46039f\"], [0.2222222222222222, \"#7201a8\"], [0.3333333333333333, \"#9c179e\"], [0.4444444444444444, \"#bd3786\"], [0.5555555555555556, \"#d8576b\"], [0.6666666666666666, \"#ed7953\"], [0.7777777777777778, \"#fb9f3a\"], [0.8888888888888888, \"#fdca26\"], [1.0, \"#f0f921\"]], \"sequentialminus\": [[0.0, \"#0d0887\"], [0.1111111111111111, \"#46039f\"], [0.2222222222222222, \"#7201a8\"], [0.3333333333333333, \"#9c179e\"], [0.4444444444444444, \"#bd3786\"], [0.5555555555555556, \"#d8576b\"], [0.6666666666666666, \"#ed7953\"], [0.7777777777777778, \"#fb9f3a\"], [0.8888888888888888, \"#fdca26\"], [1.0, \"#f0f921\"]]}, \"colorway\": [\"#636efa\", \"#EF553B\", \"#00cc96\", \"#ab63fa\", \"#FFA15A\", \"#19d3f3\", \"#FF6692\", \"#B6E880\", \"#FF97FF\", \"#FECB52\"], \"font\": {\"color\": \"#2a3f5f\"}, \"geo\": {\"bgcolor\": \"white\", \"lakecolor\": \"white\", \"landcolor\": \"#E5ECF6\", \"showlakes\": true, \"showland\": true, \"subunitcolor\": \"white\"}, \"hoverlabel\": {\"align\": \"left\"}, \"hovermode\": \"closest\", \"mapbox\": {\"style\": \"light\"}, \"paper_bgcolor\": \"white\", \"plot_bgcolor\": \"#E5ECF6\", \"polar\": {\"angularaxis\": {\"gridcolor\": \"white\", \"linecolor\": \"white\", \"ticks\": \"\"}, \"bgcolor\": \"#E5ECF6\", \"radialaxis\": {\"gridcolor\": \"white\", \"linecolor\": \"white\", \"ticks\": \"\"}}, \"scene\": {\"xaxis\": {\"backgroundcolor\": \"#E5ECF6\", \"gridcolor\": \"white\", \"gridwidth\": 2, \"linecolor\": \"white\", \"showbackground\": true, \"ticks\": \"\", \"zerolinecolor\": \"white\"}, \"yaxis\": {\"backgroundcolor\": \"#E5ECF6\", \"gridcolor\": \"white\", \"gridwidth\": 2, \"linecolor\": \"white\", \"showbackground\": true, \"ticks\": \"\", \"zerolinecolor\": \"white\"}, \"zaxis\": {\"backgroundcolor\": \"#E5ECF6\", \"gridcolor\": \"white\", \"gridwidth\": 2, \"linecolor\": \"white\", \"showbackground\": true, \"ticks\": \"\", \"zerolinecolor\": \"white\"}}, \"shapedefaults\": {\"line\": {\"color\": \"#2a3f5f\"}}, \"ternary\": {\"aaxis\": {\"gridcolor\": \"white\", \"linecolor\": \"white\", \"ticks\": \"\"}, \"baxis\": {\"gridcolor\": \"white\", \"linecolor\": \"white\", \"ticks\": \"\"}, \"bgcolor\": \"#E5ECF6\", \"caxis\": {\"gridcolor\": \"white\", \"linecolor\": \"white\", \"ticks\": \"\"}}, \"title\": {\"x\": 0.05}, \"xaxis\": {\"automargin\": true, \"gridcolor\": \"white\", \"linecolor\": \"white\", \"ticks\": \"\", \"title\": {\"standoff\": 15}, \"zerolinecolor\": \"white\", \"zerolinewidth\": 2}, \"yaxis\": {\"automargin\": true, \"gridcolor\": \"white\", \"linecolor\": \"white\", \"ticks\": \"\", \"title\": {\"standoff\": 15}, \"zerolinecolor\": \"white\", \"zerolinewidth\": 2}}}, \"xaxis\": {\"anchor\": \"y\", \"domain\": [0.0, 1.0], \"title\": {\"text\": \"ano\"}}, \"yaxis\": {\"anchor\": \"x\", \"domain\": [0.0, 1.0], \"title\": {\"text\": \"consumo\"}}},\n",
              "                        {\"responsive\": true}\n",
              "                    ).then(function(){\n",
              "                            \n",
              "var gd = document.getElementById('e3ede5d9-8928-4160-88a8-32977f1925c3');\n",
              "var x = new MutationObserver(function (mutations, observer) {{\n",
              "        var display = window.getComputedStyle(gd).display;\n",
              "        if (!display || display === 'none') {{\n",
              "            console.log([gd, 'removed!']);\n",
              "            Plotly.purge(gd);\n",
              "            observer.disconnect();\n",
              "        }}\n",
              "}});\n",
              "\n",
              "// Listen for the removal of the full notebook cells\n",
              "var notebookContainer = gd.closest('#notebook-container');\n",
              "if (notebookContainer) {{\n",
              "    x.observe(notebookContainer, {childList: true});\n",
              "}}\n",
              "\n",
              "// Listen for the clearing of the current output cell\n",
              "var outputEl = gd.closest('.output');\n",
              "if (outputEl) {{\n",
              "    x.observe(outputEl, {childList: true});\n",
              "}}\n",
              "\n",
              "                        })\n",
              "                };\n",
              "                \n",
              "            </script>\n",
              "        </div>\n",
              "</body>\n",
              "</html>"
            ]
          },
          "metadata": {}
        }
      ]
    },
    {
      "cell_type": "code",
      "metadata": {
        "id": "c41565f0",
        "colab": {
          "base_uri": "https://localhost:8080/",
          "height": 542
        },
        "outputId": "728e8884-a7c5-460b-c069-079040b3537b"
      },
      "source": [
        "px.line(producao_dash, x=\"ano\",y='producao', color='granderegiao')"
      ],
      "id": "c41565f0",
      "execution_count": null,
      "outputs": [
        {
          "output_type": "display_data",
          "data": {
            "text/html": [
              "<html>\n",
              "<head><meta charset=\"utf-8\" /></head>\n",
              "<body>\n",
              "    <div>\n",
              "            <script src=\"https://cdnjs.cloudflare.com/ajax/libs/mathjax/2.7.5/MathJax.js?config=TeX-AMS-MML_SVG\"></script><script type=\"text/javascript\">if (window.MathJax) {MathJax.Hub.Config({SVG: {font: \"STIX-Web\"}});}</script>\n",
              "                <script type=\"text/javascript\">window.PlotlyConfig = {MathJaxConfig: 'local'};</script>\n",
              "        <script src=\"https://cdn.plot.ly/plotly-latest.min.js\"></script>    \n",
              "            <div id=\"d3ea43a6-4a41-403e-942c-9076ab6b9d6b\" class=\"plotly-graph-div\" style=\"height:525px; width:100%;\"></div>\n",
              "            <script type=\"text/javascript\">\n",
              "                \n",
              "                    window.PLOTLYENV=window.PLOTLYENV || {};\n",
              "                    \n",
              "                if (document.getElementById(\"d3ea43a6-4a41-403e-942c-9076ab6b9d6b\")) {\n",
              "                    Plotly.newPlot(\n",
              "                        'd3ea43a6-4a41-403e-942c-9076ab6b9d6b',\n",
              "                        [{\"hoverlabel\": {\"namelength\": 0}, \"hovertemplate\": \"granderegiao=REGI\\u00c3O NORDESTE<br>ano=%{x}<br>producao=%{y}\", \"legendgroup\": \"granderegiao=REGI\\u00c3O NORDESTE\", \"line\": {\"color\": \"#636efa\", \"dash\": \"solid\"}, \"mode\": \"lines\", \"name\": \"granderegiao=REGI\\u00c3O NORDESTE\", \"showlegend\": true, \"type\": \"scatter\", \"x\": [1997, 1998, 1999, 2000, 2001, 2002, 2003, 2004, 2005, 2006, 2007, 2008, 2009, 2010, 2011, 2012, 2013, 2014, 2015, 2016, 2017, 2018, 2019, 2020, 2021], \"xaxis\": \"x\", \"y\": [4303886.0, 4540021.0, 4649565.2406, 4873160.9581, 4831959.59, 5070557.14, 5185345.353999999, 5612868.258, 5198325.826000001, 4806471.372999999, 5256648.221, 6030583.282740001, 5569252.62655, 5905260.360399999, 4887785.60895, 5399408.4729, 6814966.00846, 7181065.933239996, 6351494.970969999, 6444237.488579999, 5837964.993259998, 5549767.684659999, 4801101.144519998, 3647600.8358599995, 3864564.0089199995], \"yaxis\": \"y\"}, {\"hoverlabel\": {\"namelength\": 0}, \"hovertemplate\": \"granderegiao=REGI\\u00c3O NORTE<br>ano=%{x}<br>producao=%{y}\", \"legendgroup\": \"granderegiao=REGI\\u00c3O NORTE\", \"line\": {\"color\": \"#EF553B\", \"dash\": \"solid\"}, \"mode\": \"lines\", \"name\": \"granderegiao=REGI\\u00c3O NORTE\", \"showlegend\": true, \"type\": \"scatter\", \"x\": [1997, 1998, 1999, 2000, 2001, 2002, 2003, 2004, 2005, 2006, 2007, 2008, 2009, 2010, 2011, 2012, 2013, 2014, 2015, 2016, 2017, 2018, 2019, 2020, 2021], \"xaxis\": \"x\", \"y\": [529726.0, 617948.0, 734154.0, 2000200.0, 2427330.0, 2743183.0, 2992558.0, 3620760.0, 3567205.0, 3376362.36, 3546111.0, 3732624.205, 3780237.8990000007, 3857899.6782, 4161164.6608999996, 4188280.2846, 4150306.010300001, 4703832.1663, 5060170.805699999, 5106161.863, 4756447.365300001, 5215971.783300001, 5571079.4743, 4957176.762099999, 4103232.3216], \"yaxis\": \"y\"}, {\"hoverlabel\": {\"namelength\": 0}, \"hovertemplate\": \"granderegiao=REGI\\u00c3O SUDESTE<br>ano=%{x}<br>producao=%{y}\", \"legendgroup\": \"granderegiao=REGI\\u00c3O SUDESTE\", \"line\": {\"color\": \"#00cc96\", \"dash\": \"solid\"}, \"mode\": \"lines\", \"name\": \"granderegiao=REGI\\u00c3O SUDESTE\", \"showlegend\": true, \"type\": \"scatter\", \"x\": [1997, 1998, 1999, 2000, 2001, 2002, 2003, 2004, 2005, 2006, 2007, 2008, 2009, 2010, 2011, 2012, 2013, 2014, 2015, 2016, 2017, 2018, 2019, 2020, 2021], \"xaxis\": \"x\", \"y\": [4830457.0, 5486213.0, 6392874.7919000015, 6362310.0892, 6701254.2, 7702026.0, 7557763.550000001, 7672304.735, 8865959.177, 9484373.742600001, 9314562.34, 11807510.092099998, 11792029.104079999, 13175286.474339994, 15024780.307609998, 16244555.938899998, 17208940.8869, 20009975.70327999, 23714781.20075001, 26340050.708360005, 29522990.121229995, 30091467.59213, 34352051.32647, 38044730.39761, 32659586.594040003], \"yaxis\": \"y\"}, {\"hoverlabel\": {\"namelength\": 0}, \"hovertemplate\": \"granderegiao=REGI\\u00c3O SUL<br>ano=%{x}<br>producao=%{y}\", \"legendgroup\": \"granderegiao=REGI\\u00c3O SUL\", \"line\": {\"color\": \"#ab63fa\", \"dash\": \"solid\"}, \"mode\": \"lines\", \"name\": \"granderegiao=REGI\\u00c3O SUL\", \"showlegend\": true, \"type\": \"scatter\", \"x\": [1997, 1998, 1999, 2000, 2001, 2002, 2003, 2004, 2005, 2006, 2007, 2008, 2009, 2010, 2011, 2012, 2013, 2014, 2015, 2016, 2017, 2018, 2019, 2020, 2021], \"xaxis\": \"x\", \"y\": [160653.0, 143422.0, 78427.0, 47206.0, 38254.0, 9387.0, 56397.0, 65223.0, 67711.0, 38954.0, 34330.0, 21934.821350000002, 0.0, 0.0, 0.0, 0.0, 0.0, 0.0, 0.0, 0.0, 0.0, 0.0, 0.0, 0.0, 0.0], \"yaxis\": \"y\"}],\n",
              "                        {\"legend\": {\"tracegroupgap\": 0}, \"margin\": {\"t\": 60}, \"template\": {\"data\": {\"bar\": [{\"error_x\": {\"color\": \"#2a3f5f\"}, \"error_y\": {\"color\": \"#2a3f5f\"}, \"marker\": {\"line\": {\"color\": \"#E5ECF6\", \"width\": 0.5}}, \"type\": \"bar\"}], \"barpolar\": [{\"marker\": {\"line\": {\"color\": \"#E5ECF6\", \"width\": 0.5}}, \"type\": \"barpolar\"}], \"carpet\": [{\"aaxis\": {\"endlinecolor\": \"#2a3f5f\", \"gridcolor\": \"white\", \"linecolor\": \"white\", \"minorgridcolor\": \"white\", \"startlinecolor\": \"#2a3f5f\"}, \"baxis\": {\"endlinecolor\": \"#2a3f5f\", \"gridcolor\": \"white\", \"linecolor\": \"white\", \"minorgridcolor\": \"white\", \"startlinecolor\": \"#2a3f5f\"}, \"type\": \"carpet\"}], \"choropleth\": [{\"colorbar\": {\"outlinewidth\": 0, \"ticks\": \"\"}, \"type\": \"choropleth\"}], \"contour\": [{\"colorbar\": {\"outlinewidth\": 0, \"ticks\": \"\"}, \"colorscale\": [[0.0, \"#0d0887\"], [0.1111111111111111, \"#46039f\"], [0.2222222222222222, \"#7201a8\"], [0.3333333333333333, \"#9c179e\"], [0.4444444444444444, \"#bd3786\"], [0.5555555555555556, \"#d8576b\"], [0.6666666666666666, \"#ed7953\"], [0.7777777777777778, \"#fb9f3a\"], [0.8888888888888888, \"#fdca26\"], [1.0, \"#f0f921\"]], \"type\": \"contour\"}], \"contourcarpet\": [{\"colorbar\": {\"outlinewidth\": 0, \"ticks\": \"\"}, \"type\": \"contourcarpet\"}], \"heatmap\": [{\"colorbar\": {\"outlinewidth\": 0, \"ticks\": \"\"}, \"colorscale\": [[0.0, \"#0d0887\"], [0.1111111111111111, \"#46039f\"], [0.2222222222222222, \"#7201a8\"], [0.3333333333333333, \"#9c179e\"], [0.4444444444444444, \"#bd3786\"], [0.5555555555555556, \"#d8576b\"], [0.6666666666666666, \"#ed7953\"], [0.7777777777777778, \"#fb9f3a\"], [0.8888888888888888, \"#fdca26\"], [1.0, \"#f0f921\"]], \"type\": \"heatmap\"}], \"heatmapgl\": [{\"colorbar\": {\"outlinewidth\": 0, \"ticks\": \"\"}, \"colorscale\": [[0.0, \"#0d0887\"], [0.1111111111111111, \"#46039f\"], [0.2222222222222222, \"#7201a8\"], [0.3333333333333333, \"#9c179e\"], [0.4444444444444444, \"#bd3786\"], [0.5555555555555556, \"#d8576b\"], [0.6666666666666666, \"#ed7953\"], [0.7777777777777778, \"#fb9f3a\"], [0.8888888888888888, \"#fdca26\"], [1.0, \"#f0f921\"]], \"type\": \"heatmapgl\"}], \"histogram\": [{\"marker\": {\"colorbar\": {\"outlinewidth\": 0, \"ticks\": \"\"}}, \"type\": \"histogram\"}], \"histogram2d\": [{\"colorbar\": {\"outlinewidth\": 0, \"ticks\": \"\"}, \"colorscale\": [[0.0, \"#0d0887\"], [0.1111111111111111, \"#46039f\"], [0.2222222222222222, \"#7201a8\"], [0.3333333333333333, \"#9c179e\"], [0.4444444444444444, \"#bd3786\"], [0.5555555555555556, \"#d8576b\"], [0.6666666666666666, \"#ed7953\"], [0.7777777777777778, \"#fb9f3a\"], [0.8888888888888888, \"#fdca26\"], [1.0, \"#f0f921\"]], \"type\": \"histogram2d\"}], \"histogram2dcontour\": [{\"colorbar\": {\"outlinewidth\": 0, \"ticks\": \"\"}, \"colorscale\": [[0.0, \"#0d0887\"], [0.1111111111111111, \"#46039f\"], [0.2222222222222222, \"#7201a8\"], [0.3333333333333333, \"#9c179e\"], [0.4444444444444444, \"#bd3786\"], [0.5555555555555556, \"#d8576b\"], [0.6666666666666666, \"#ed7953\"], [0.7777777777777778, \"#fb9f3a\"], [0.8888888888888888, \"#fdca26\"], [1.0, \"#f0f921\"]], \"type\": \"histogram2dcontour\"}], \"mesh3d\": [{\"colorbar\": {\"outlinewidth\": 0, \"ticks\": \"\"}, \"type\": \"mesh3d\"}], \"parcoords\": [{\"line\": {\"colorbar\": {\"outlinewidth\": 0, \"ticks\": \"\"}}, \"type\": \"parcoords\"}], \"pie\": [{\"automargin\": true, \"type\": \"pie\"}], \"scatter\": [{\"marker\": {\"colorbar\": {\"outlinewidth\": 0, \"ticks\": \"\"}}, \"type\": \"scatter\"}], \"scatter3d\": [{\"line\": {\"colorbar\": {\"outlinewidth\": 0, \"ticks\": \"\"}}, \"marker\": {\"colorbar\": {\"outlinewidth\": 0, \"ticks\": \"\"}}, \"type\": \"scatter3d\"}], \"scattercarpet\": [{\"marker\": {\"colorbar\": {\"outlinewidth\": 0, \"ticks\": \"\"}}, \"type\": \"scattercarpet\"}], \"scattergeo\": [{\"marker\": {\"colorbar\": {\"outlinewidth\": 0, \"ticks\": \"\"}}, \"type\": \"scattergeo\"}], \"scattergl\": [{\"marker\": {\"colorbar\": {\"outlinewidth\": 0, \"ticks\": \"\"}}, \"type\": \"scattergl\"}], \"scattermapbox\": [{\"marker\": {\"colorbar\": {\"outlinewidth\": 0, \"ticks\": \"\"}}, \"type\": \"scattermapbox\"}], \"scatterpolar\": [{\"marker\": {\"colorbar\": {\"outlinewidth\": 0, \"ticks\": \"\"}}, \"type\": \"scatterpolar\"}], \"scatterpolargl\": [{\"marker\": {\"colorbar\": {\"outlinewidth\": 0, \"ticks\": \"\"}}, \"type\": \"scatterpolargl\"}], \"scatterternary\": [{\"marker\": {\"colorbar\": {\"outlinewidth\": 0, \"ticks\": \"\"}}, \"type\": \"scatterternary\"}], \"surface\": [{\"colorbar\": {\"outlinewidth\": 0, \"ticks\": \"\"}, \"colorscale\": [[0.0, \"#0d0887\"], [0.1111111111111111, \"#46039f\"], [0.2222222222222222, \"#7201a8\"], [0.3333333333333333, \"#9c179e\"], [0.4444444444444444, \"#bd3786\"], [0.5555555555555556, \"#d8576b\"], [0.6666666666666666, \"#ed7953\"], [0.7777777777777778, \"#fb9f3a\"], [0.8888888888888888, \"#fdca26\"], [1.0, \"#f0f921\"]], \"type\": \"surface\"}], \"table\": [{\"cells\": {\"fill\": {\"color\": \"#EBF0F8\"}, \"line\": {\"color\": \"white\"}}, \"header\": {\"fill\": {\"color\": \"#C8D4E3\"}, \"line\": {\"color\": \"white\"}}, \"type\": \"table\"}]}, \"layout\": {\"annotationdefaults\": {\"arrowcolor\": \"#2a3f5f\", \"arrowhead\": 0, \"arrowwidth\": 1}, \"coloraxis\": {\"colorbar\": {\"outlinewidth\": 0, \"ticks\": \"\"}}, \"colorscale\": {\"diverging\": [[0, \"#8e0152\"], [0.1, \"#c51b7d\"], [0.2, \"#de77ae\"], [0.3, \"#f1b6da\"], [0.4, \"#fde0ef\"], [0.5, \"#f7f7f7\"], [0.6, \"#e6f5d0\"], [0.7, \"#b8e186\"], [0.8, \"#7fbc41\"], [0.9, \"#4d9221\"], [1, \"#276419\"]], \"sequential\": [[0.0, \"#0d0887\"], [0.1111111111111111, \"#46039f\"], [0.2222222222222222, \"#7201a8\"], [0.3333333333333333, \"#9c179e\"], [0.4444444444444444, \"#bd3786\"], [0.5555555555555556, \"#d8576b\"], [0.6666666666666666, \"#ed7953\"], [0.7777777777777778, \"#fb9f3a\"], [0.8888888888888888, \"#fdca26\"], [1.0, \"#f0f921\"]], \"sequentialminus\": [[0.0, \"#0d0887\"], [0.1111111111111111, \"#46039f\"], [0.2222222222222222, \"#7201a8\"], [0.3333333333333333, \"#9c179e\"], [0.4444444444444444, \"#bd3786\"], [0.5555555555555556, \"#d8576b\"], [0.6666666666666666, \"#ed7953\"], [0.7777777777777778, \"#fb9f3a\"], [0.8888888888888888, \"#fdca26\"], [1.0, \"#f0f921\"]]}, \"colorway\": [\"#636efa\", \"#EF553B\", \"#00cc96\", \"#ab63fa\", \"#FFA15A\", \"#19d3f3\", \"#FF6692\", \"#B6E880\", \"#FF97FF\", \"#FECB52\"], \"font\": {\"color\": \"#2a3f5f\"}, \"geo\": {\"bgcolor\": \"white\", \"lakecolor\": \"white\", \"landcolor\": \"#E5ECF6\", \"showlakes\": true, \"showland\": true, \"subunitcolor\": \"white\"}, \"hoverlabel\": {\"align\": \"left\"}, \"hovermode\": \"closest\", \"mapbox\": {\"style\": \"light\"}, \"paper_bgcolor\": \"white\", \"plot_bgcolor\": \"#E5ECF6\", \"polar\": {\"angularaxis\": {\"gridcolor\": \"white\", \"linecolor\": \"white\", \"ticks\": \"\"}, \"bgcolor\": \"#E5ECF6\", \"radialaxis\": {\"gridcolor\": \"white\", \"linecolor\": \"white\", \"ticks\": \"\"}}, \"scene\": {\"xaxis\": {\"backgroundcolor\": \"#E5ECF6\", \"gridcolor\": \"white\", \"gridwidth\": 2, \"linecolor\": \"white\", \"showbackground\": true, \"ticks\": \"\", \"zerolinecolor\": \"white\"}, \"yaxis\": {\"backgroundcolor\": \"#E5ECF6\", \"gridcolor\": \"white\", \"gridwidth\": 2, \"linecolor\": \"white\", \"showbackground\": true, \"ticks\": \"\", \"zerolinecolor\": \"white\"}, \"zaxis\": {\"backgroundcolor\": \"#E5ECF6\", \"gridcolor\": \"white\", \"gridwidth\": 2, \"linecolor\": \"white\", \"showbackground\": true, \"ticks\": \"\", \"zerolinecolor\": \"white\"}}, \"shapedefaults\": {\"line\": {\"color\": \"#2a3f5f\"}}, \"ternary\": {\"aaxis\": {\"gridcolor\": \"white\", \"linecolor\": \"white\", \"ticks\": \"\"}, \"baxis\": {\"gridcolor\": \"white\", \"linecolor\": \"white\", \"ticks\": \"\"}, \"bgcolor\": \"#E5ECF6\", \"caxis\": {\"gridcolor\": \"white\", \"linecolor\": \"white\", \"ticks\": \"\"}}, \"title\": {\"x\": 0.05}, \"xaxis\": {\"automargin\": true, \"gridcolor\": \"white\", \"linecolor\": \"white\", \"ticks\": \"\", \"title\": {\"standoff\": 15}, \"zerolinecolor\": \"white\", \"zerolinewidth\": 2}, \"yaxis\": {\"automargin\": true, \"gridcolor\": \"white\", \"linecolor\": \"white\", \"ticks\": \"\", \"title\": {\"standoff\": 15}, \"zerolinecolor\": \"white\", \"zerolinewidth\": 2}}}, \"xaxis\": {\"anchor\": \"y\", \"domain\": [0.0, 1.0], \"title\": {\"text\": \"ano\"}}, \"yaxis\": {\"anchor\": \"x\", \"domain\": [0.0, 1.0], \"title\": {\"text\": \"producao\"}}},\n",
              "                        {\"responsive\": true}\n",
              "                    ).then(function(){\n",
              "                            \n",
              "var gd = document.getElementById('d3ea43a6-4a41-403e-942c-9076ab6b9d6b');\n",
              "var x = new MutationObserver(function (mutations, observer) {{\n",
              "        var display = window.getComputedStyle(gd).display;\n",
              "        if (!display || display === 'none') {{\n",
              "            console.log([gd, 'removed!']);\n",
              "            Plotly.purge(gd);\n",
              "            observer.disconnect();\n",
              "        }}\n",
              "}});\n",
              "\n",
              "// Listen for the removal of the full notebook cells\n",
              "var notebookContainer = gd.closest('#notebook-container');\n",
              "if (notebookContainer) {{\n",
              "    x.observe(notebookContainer, {childList: true});\n",
              "}}\n",
              "\n",
              "// Listen for the clearing of the current output cell\n",
              "var outputEl = gd.closest('.output');\n",
              "if (outputEl) {{\n",
              "    x.observe(outputEl, {childList: true});\n",
              "}}\n",
              "\n",
              "                        })\n",
              "                };\n",
              "                \n",
              "            </script>\n",
              "        </div>\n",
              "</body>\n",
              "</html>"
            ]
          },
          "metadata": {}
        }
      ]
    },
    {
      "cell_type": "code",
      "metadata": {
        "id": "becad773",
        "colab": {
          "base_uri": "https://localhost:8080/",
          "height": 542
        },
        "outputId": "b1534aaa-27e4-4576-f22e-21e49be80418"
      },
      "source": [
        "px.line(disponivel_dash, x=\"ano\", y='disponivel', color='granderegiao')"
      ],
      "id": "becad773",
      "execution_count": null,
      "outputs": [
        {
          "output_type": "display_data",
          "data": {
            "text/html": [
              "<html>\n",
              "<head><meta charset=\"utf-8\" /></head>\n",
              "<body>\n",
              "    <div>\n",
              "            <script src=\"https://cdnjs.cloudflare.com/ajax/libs/mathjax/2.7.5/MathJax.js?config=TeX-AMS-MML_SVG\"></script><script type=\"text/javascript\">if (window.MathJax) {MathJax.Hub.Config({SVG: {font: \"STIX-Web\"}});}</script>\n",
              "                <script type=\"text/javascript\">window.PlotlyConfig = {MathJaxConfig: 'local'};</script>\n",
              "        <script src=\"https://cdn.plot.ly/plotly-latest.min.js\"></script>    \n",
              "            <div id=\"1706a99d-0d73-4d08-8db1-f658d85a39bd\" class=\"plotly-graph-div\" style=\"height:525px; width:100%;\"></div>\n",
              "            <script type=\"text/javascript\">\n",
              "                \n",
              "                    window.PLOTLYENV=window.PLOTLYENV || {};\n",
              "                    \n",
              "                if (document.getElementById(\"1706a99d-0d73-4d08-8db1-f658d85a39bd\")) {\n",
              "                    Plotly.newPlot(\n",
              "                        '1706a99d-0d73-4d08-8db1-f658d85a39bd',\n",
              "                        [{\"hoverlabel\": {\"namelength\": 0}, \"hovertemplate\": \"granderegiao=REGI\\u00c3O NORDESTE<br>ano=%{x}<br>disponivel=%{y}\", \"legendgroup\": \"granderegiao=REGI\\u00c3O NORDESTE\", \"line\": {\"color\": \"#636efa\", \"dash\": \"solid\"}, \"mode\": \"lines\", \"name\": \"granderegiao=REGI\\u00c3O NORDESTE\", \"showlegend\": true, \"type\": \"scatter\", \"x\": [2000, 2001, 2002, 2003, 2004, 2005, 2006, 2007, 2008, 2009, 2010, 2011, 2012, 2013, 2014, 2015, 2016, 2017, 2018, 2019, 2020, 2021], \"xaxis\": \"x\", \"y\": [3191202.1302000005, 3261137.2625000007, 3527921.3836000003, 3820909.3939999994, 4388647.627099999, 4222965.5973000005, 3965522.7385, 4150643.420099999, 4488990.765322999, 3941514.4966540006, 4282761.726139998, 3312776.47561, 3985954.691920001, 5409976.915619999, 5737783.849209996, 4991598.124070002, 5092460.281419996, 4646819.576370001, 4355548.786950001, 3761931.543540001, 3129267.445879999, 3521905.045269999], \"yaxis\": \"y\"}, {\"hoverlabel\": {\"namelength\": 0}, \"hovertemplate\": \"granderegiao=REGI\\u00c3O NORTE<br>ano=%{x}<br>disponivel=%{y}\", \"legendgroup\": \"granderegiao=REGI\\u00c3O NORTE\", \"line\": {\"color\": \"#EF553B\", \"dash\": \"solid\"}, \"mode\": \"lines\", \"name\": \"granderegiao=REGI\\u00c3O NORTE\", \"showlegend\": true, \"type\": \"scatter\", \"x\": [2000, 2001, 2002, 2003, 2004, 2005, 2006, 2007, 2008, 2009, 2010, 2011, 2012, 2013, 2014, 2015, 2016, 2017, 2018, 2019, 2020, 2021], \"xaxis\": \"x\", \"y\": [153909.44030000002, 258694.22000000003, 265738.0, 311906.01, 346213.0, 359307.0, 378594.02989999996, 405707.54600000003, 409860.00307000004, 428821.87023, 510487.06745000003, 1222099.70628, 1569386.7120000003, 1827440.4005, 2076688.8767000001, 2093180.2091, 1746655.3366, 1750703.403, 2130176.1711999997, 2425108.526, 2540265.3435, 2186895.4882], \"yaxis\": \"y\"}, {\"hoverlabel\": {\"namelength\": 0}, \"hovertemplate\": \"granderegiao=REGI\\u00c3O SUDESTE<br>ano=%{x}<br>disponivel=%{y}\", \"legendgroup\": \"granderegiao=REGI\\u00c3O SUDESTE\", \"line\": {\"color\": \"#00cc96\", \"dash\": \"solid\"}, \"mode\": \"lines\", \"name\": \"granderegiao=REGI\\u00c3O SUDESTE\", \"showlegend\": true, \"type\": \"scatter\", \"x\": [2000, 2001, 2002, 2003, 2004, 2005, 2006, 2007, 2008, 2009, 2010, 2011, 2012, 2013, 2014, 2015, 2016, 2017, 2018, 2019, 2020, 2021], \"xaxis\": \"x\", \"y\": [3100494.8875999996, 3096008.4561000005, 4335730.600000001, 4693920.28, 4936159.335000001, 5183513.886399998, 5535275.8440000005, 5274734.8608, 7720631.053391999, 5911608.605440001, 7810302.809459999, 10041540.069020001, 11421014.541720001, 11791812.099280003, 12538840.42563, 13325752.89784, 13779391.568679992, 17360126.479199994, 15187459.934469996, 15999779.248980002, 14380778.461660001, 10943612.272070002], \"yaxis\": \"y\"}, {\"hoverlabel\": {\"namelength\": 0}, \"hovertemplate\": \"granderegiao=REGI\\u00c3O SUL<br>ano=%{x}<br>disponivel=%{y}\", \"legendgroup\": \"granderegiao=REGI\\u00c3O SUL\", \"line\": {\"color\": \"#ab63fa\", \"dash\": \"solid\"}, \"mode\": \"lines\", \"name\": \"granderegiao=REGI\\u00c3O SUL\", \"showlegend\": true, \"type\": \"scatter\", \"x\": [2000, 2001, 2002, 2003, 2004, 2005, 2006, 2007, 2008, 2009, 2010, 2011, 2012, 2013, 2014, 2015, 2016, 2017, 2018, 2019, 2020, 2021], \"xaxis\": \"x\", \"y\": [0.0, 0.0, 0.0, 0.0, 0.0, 0.0, 0.0, -0.22399999999999998, 0.0, 0.0, 0.0, 0.0, 0.0, 0.0, 0.0, 0.0, 0.0, 0.0, 0.0, 0.0, 0.0, 0.0], \"yaxis\": \"y\"}],\n",
              "                        {\"legend\": {\"tracegroupgap\": 0}, \"margin\": {\"t\": 60}, \"template\": {\"data\": {\"bar\": [{\"error_x\": {\"color\": \"#2a3f5f\"}, \"error_y\": {\"color\": \"#2a3f5f\"}, \"marker\": {\"line\": {\"color\": \"#E5ECF6\", \"width\": 0.5}}, \"type\": \"bar\"}], \"barpolar\": [{\"marker\": {\"line\": {\"color\": \"#E5ECF6\", \"width\": 0.5}}, \"type\": \"barpolar\"}], \"carpet\": [{\"aaxis\": {\"endlinecolor\": \"#2a3f5f\", \"gridcolor\": \"white\", \"linecolor\": \"white\", \"minorgridcolor\": \"white\", \"startlinecolor\": \"#2a3f5f\"}, \"baxis\": {\"endlinecolor\": \"#2a3f5f\", \"gridcolor\": \"white\", \"linecolor\": \"white\", \"minorgridcolor\": \"white\", \"startlinecolor\": \"#2a3f5f\"}, \"type\": \"carpet\"}], \"choropleth\": [{\"colorbar\": {\"outlinewidth\": 0, \"ticks\": \"\"}, \"type\": \"choropleth\"}], \"contour\": [{\"colorbar\": {\"outlinewidth\": 0, \"ticks\": \"\"}, \"colorscale\": [[0.0, \"#0d0887\"], [0.1111111111111111, \"#46039f\"], [0.2222222222222222, \"#7201a8\"], [0.3333333333333333, \"#9c179e\"], [0.4444444444444444, \"#bd3786\"], [0.5555555555555556, \"#d8576b\"], [0.6666666666666666, \"#ed7953\"], [0.7777777777777778, \"#fb9f3a\"], [0.8888888888888888, \"#fdca26\"], [1.0, \"#f0f921\"]], \"type\": \"contour\"}], \"contourcarpet\": [{\"colorbar\": {\"outlinewidth\": 0, \"ticks\": \"\"}, \"type\": \"contourcarpet\"}], \"heatmap\": [{\"colorbar\": {\"outlinewidth\": 0, \"ticks\": \"\"}, \"colorscale\": [[0.0, \"#0d0887\"], [0.1111111111111111, \"#46039f\"], [0.2222222222222222, \"#7201a8\"], [0.3333333333333333, \"#9c179e\"], [0.4444444444444444, \"#bd3786\"], [0.5555555555555556, \"#d8576b\"], [0.6666666666666666, \"#ed7953\"], [0.7777777777777778, \"#fb9f3a\"], [0.8888888888888888, \"#fdca26\"], [1.0, \"#f0f921\"]], \"type\": \"heatmap\"}], \"heatmapgl\": [{\"colorbar\": {\"outlinewidth\": 0, \"ticks\": \"\"}, \"colorscale\": [[0.0, \"#0d0887\"], [0.1111111111111111, \"#46039f\"], [0.2222222222222222, \"#7201a8\"], [0.3333333333333333, \"#9c179e\"], [0.4444444444444444, \"#bd3786\"], [0.5555555555555556, \"#d8576b\"], [0.6666666666666666, \"#ed7953\"], [0.7777777777777778, \"#fb9f3a\"], [0.8888888888888888, \"#fdca26\"], [1.0, \"#f0f921\"]], \"type\": \"heatmapgl\"}], \"histogram\": [{\"marker\": {\"colorbar\": {\"outlinewidth\": 0, \"ticks\": \"\"}}, \"type\": \"histogram\"}], \"histogram2d\": [{\"colorbar\": {\"outlinewidth\": 0, \"ticks\": \"\"}, \"colorscale\": [[0.0, \"#0d0887\"], [0.1111111111111111, \"#46039f\"], [0.2222222222222222, \"#7201a8\"], [0.3333333333333333, \"#9c179e\"], [0.4444444444444444, \"#bd3786\"], [0.5555555555555556, \"#d8576b\"], [0.6666666666666666, \"#ed7953\"], [0.7777777777777778, \"#fb9f3a\"], [0.8888888888888888, \"#fdca26\"], [1.0, \"#f0f921\"]], \"type\": \"histogram2d\"}], \"histogram2dcontour\": [{\"colorbar\": {\"outlinewidth\": 0, \"ticks\": \"\"}, \"colorscale\": [[0.0, \"#0d0887\"], [0.1111111111111111, \"#46039f\"], [0.2222222222222222, \"#7201a8\"], [0.3333333333333333, \"#9c179e\"], [0.4444444444444444, \"#bd3786\"], [0.5555555555555556, \"#d8576b\"], [0.6666666666666666, \"#ed7953\"], [0.7777777777777778, \"#fb9f3a\"], [0.8888888888888888, \"#fdca26\"], [1.0, \"#f0f921\"]], \"type\": \"histogram2dcontour\"}], \"mesh3d\": [{\"colorbar\": {\"outlinewidth\": 0, \"ticks\": \"\"}, \"type\": \"mesh3d\"}], \"parcoords\": [{\"line\": {\"colorbar\": {\"outlinewidth\": 0, \"ticks\": \"\"}}, \"type\": \"parcoords\"}], \"pie\": [{\"automargin\": true, \"type\": \"pie\"}], \"scatter\": [{\"marker\": {\"colorbar\": {\"outlinewidth\": 0, \"ticks\": \"\"}}, \"type\": \"scatter\"}], \"scatter3d\": [{\"line\": {\"colorbar\": {\"outlinewidth\": 0, \"ticks\": \"\"}}, \"marker\": {\"colorbar\": {\"outlinewidth\": 0, \"ticks\": \"\"}}, \"type\": \"scatter3d\"}], \"scattercarpet\": [{\"marker\": {\"colorbar\": {\"outlinewidth\": 0, \"ticks\": \"\"}}, \"type\": \"scattercarpet\"}], \"scattergeo\": [{\"marker\": {\"colorbar\": {\"outlinewidth\": 0, \"ticks\": \"\"}}, \"type\": \"scattergeo\"}], \"scattergl\": [{\"marker\": {\"colorbar\": {\"outlinewidth\": 0, \"ticks\": \"\"}}, \"type\": \"scattergl\"}], \"scattermapbox\": [{\"marker\": {\"colorbar\": {\"outlinewidth\": 0, \"ticks\": \"\"}}, \"type\": \"scattermapbox\"}], \"scatterpolar\": [{\"marker\": {\"colorbar\": {\"outlinewidth\": 0, \"ticks\": \"\"}}, \"type\": \"scatterpolar\"}], \"scatterpolargl\": [{\"marker\": {\"colorbar\": {\"outlinewidth\": 0, \"ticks\": \"\"}}, \"type\": \"scatterpolargl\"}], \"scatterternary\": [{\"marker\": {\"colorbar\": {\"outlinewidth\": 0, \"ticks\": \"\"}}, \"type\": \"scatterternary\"}], \"surface\": [{\"colorbar\": {\"outlinewidth\": 0, \"ticks\": \"\"}, \"colorscale\": [[0.0, \"#0d0887\"], [0.1111111111111111, \"#46039f\"], [0.2222222222222222, \"#7201a8\"], [0.3333333333333333, \"#9c179e\"], [0.4444444444444444, \"#bd3786\"], [0.5555555555555556, \"#d8576b\"], [0.6666666666666666, \"#ed7953\"], [0.7777777777777778, \"#fb9f3a\"], [0.8888888888888888, \"#fdca26\"], [1.0, \"#f0f921\"]], \"type\": \"surface\"}], \"table\": [{\"cells\": {\"fill\": {\"color\": \"#EBF0F8\"}, \"line\": {\"color\": \"white\"}}, \"header\": {\"fill\": {\"color\": \"#C8D4E3\"}, \"line\": {\"color\": \"white\"}}, \"type\": \"table\"}]}, \"layout\": {\"annotationdefaults\": {\"arrowcolor\": \"#2a3f5f\", \"arrowhead\": 0, \"arrowwidth\": 1}, \"coloraxis\": {\"colorbar\": {\"outlinewidth\": 0, \"ticks\": \"\"}}, \"colorscale\": {\"diverging\": [[0, \"#8e0152\"], [0.1, \"#c51b7d\"], [0.2, \"#de77ae\"], [0.3, \"#f1b6da\"], [0.4, \"#fde0ef\"], [0.5, \"#f7f7f7\"], [0.6, \"#e6f5d0\"], [0.7, \"#b8e186\"], [0.8, \"#7fbc41\"], [0.9, \"#4d9221\"], [1, \"#276419\"]], \"sequential\": [[0.0, \"#0d0887\"], [0.1111111111111111, \"#46039f\"], [0.2222222222222222, \"#7201a8\"], [0.3333333333333333, \"#9c179e\"], [0.4444444444444444, \"#bd3786\"], [0.5555555555555556, \"#d8576b\"], [0.6666666666666666, \"#ed7953\"], [0.7777777777777778, \"#fb9f3a\"], [0.8888888888888888, \"#fdca26\"], [1.0, \"#f0f921\"]], \"sequentialminus\": [[0.0, \"#0d0887\"], [0.1111111111111111, \"#46039f\"], [0.2222222222222222, \"#7201a8\"], [0.3333333333333333, \"#9c179e\"], [0.4444444444444444, \"#bd3786\"], [0.5555555555555556, \"#d8576b\"], [0.6666666666666666, \"#ed7953\"], [0.7777777777777778, \"#fb9f3a\"], [0.8888888888888888, \"#fdca26\"], [1.0, \"#f0f921\"]]}, \"colorway\": [\"#636efa\", \"#EF553B\", \"#00cc96\", \"#ab63fa\", \"#FFA15A\", \"#19d3f3\", \"#FF6692\", \"#B6E880\", \"#FF97FF\", \"#FECB52\"], \"font\": {\"color\": \"#2a3f5f\"}, \"geo\": {\"bgcolor\": \"white\", \"lakecolor\": \"white\", \"landcolor\": \"#E5ECF6\", \"showlakes\": true, \"showland\": true, \"subunitcolor\": \"white\"}, \"hoverlabel\": {\"align\": \"left\"}, \"hovermode\": \"closest\", \"mapbox\": {\"style\": \"light\"}, \"paper_bgcolor\": \"white\", \"plot_bgcolor\": \"#E5ECF6\", \"polar\": {\"angularaxis\": {\"gridcolor\": \"white\", \"linecolor\": \"white\", \"ticks\": \"\"}, \"bgcolor\": \"#E5ECF6\", \"radialaxis\": {\"gridcolor\": \"white\", \"linecolor\": \"white\", \"ticks\": \"\"}}, \"scene\": {\"xaxis\": {\"backgroundcolor\": \"#E5ECF6\", \"gridcolor\": \"white\", \"gridwidth\": 2, \"linecolor\": \"white\", \"showbackground\": true, \"ticks\": \"\", \"zerolinecolor\": \"white\"}, \"yaxis\": {\"backgroundcolor\": \"#E5ECF6\", \"gridcolor\": \"white\", \"gridwidth\": 2, \"linecolor\": \"white\", \"showbackground\": true, \"ticks\": \"\", \"zerolinecolor\": \"white\"}, \"zaxis\": {\"backgroundcolor\": \"#E5ECF6\", \"gridcolor\": \"white\", \"gridwidth\": 2, \"linecolor\": \"white\", \"showbackground\": true, \"ticks\": \"\", \"zerolinecolor\": \"white\"}}, \"shapedefaults\": {\"line\": {\"color\": \"#2a3f5f\"}}, \"ternary\": {\"aaxis\": {\"gridcolor\": \"white\", \"linecolor\": \"white\", \"ticks\": \"\"}, \"baxis\": {\"gridcolor\": \"white\", \"linecolor\": \"white\", \"ticks\": \"\"}, \"bgcolor\": \"#E5ECF6\", \"caxis\": {\"gridcolor\": \"white\", \"linecolor\": \"white\", \"ticks\": \"\"}}, \"title\": {\"x\": 0.05}, \"xaxis\": {\"automargin\": true, \"gridcolor\": \"white\", \"linecolor\": \"white\", \"ticks\": \"\", \"title\": {\"standoff\": 15}, \"zerolinecolor\": \"white\", \"zerolinewidth\": 2}, \"yaxis\": {\"automargin\": true, \"gridcolor\": \"white\", \"linecolor\": \"white\", \"ticks\": \"\", \"title\": {\"standoff\": 15}, \"zerolinecolor\": \"white\", \"zerolinewidth\": 2}}}, \"xaxis\": {\"anchor\": \"y\", \"domain\": [0.0, 1.0], \"title\": {\"text\": \"ano\"}}, \"yaxis\": {\"anchor\": \"x\", \"domain\": [0.0, 1.0], \"title\": {\"text\": \"disponivel\"}}},\n",
              "                        {\"responsive\": true}\n",
              "                    ).then(function(){\n",
              "                            \n",
              "var gd = document.getElementById('1706a99d-0d73-4d08-8db1-f658d85a39bd');\n",
              "var x = new MutationObserver(function (mutations, observer) {{\n",
              "        var display = window.getComputedStyle(gd).display;\n",
              "        if (!display || display === 'none') {{\n",
              "            console.log([gd, 'removed!']);\n",
              "            Plotly.purge(gd);\n",
              "            observer.disconnect();\n",
              "        }}\n",
              "}});\n",
              "\n",
              "// Listen for the removal of the full notebook cells\n",
              "var notebookContainer = gd.closest('#notebook-container');\n",
              "if (notebookContainer) {{\n",
              "    x.observe(notebookContainer, {childList: true});\n",
              "}}\n",
              "\n",
              "// Listen for the clearing of the current output cell\n",
              "var outputEl = gd.closest('.output');\n",
              "if (outputEl) {{\n",
              "    x.observe(outputEl, {childList: true});\n",
              "}}\n",
              "\n",
              "                        })\n",
              "                };\n",
              "                \n",
              "            </script>\n",
              "        </div>\n",
              "</body>\n",
              "</html>"
            ]
          },
          "metadata": {}
        }
      ]
    },
    {
      "cell_type": "code",
      "metadata": {
        "id": "3b70179a",
        "colab": {
          "base_uri": "https://localhost:8080/"
        },
        "outputId": "4b653836-d823-44dc-95d7-7b134b8076e0"
      },
      "source": [
        "disponivel_dash.keys()"
      ],
      "id": "3b70179a",
      "execution_count": null,
      "outputs": [
        {
          "output_type": "execute_result",
          "data": {
            "text/plain": [
              "Index(['granderegiao', 'ano', 'disponivel'], dtype='object')"
            ]
          },
          "metadata": {},
          "execution_count": 19
        }
      ]
    },
    {
      "cell_type": "code",
      "metadata": {
        "id": "cf2f535c",
        "colab": {
          "base_uri": "https://localhost:8080/",
          "height": 542
        },
        "outputId": "432f6ed8-642a-43f4-f852-f5bbaf7ca246"
      },
      "source": [
        "px.scatter(x=disponivel_dash['disponivel'], y=producao_dash.query(\"ano > 1999\")['producao'],\n",
        "           labels={\"x\":\"Disponibilidade\", \"y\":\"Produção\"})\n"
      ],
      "id": "cf2f535c",
      "execution_count": null,
      "outputs": [
        {
          "output_type": "display_data",
          "data": {
            "text/html": [
              "<html>\n",
              "<head><meta charset=\"utf-8\" /></head>\n",
              "<body>\n",
              "    <div>\n",
              "            <script src=\"https://cdnjs.cloudflare.com/ajax/libs/mathjax/2.7.5/MathJax.js?config=TeX-AMS-MML_SVG\"></script><script type=\"text/javascript\">if (window.MathJax) {MathJax.Hub.Config({SVG: {font: \"STIX-Web\"}});}</script>\n",
              "                <script type=\"text/javascript\">window.PlotlyConfig = {MathJaxConfig: 'local'};</script>\n",
              "        <script src=\"https://cdn.plot.ly/plotly-latest.min.js\"></script>    \n",
              "            <div id=\"e3f70897-8b61-4c78-9496-4672afad8ba8\" class=\"plotly-graph-div\" style=\"height:525px; width:100%;\"></div>\n",
              "            <script type=\"text/javascript\">\n",
              "                \n",
              "                    window.PLOTLYENV=window.PLOTLYENV || {};\n",
              "                    \n",
              "                if (document.getElementById(\"e3f70897-8b61-4c78-9496-4672afad8ba8\")) {\n",
              "                    Plotly.newPlot(\n",
              "                        'e3f70897-8b61-4c78-9496-4672afad8ba8',\n",
              "                        [{\"hoverlabel\": {\"namelength\": 0}, \"hovertemplate\": \"Disponibilidade=%{x}<br>Produ\\u00e7\\u00e3o=%{y}\", \"legendgroup\": \"\", \"marker\": {\"color\": \"#636efa\", \"symbol\": \"circle\"}, \"mode\": \"markers\", \"name\": \"\", \"showlegend\": false, \"type\": \"scatter\", \"x\": [3191202.1302000005, 3261137.2625000007, 3527921.3836000003, 3820909.3939999994, 4388647.627099999, 4222965.5973000005, 3965522.7385, 4150643.420099999, 4488990.765322999, 3941514.4966540006, 4282761.726139998, 3312776.47561, 3985954.691920001, 5409976.915619999, 5737783.849209996, 4991598.124070002, 5092460.281419996, 4646819.576370001, 4355548.786950001, 3761931.543540001, 3129267.445879999, 3521905.045269999, 153909.44030000002, 258694.22000000003, 265738.0, 311906.01, 346213.0, 359307.0, 378594.02989999996, 405707.54600000003, 409860.00307000004, 428821.87023, 510487.06745000003, 1222099.70628, 1569386.7120000003, 1827440.4005, 2076688.8767000001, 2093180.2091, 1746655.3366, 1750703.403, 2130176.1711999997, 2425108.526, 2540265.3435, 2186895.4882, 3100494.8875999996, 3096008.4561000005, 4335730.600000001, 4693920.28, 4936159.335000001, 5183513.886399998, 5535275.8440000005, 5274734.8608, 7720631.053391999, 5911608.605440001, 7810302.809459999, 10041540.069020001, 11421014.541720001, 11791812.099280003, 12538840.42563, 13325752.89784, 13779391.568679992, 17360126.479199994, 15187459.934469996, 15999779.248980002, 14380778.461660001, 10943612.272070002, 0.0, 0.0, 0.0, 0.0, 0.0, 0.0, 0.0, -0.22399999999999998, 0.0, 0.0, 0.0, 0.0, 0.0, 0.0, 0.0, 0.0, 0.0, 0.0, 0.0, 0.0, 0.0, 0.0], \"xaxis\": \"x\", \"y\": [4873160.9581, 4831959.59, 5070557.14, 5185345.353999999, 5612868.258, 5198325.826000001, 4806471.372999999, 5256648.221, 6030583.282740001, 5569252.62655, 5905260.360399999, 4887785.60895, 5399408.4729, 6814966.00846, 7181065.933239996, 6351494.970969999, 6444237.488579999, 5837964.993259998, 5549767.684659999, 4801101.144519998, 3647600.8358599995, 3864564.0089199995, 2000200.0, 2427330.0, 2743183.0, 2992558.0, 3620760.0, 3567205.0, 3376362.36, 3546111.0, 3732624.205, 3780237.8990000007, 3857899.6782, 4161164.6608999996, 4188280.2846, 4150306.010300001, 4703832.1663, 5060170.805699999, 5106161.863, 4756447.365300001, 5215971.783300001, 5571079.4743, 4957176.762099999, 4103232.3216, 6362310.0892, 6701254.2, 7702026.0, 7557763.550000001, 7672304.735, 8865959.177, 9484373.742600001, 9314562.34, 11807510.092099998, 11792029.104079999, 13175286.474339994, 15024780.307609998, 16244555.938899998, 17208940.8869, 20009975.70327999, 23714781.20075001, 26340050.708360005, 29522990.121229995, 30091467.59213, 34352051.32647, 38044730.39761, 32659586.594040003, 47206.0, 38254.0, 9387.0, 56397.0, 65223.0, 67711.0, 38954.0, 34330.0, 21934.821350000002, 0.0, 0.0, 0.0, 0.0, 0.0, 0.0, 0.0, 0.0, 0.0, 0.0, 0.0, 0.0, 0.0], \"yaxis\": \"y\"}],\n",
              "                        {\"legend\": {\"tracegroupgap\": 0}, \"margin\": {\"t\": 60}, \"template\": {\"data\": {\"bar\": [{\"error_x\": {\"color\": \"#2a3f5f\"}, \"error_y\": {\"color\": \"#2a3f5f\"}, \"marker\": {\"line\": {\"color\": \"#E5ECF6\", \"width\": 0.5}}, \"type\": \"bar\"}], \"barpolar\": [{\"marker\": {\"line\": {\"color\": \"#E5ECF6\", \"width\": 0.5}}, \"type\": \"barpolar\"}], \"carpet\": [{\"aaxis\": {\"endlinecolor\": \"#2a3f5f\", \"gridcolor\": \"white\", \"linecolor\": \"white\", \"minorgridcolor\": \"white\", \"startlinecolor\": \"#2a3f5f\"}, \"baxis\": {\"endlinecolor\": \"#2a3f5f\", \"gridcolor\": \"white\", \"linecolor\": \"white\", \"minorgridcolor\": \"white\", \"startlinecolor\": \"#2a3f5f\"}, \"type\": \"carpet\"}], \"choropleth\": [{\"colorbar\": {\"outlinewidth\": 0, \"ticks\": \"\"}, \"type\": \"choropleth\"}], \"contour\": [{\"colorbar\": {\"outlinewidth\": 0, \"ticks\": \"\"}, \"colorscale\": [[0.0, \"#0d0887\"], [0.1111111111111111, \"#46039f\"], [0.2222222222222222, \"#7201a8\"], [0.3333333333333333, \"#9c179e\"], [0.4444444444444444, \"#bd3786\"], [0.5555555555555556, \"#d8576b\"], [0.6666666666666666, \"#ed7953\"], [0.7777777777777778, \"#fb9f3a\"], [0.8888888888888888, \"#fdca26\"], [1.0, \"#f0f921\"]], \"type\": \"contour\"}], \"contourcarpet\": [{\"colorbar\": {\"outlinewidth\": 0, \"ticks\": \"\"}, \"type\": \"contourcarpet\"}], \"heatmap\": [{\"colorbar\": {\"outlinewidth\": 0, \"ticks\": \"\"}, \"colorscale\": [[0.0, \"#0d0887\"], [0.1111111111111111, \"#46039f\"], [0.2222222222222222, \"#7201a8\"], [0.3333333333333333, \"#9c179e\"], [0.4444444444444444, \"#bd3786\"], [0.5555555555555556, \"#d8576b\"], [0.6666666666666666, \"#ed7953\"], [0.7777777777777778, \"#fb9f3a\"], [0.8888888888888888, \"#fdca26\"], [1.0, \"#f0f921\"]], \"type\": \"heatmap\"}], \"heatmapgl\": [{\"colorbar\": {\"outlinewidth\": 0, \"ticks\": \"\"}, \"colorscale\": [[0.0, \"#0d0887\"], [0.1111111111111111, \"#46039f\"], [0.2222222222222222, \"#7201a8\"], [0.3333333333333333, \"#9c179e\"], [0.4444444444444444, \"#bd3786\"], [0.5555555555555556, \"#d8576b\"], [0.6666666666666666, \"#ed7953\"], [0.7777777777777778, \"#fb9f3a\"], [0.8888888888888888, \"#fdca26\"], [1.0, \"#f0f921\"]], \"type\": \"heatmapgl\"}], \"histogram\": [{\"marker\": {\"colorbar\": {\"outlinewidth\": 0, \"ticks\": \"\"}}, \"type\": \"histogram\"}], \"histogram2d\": [{\"colorbar\": {\"outlinewidth\": 0, \"ticks\": \"\"}, \"colorscale\": [[0.0, \"#0d0887\"], [0.1111111111111111, \"#46039f\"], [0.2222222222222222, \"#7201a8\"], [0.3333333333333333, \"#9c179e\"], [0.4444444444444444, \"#bd3786\"], [0.5555555555555556, \"#d8576b\"], [0.6666666666666666, \"#ed7953\"], [0.7777777777777778, \"#fb9f3a\"], [0.8888888888888888, \"#fdca26\"], [1.0, \"#f0f921\"]], \"type\": \"histogram2d\"}], \"histogram2dcontour\": [{\"colorbar\": {\"outlinewidth\": 0, \"ticks\": \"\"}, \"colorscale\": [[0.0, \"#0d0887\"], [0.1111111111111111, \"#46039f\"], [0.2222222222222222, \"#7201a8\"], [0.3333333333333333, \"#9c179e\"], [0.4444444444444444, \"#bd3786\"], [0.5555555555555556, \"#d8576b\"], [0.6666666666666666, \"#ed7953\"], [0.7777777777777778, \"#fb9f3a\"], [0.8888888888888888, \"#fdca26\"], [1.0, \"#f0f921\"]], \"type\": \"histogram2dcontour\"}], \"mesh3d\": [{\"colorbar\": {\"outlinewidth\": 0, \"ticks\": \"\"}, \"type\": \"mesh3d\"}], \"parcoords\": [{\"line\": {\"colorbar\": {\"outlinewidth\": 0, \"ticks\": \"\"}}, \"type\": \"parcoords\"}], \"pie\": [{\"automargin\": true, \"type\": \"pie\"}], \"scatter\": [{\"marker\": {\"colorbar\": {\"outlinewidth\": 0, \"ticks\": \"\"}}, \"type\": \"scatter\"}], \"scatter3d\": [{\"line\": {\"colorbar\": {\"outlinewidth\": 0, \"ticks\": \"\"}}, \"marker\": {\"colorbar\": {\"outlinewidth\": 0, \"ticks\": \"\"}}, \"type\": \"scatter3d\"}], \"scattercarpet\": [{\"marker\": {\"colorbar\": {\"outlinewidth\": 0, \"ticks\": \"\"}}, \"type\": \"scattercarpet\"}], \"scattergeo\": [{\"marker\": {\"colorbar\": {\"outlinewidth\": 0, \"ticks\": \"\"}}, \"type\": \"scattergeo\"}], \"scattergl\": [{\"marker\": {\"colorbar\": {\"outlinewidth\": 0, \"ticks\": \"\"}}, \"type\": \"scattergl\"}], \"scattermapbox\": [{\"marker\": {\"colorbar\": {\"outlinewidth\": 0, \"ticks\": \"\"}}, \"type\": \"scattermapbox\"}], \"scatterpolar\": [{\"marker\": {\"colorbar\": {\"outlinewidth\": 0, \"ticks\": \"\"}}, \"type\": \"scatterpolar\"}], \"scatterpolargl\": [{\"marker\": {\"colorbar\": {\"outlinewidth\": 0, \"ticks\": \"\"}}, \"type\": \"scatterpolargl\"}], \"scatterternary\": [{\"marker\": {\"colorbar\": {\"outlinewidth\": 0, \"ticks\": \"\"}}, \"type\": \"scatterternary\"}], \"surface\": [{\"colorbar\": {\"outlinewidth\": 0, \"ticks\": \"\"}, \"colorscale\": [[0.0, \"#0d0887\"], [0.1111111111111111, \"#46039f\"], [0.2222222222222222, \"#7201a8\"], [0.3333333333333333, \"#9c179e\"], [0.4444444444444444, \"#bd3786\"], [0.5555555555555556, \"#d8576b\"], [0.6666666666666666, \"#ed7953\"], [0.7777777777777778, \"#fb9f3a\"], [0.8888888888888888, \"#fdca26\"], [1.0, \"#f0f921\"]], \"type\": \"surface\"}], \"table\": [{\"cells\": {\"fill\": {\"color\": \"#EBF0F8\"}, \"line\": {\"color\": \"white\"}}, \"header\": {\"fill\": {\"color\": \"#C8D4E3\"}, \"line\": {\"color\": \"white\"}}, \"type\": \"table\"}]}, \"layout\": {\"annotationdefaults\": {\"arrowcolor\": \"#2a3f5f\", \"arrowhead\": 0, \"arrowwidth\": 1}, \"coloraxis\": {\"colorbar\": {\"outlinewidth\": 0, \"ticks\": \"\"}}, \"colorscale\": {\"diverging\": [[0, \"#8e0152\"], [0.1, \"#c51b7d\"], [0.2, \"#de77ae\"], [0.3, \"#f1b6da\"], [0.4, \"#fde0ef\"], [0.5, \"#f7f7f7\"], [0.6, \"#e6f5d0\"], [0.7, \"#b8e186\"], [0.8, \"#7fbc41\"], [0.9, \"#4d9221\"], [1, \"#276419\"]], \"sequential\": [[0.0, \"#0d0887\"], [0.1111111111111111, \"#46039f\"], [0.2222222222222222, \"#7201a8\"], [0.3333333333333333, \"#9c179e\"], [0.4444444444444444, \"#bd3786\"], [0.5555555555555556, \"#d8576b\"], [0.6666666666666666, \"#ed7953\"], [0.7777777777777778, \"#fb9f3a\"], [0.8888888888888888, \"#fdca26\"], [1.0, \"#f0f921\"]], \"sequentialminus\": [[0.0, \"#0d0887\"], [0.1111111111111111, \"#46039f\"], [0.2222222222222222, \"#7201a8\"], [0.3333333333333333, \"#9c179e\"], [0.4444444444444444, \"#bd3786\"], [0.5555555555555556, \"#d8576b\"], [0.6666666666666666, \"#ed7953\"], [0.7777777777777778, \"#fb9f3a\"], [0.8888888888888888, \"#fdca26\"], [1.0, \"#f0f921\"]]}, \"colorway\": [\"#636efa\", \"#EF553B\", \"#00cc96\", \"#ab63fa\", \"#FFA15A\", \"#19d3f3\", \"#FF6692\", \"#B6E880\", \"#FF97FF\", \"#FECB52\"], \"font\": {\"color\": \"#2a3f5f\"}, \"geo\": {\"bgcolor\": \"white\", \"lakecolor\": \"white\", \"landcolor\": \"#E5ECF6\", \"showlakes\": true, \"showland\": true, \"subunitcolor\": \"white\"}, \"hoverlabel\": {\"align\": \"left\"}, \"hovermode\": \"closest\", \"mapbox\": {\"style\": \"light\"}, \"paper_bgcolor\": \"white\", \"plot_bgcolor\": \"#E5ECF6\", \"polar\": {\"angularaxis\": {\"gridcolor\": \"white\", \"linecolor\": \"white\", \"ticks\": \"\"}, \"bgcolor\": \"#E5ECF6\", \"radialaxis\": {\"gridcolor\": \"white\", \"linecolor\": \"white\", \"ticks\": \"\"}}, \"scene\": {\"xaxis\": {\"backgroundcolor\": \"#E5ECF6\", \"gridcolor\": \"white\", \"gridwidth\": 2, \"linecolor\": \"white\", \"showbackground\": true, \"ticks\": \"\", \"zerolinecolor\": \"white\"}, \"yaxis\": {\"backgroundcolor\": \"#E5ECF6\", \"gridcolor\": \"white\", \"gridwidth\": 2, \"linecolor\": \"white\", \"showbackground\": true, \"ticks\": \"\", \"zerolinecolor\": \"white\"}, \"zaxis\": {\"backgroundcolor\": \"#E5ECF6\", \"gridcolor\": \"white\", \"gridwidth\": 2, \"linecolor\": \"white\", \"showbackground\": true, \"ticks\": \"\", \"zerolinecolor\": \"white\"}}, \"shapedefaults\": {\"line\": {\"color\": \"#2a3f5f\"}}, \"ternary\": {\"aaxis\": {\"gridcolor\": \"white\", \"linecolor\": \"white\", \"ticks\": \"\"}, \"baxis\": {\"gridcolor\": \"white\", \"linecolor\": \"white\", \"ticks\": \"\"}, \"bgcolor\": \"#E5ECF6\", \"caxis\": {\"gridcolor\": \"white\", \"linecolor\": \"white\", \"ticks\": \"\"}}, \"title\": {\"x\": 0.05}, \"xaxis\": {\"automargin\": true, \"gridcolor\": \"white\", \"linecolor\": \"white\", \"ticks\": \"\", \"title\": {\"standoff\": 15}, \"zerolinecolor\": \"white\", \"zerolinewidth\": 2}, \"yaxis\": {\"automargin\": true, \"gridcolor\": \"white\", \"linecolor\": \"white\", \"ticks\": \"\", \"title\": {\"standoff\": 15}, \"zerolinecolor\": \"white\", \"zerolinewidth\": 2}}}, \"xaxis\": {\"anchor\": \"y\", \"domain\": [0.0, 1.0], \"title\": {\"text\": \"Disponibilidade\"}}, \"yaxis\": {\"anchor\": \"x\", \"domain\": [0.0, 1.0], \"title\": {\"text\": \"Produ\\u00e7\\u00e3o\"}}},\n",
              "                        {\"responsive\": true}\n",
              "                    ).then(function(){\n",
              "                            \n",
              "var gd = document.getElementById('e3f70897-8b61-4c78-9496-4672afad8ba8');\n",
              "var x = new MutationObserver(function (mutations, observer) {{\n",
              "        var display = window.getComputedStyle(gd).display;\n",
              "        if (!display || display === 'none') {{\n",
              "            console.log([gd, 'removed!']);\n",
              "            Plotly.purge(gd);\n",
              "            observer.disconnect();\n",
              "        }}\n",
              "}});\n",
              "\n",
              "// Listen for the removal of the full notebook cells\n",
              "var notebookContainer = gd.closest('#notebook-container');\n",
              "if (notebookContainer) {{\n",
              "    x.observe(notebookContainer, {childList: true});\n",
              "}}\n",
              "\n",
              "// Listen for the clearing of the current output cell\n",
              "var outputEl = gd.closest('.output');\n",
              "if (outputEl) {{\n",
              "    x.observe(outputEl, {childList: true});\n",
              "}}\n",
              "\n",
              "                        })\n",
              "                };\n",
              "                \n",
              "            </script>\n",
              "        </div>\n",
              "</body>\n",
              "</html>"
            ]
          },
          "metadata": {}
        }
      ]
    },
    {
      "cell_type": "code",
      "metadata": {
        "id": "509977b4",
        "colab": {
          "base_uri": "https://localhost:8080/",
          "height": 508
        },
        "outputId": "2fa4bc52-c5e6-43eb-a1ae-1ccce89fe29d"
      },
      "source": [
        "#corr_consumo_disp = corr['consumo'].iloc[2]\n",
        "#corr_consumo_prod = corr['consumo'].iloc[1]\n",
        "#corr_prod_disp = corr['producao'].iloc[2]\n",
        "import matplotlib.pyplot as plt\n",
        "\n",
        "fig,ax = plt.subplots(1,3,figsize=(15,8))\n",
        "# plot 1\n",
        "ax[0].plot(disponivel_dash['disponivel'],producao_dash.query(\"ano > 1999\")['producao'],'o',label=f'corr={round(corr_prod_disp,2)}')\n",
        "ax[0].set_xlabel('Disponibilidade'); \n",
        "ax[0].set_ylabel('Produção'); \n",
        "ax[0].legend()\n",
        "# plot 2\n",
        "ax[1].plot(disponivel_dash['disponivel'],consumo_dash.query(\"ano > 1999\")['consumo'],'o',label=f'corr={round(corr_consumo_disp,2)}')\n",
        "ax[1].set_xlabel('Disponibilidade'); \n",
        "ax[1].set_ylabel('Consumo'); \n",
        "ax[1].legend()\n",
        "\n",
        "# plot 3\n",
        "ax[2].plot(producao_dash.query(\"ano > 1999\")['producao'],consumo_dash.query(\"ano > 1999\")['consumo'],'o',label=f'corr={round(corr_consumo_prod,2)}')\n",
        "ax[2].set_xlabel('Produção'); \n",
        "ax[2].set_ylabel('Consumo'); \n",
        "ax[2].legend()\n",
        "\n",
        "plt.show()"
      ],
      "id": "509977b4",
      "execution_count": null,
      "outputs": [
        {
          "output_type": "display_data",
          "data": {
            "image/png": "[encoded data removed]",
            "text/plain": [
              "<Figure size 1080x576 with 3 Axes>"
            ]
          },
          "metadata": {
            "needs_background": "light"
          }
        }
      ]
    },
    {
      "cell_type": "markdown",
      "metadata": {
        "id": "2fc9db8d-f5d8-4b02-84ae-8cc60bf5a833"
      },
      "source": [
        "## Referências bibliográficas\n",
        "\n",
        "Registre todas as referências utilizadas no formato utilizado no template do mini-artigo. Referências incluem:\n",
        "\n",
        "- Livro\n",
        "- Artigo\n",
        "- Site\n",
        "- Post\n",
        "- etc."
      ],
      "id": "2fc9db8d-f5d8-4b02-84ae-8cc60bf5a833"
    },
    {
      "cell_type": "markdown",
      "metadata": {
        "id": "71570da8-f40d-4f04-a3ab-d637f1046826"
      },
      "source": [
        "### Ajuda (esta seção não deve ser incluída no relatório!)"
      ],
      "id": "71570da8-f40d-4f04-a3ab-d637f1046826"
    },
    {
      "cell_type": "markdown",
      "metadata": {
        "id": "fb37b4af-271c-43ea-9d97-881da26a118d"
      },
      "source": [
        "Recursos para aprender como escrever o relatório. Caso queira fazer algo e não saiba, pergunte ao professor. Se ele souber, orientará como fazer.\n",
        "\n",
        "- O que é Markdown?: [link](https://pt.wikipedia.org/wiki/Markdown)\n",
        "\n",
        "- Dicas rápidas de Markdown: [link](https://www.markdownguide.org/cheat-sheet/)\n",
        "\n",
        "- Editor online para aprender Markdown: [link](https://stackedit.io/app#)\n",
        "\n",
        "- Como inserir texto, imagens e tabelas em notebooks: [link](https://www.earthdatascience.org/courses/intro-to-earth-data-science/file-formats/use-text-files/format-text-with-markdown-jupyter-notebook/)"
      ],
      "id": "fb37b4af-271c-43ea-9d97-881da26a118d"
    }
  ]
}