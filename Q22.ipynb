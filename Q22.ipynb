{
 "cells": [
  {
   "cell_type": "markdown",
   "id": "014bb88f",
   "metadata": {},
   "source": [
    "## Questionário 22 (Q22)"
   ]
  },
  {
   "cell_type": "markdown",
   "id": "449da54c",
   "metadata": {},
   "source": [
    "**Orientações para submissão:** \n",
    "\n",
    "- Registre suas respostas no questionário de mesmo nome no SIGAA.\n",
    "- O tempo de registro das respostas no questionário será de 10 minutos. Portanto, resolva primeiro as questões e depois registre-as.\n",
    "- Haverá apenas 1 (uma) tentativa de resposta.\n",
    "- Submeta seu arquivo-fonte (utilizado para resolver as questões) em formato _.ipynb_ pelo SIGAA anexando-a à Tarefa denominada \"Envio de arquivo\" correspondente ao questionário.\n",
    "\n",
    "*Nota:* o arquivo-fonte será utilizado apenas como prova de execução da tarefa. Nenhuma avaliação será feita quanto ao estilo de programação.\n",
    "\n",
    "<hr>"
   ]
  },
  {
   "cell_type": "markdown",
   "id": "ca92557b-3bff-451a-8c00-198abb5fa49d",
   "metadata": {},
   "source": [
    "**Questão 1**. O texto abaixo é uma mensagem encriptada. Cada grupo de 4 caracteres corresponde a um número hexadecimal."
   ]
  },
  {
   "cell_type": "markdown",
   "id": "165af629-4ef3-4a17-a195-68b51181ea1b",
   "metadata": {},
   "source": [
    "```\n",
    "0x45 0x6d 0x20 0x61 0x6c 0x67 0x75 0x6d 0x20 0x6c 0x75 0x67 0x61 0x72 0x2c 0x20 0x61 0x6c 0x67 0x6f 0x20 0x69 0x6e 0x63 0x72 0xed 0x76 0x65 0x6c 0x20 0x65 0x73 0x74 0xe1 0x20 0x65 0x73 0x70 0x65 0x72 0x61 0x6e 0x64 0x6f 0x20 0x70 0x61 0x72 0x61 0x20 0x73 0x65 0x72 0x20 0x64 0x65 0x73 0x63 0x6f 0x62 0x65 0x72 0x74 0x6f 0x2e\n",
    "```"
   ]
  },
  {
   "cell_type": "markdown",
   "id": "6a4c4653-fc14-4425-bb07-fe8224c15288",
   "metadata": {},
   "source": [
    "Use seus conhecimentos de funções _built_in_ para decodificar a mensagem, que é inteligível na Língua Portuguesa. Em seguida, determine quais são os caracteres da mensagem que correspondem, respectivamente, ao maior e menor valor binário entre os elementos da sequência. Assinale a alternativa que melhor descreve a mensagem decodificada, o caracter associado ao maior valor binário e o caracter associado ao menor valor binário, nesta sequência.\n",
    "\n",
    "A. `'Em nenhum lugar, todo possível está aguardando para ser manifesto'`, `'ê'` e `' '`.\n",
    "\n",
    "B. `'Em algum lugar, tudo incrível está esperando para ser incompleto.'`, `'s` e  `'a'`.\n",
    "\n",
    "C. `'Em nenhum lugar, algo possível deve aguardar para ser descoberto'`, `'ê'` e `'í'`.\n",
    "\n",
    "**D. `'Em algum lugar, algo incrível está esperando para ser descoberto.'`, `'í` e  `' '`.**\n",
    "\n",
    "_Obs.:_ Considere que os espaços na mensagem original não devem ser considerados como caracteres na mensagem decodificada e que ali servem apenas para separar os quartetos hexadecimais.\n",
    "\n",
    "\n",
    "<div class=\"alert alert-block alert-success\">\n",
    "<b>Resposta:</b> D. 'Em algum lugar, algo incrível está esperando para ser descoberto.', 'í e ' '.\n",
    "</div>"
   ]
  },
  {
   "cell_type": "markdown",
   "id": "6d346807",
   "metadata": {},
   "source": [
    "Para decodificar a mensagem basta utilizar o método `decode()` que está presente nos datatypes binários em Python"
   ]
  },
  {
   "cell_type": "code",
   "execution_count": 8,
   "id": "f2664e05",
   "metadata": {},
   "outputs": [
    {
     "name": "stdout",
     "output_type": "stream",
     "text": [
      "Em algum lugar, algo incrível está esperando para ser descoberto.\n"
     ]
    }
   ],
   "source": [
    "string_hex = '0x45 0x6d 0x20 0x61 0x6c 0x67 0x75 0x6d 0x20 0x6c 0x75 0x67 0x61 0x72 0x2c 0x20 0x61 0x6c 0x67 0x6f 0x20 0x69 0x6e 0x63 0x72 0xed 0x76 0x65 0x6c 0x20 0x65 0x73 0x74 0xe1 0x20 0x65 0x73 0x70 0x65 0x72 0x61 0x6e 0x64 0x6f 0x20 0x70 0x61 0x72 0x61 0x20 0x73 0x65 0x72 0x20 0x64 0x65 0x73 0x63 0x6f 0x62 0x65 0x72 0x74 0x6f 0x2e'\n",
    "\n",
    "#é necessário remover todos os '0x' presentes na string para que possa ser\n",
    "#convertido para bytearray, pois só funcionará com caractéres hexadecimais\n",
    "string_hex = string_hex.replace('0x','')\n",
    "\n",
    "byte_array = bytearray.fromhex(string_hex)\n",
    "print(byte_array.decode(encoding='latin-1'))"
   ]
  },
  {
   "cell_type": "markdown",
   "id": "58216303",
   "metadata": {},
   "source": [
    "Com o nossa frase devidademente decodificada basta agora achar os caractéres\n",
    "com os menores valores binários na `string_hex`\n",
    "Para isso criei uma lista `hex_list` e a ordenei, ficando assim com o primeiro elemento `hex_list[0]` sendo o elemento de menor valor binário/hex e, por consequencia, `hex_list[-1]` sendo o elemento de maior valor binário/hex\n",
    "\n",
    "Para exibir quais esses caractéres bastou utilizar a built-in function `chr()` convertendo devidamente o elemento da lista que está em `hex` para o tipo `int` "
   ]
  },
  {
   "cell_type": "code",
   "execution_count": 24,
   "id": "bf7b4908",
   "metadata": {},
   "outputs": [
    {
     "name": "stdout",
     "output_type": "stream",
     "text": [
      "\n",
      "O caractere o menor valor binário na string é: \" \"\n",
      "O caractere o maior valor binário na string é: \"í\"\n",
      "\n",
      "'Em algum lugar, algo incrível está esperando para ser descoberto.', 'í' e ' '.\n"
     ]
    }
   ],
   "source": [
    "hex_list = string_hex.split(' ')\n",
    "hex_list.sort()\n",
    "min_val = str(hex_list[0])\n",
    "max_val = str(hex_list[-1])\n",
    "print(f'''\n",
    "O caractere o menor valor binário na string é: \"{chr(int(min_val, 16))}\"\n",
    "O caractere o maior valor binário na string é: \"{chr(int(max_val, 16))}\"\n",
    "''')\n",
    "\n",
    "frase = byte_array.decode(encoding='latin-1')\n",
    "c_min = chr(int(min_val, 16))\n",
    "c_max = chr(int(max_val, 16))\n",
    "\n",
    "print(f\"'{frase}', '{c_max}' e '{c_min}'.\")"
   ]
  },
  {
   "cell_type": "markdown",
   "id": "a67aecb4-b4f9-49e6-b945-f311393037d4",
   "metadata": {},
   "source": [
    "**Questão 2**. Rindalve é um jovem promissor que conquistou um excelente emprego, mas sofre com a indisciplina financeira. Ele paga o aluguel da casa onde mora sempre com atraso de alguns dias e, extrapola o limite do cartão de crédito com frequência. Neste mês, Jonas pagou seu aluguel de <span> R&#36;</span> 6.500,00 com 12 dias de atraso e hoje faz 6 dias que a fatura de seu cartão, fechada em <span> R&#36;</span> 7.234,77, venceu. \n",
    "\n",
    "A imobiliária que administra a casa de Jonas usa a seguinte regra para calcular o valor adicional devido em caso de atraso no pagamento do aluguel:\n",
    "\n",
    "- mora de 6,25% sobre o valor do aluguel + juro simples de 0,025% ao dia\n",
    "\n",
    "A administradora de seu cartão de crédito, por outro lado, usa a seguinte regra para calcular o valor adicional devido em caso de atraso no pagamento da fatura do cartão:\n",
    "\n",
    "- juro composto de 1,44% ao dia.\n",
    "\n",
    "Crie uma função para calcular o valor total atualizado $V_T$ que Jonas deverá desembolsar, em reais, para quitar as despesas citadas. Então, marque a alternativa correta.\n",
    "\n",
    "A. <span> R&#36;</span> 19.048,09\n",
    "\n",
    "B. <span> R&#36;</span> 19.396,08\n",
    "\n",
    "**C. <span> R&#36;</span> 14.808,54**\n",
    "\n",
    "D. <span> R&#36;</span> 16.396,77\n",
    "\n",
    "<div class=\"alert alert-block alert-success\">\n",
    "<b>Resposta:</b> C. R$ 14.808,54\n",
    "</div>"
   ]
  },
  {
   "cell_type": "markdown",
   "id": "3dea0618",
   "metadata": {},
   "source": [
    "Para resolver essa questão bastou aplicar as fórmulas para o cálculo de juro composto e juro simples.\n",
    "\n",
    "M = C + (C * i * t) para juros simples\n",
    "\n",
    "M = C * (1+i)^t para juros compostos\n",
    "\n",
    "E englobar tudo isso em uma função só"
   ]
  },
  {
   "cell_type": "code",
   "execution_count": 3,
   "id": "f04c289c",
   "metadata": {},
   "outputs": [
    {
     "name": "stdout",
     "output_type": "stream",
     "text": [
      "Divida do aluguel: R$ 6925.75\n",
      "Divida do cartão: R$ 7882.79\n",
      "Dívida total: R$ 14808.54\n"
     ]
    }
   ],
   "source": [
    "def calcular_divida(val_aluguel, val_cartao, dias_aluguel, dias_cartao):\n",
    "    juro_aluguel = 0.00025\n",
    "    juro_cartao = 0.0144\n",
    "    \n",
    "    divida_aluguel = round(val_aluguel * (1 + (juro_aluguel * dias_aluguel) + 0.0625), 2)\n",
    "    print(\"Divida do aluguel: R$\", divida_aluguel)\n",
    "    \n",
    "    divida_cartao = round(val_cartao * (1 + juro_cartao)**dias_cartao, 2)\n",
    "    print(\"Divida do cartão: R$\", divida_cartao)\n",
    "    \n",
    "    print(\"Dívida total: R$\", divida_aluguel+divida_cartao)\n",
    "    \n",
    "    \n",
    "calcular_divida(6500, 7234.77, 12, 6)"
   ]
  },
  {
   "cell_type": "markdown",
   "id": "08afcf00",
   "metadata": {},
   "source": [
    "**Questão 3**. O Ministério da Saúde disponibiliza uma lista de remédios através do programa _Farmácia Popular_. Clicando [aqui](https://antigo.saude.gov.br/images/pdf/2019/janeiro/07/Lista-Medicamentos.pdf), você será redirecionado a uma dessas listas. Crie um _dict_ em Python com as informações relevantes contidas na tabela do arquivo PDF. Em seguida, crie uma função regular que recebe o seu _dict_ como argumento e retorne 3 objetos: um _str_, um _tuple_ e um _int_, os quais nesta, ordem, responderão às seguintes perguntas: \n",
    "\n",
    "- Para que doença a maior quantidade de remédios na gratuidade é indicada? \n",
    "- Qual é a quantidade de remédios nas classes _gratuidade_ e _copagamento_?\n",
    "- Quantos remédios têm a letra C como inicial de seu nome?\n",
    "\n",
    "Assinale a alternativa correta:\n",
    "\n",
    "A. `'HIPERTENSÃO', (20, 15), 3`  \n",
    "\n",
    "**B. `'ASMA', (20, 15), 7`**\n",
    "\n",
    "C. `'DIABETES', (10, 20), 8`\n",
    "\n",
    "D. `'ASMA', (18, 17), 6`\n",
    "\n",
    "\n",
    "_Obs.:_ tente usar funções anônimas sempre que possível.\n",
    "\n",
    "\n",
    "<div class=\"alert alert-block alert-success\">\n",
    "<b>Resposta:</b> B. 'ASMA', (20, 15), 7\n",
    "</div>"
   ]
  },
  {
   "cell_type": "markdown",
   "id": "bfa204a7",
   "metadata": {},
   "source": [
    "Primeiro, para evitar erros humanos eu converti a tabela do arquivo **Lista-Medicamentos.pdf** para um arquivo do tipo csv com ajuda dos programas Microsoft Word, Microsoft Excel e um pouco de data wrangling.\n",
    "Feito isso, passei o .csv obtido para o GitHub (https://raw.githubusercontent.com/MDGF93/Intro-Data-Science/main/Lista-Medicamentos.csv) e o utilizei o `pandas` para que pudesse trabalhar com esse arquivo dentro do Python, e o converti para um DataFrame, porém, como a questão requeria o uso de um `dictionary` eu utilizei o método `.to_dict()` para converter **dataframe --> dictionary**.\n",
    "Feito isso, desenvolvi a função para tratar esse dicionário de obter os dados necessário para a questão\n",
    "\n",
    "O dicionário `my_dict` obtido terá como keys:\n",
    "\n",
    "- Medicamento\n",
    "- Indicacao\n",
    "- Gratuidade/Copagamento\n",
    "\n",
    "\n",
    "Para obter a **resposta da primeira pergunta**(_Para que doença a maior quantidade de remédios na gratuidade é indicada?_), `Asma`, a função irá pegar a _key_ `Indicacao` e irá com base nela, gerar uma lista `lista_indicacao` com todos os valores que estão associados à aquela _key_ ('HIPERTENSÃO', 'DIABETES', 'ASMA',...).\n",
    "\n",
    "\n",
    "Finalmente, irei utilizar a lista criada para popular o _dictionary_ `primeira_resposta` com os valores de contagem de cada enfermidade, e então irei, a partir de `primeira_resposta` gerar uma outra lista `a` que irá receber, em forma de lista de tuplas, cada um dos _key:value_ ordenado pelo _value_ em ordem decrescente por meio da função `sorted()`, porém só selecionarei o que nos interessa que é o primeiro valor da primeira tupla. Então, no fim `a` receberá a _string_ `'Asma'`.\n",
    "\n",
    "Para a **segunda pergunta**(_Qual é a quantidade de remédios nas classes gratuidade e copagamento?_) iniciei com valor 0 duas variáveis `gratuidade` e `copagamento` que servirão como contadores para suas respectivas categorias, a contagem foi realizada através de um _for loop_ que irá passar por todos os valores contidos na _key_ `'Gratuidade/Copagamento'` e para cada vez que o valor que estiver sendo lido for 'GRATUIDADE', irá ser adicionado +1 ao seu respectivo contador, caso esse _if statement_ retorne negativo, irá ser adicionado +1 ao contador `copagamento`. No fim do loop, será iniciado uma variável `b` que irá colocar em uma _tuple_ os dois contadores (gratuidade, copagamento) chegando assim na nossa resposta: `(20, 15)`.\n",
    "\n",
    "\n",
    "Já para a **terceira pergunta** (_Quantos remédios têm a letra C como inicial de seu nome?_) foi feito um processo similar ao mostrado imediatamente acima, inciei uma variável `c = 0` para servir como contador, e então iterei por todos os valores que estavam contidos na _key_ `Medicamento` e cada vez que um desses valores começava com 'C', era adicionado +1 ao contador `c`, chegando assim na resposta: `7`."
   ]
  },
  {
   "cell_type": "code",
   "execution_count": 4,
   "id": "8e452d0c",
   "metadata": {
    "scrolled": true
   },
   "outputs": [
    {
     "data": {
      "text/plain": [
       "('ASMA', (20, 15), 7)"
      ]
     },
     "execution_count": 4,
     "metadata": {},
     "output_type": "execute_result"
    }
   ],
   "source": [
    "import pandas as pd\n",
    "\n",
    "df = pd.read_csv('https://raw.githubusercontent.com/MDGF93/Intro-Data-Science/main/Lista-Medicamentos.csv', encoding='latin-1')\n",
    "df.columns = ['Medicamento', 'Indicacao', 'Gratuidade/Copagamento']\n",
    "my_dict = df.to_dict()\n",
    "\n",
    "\n",
    "def resolucao(dic):\n",
    "    primeira_resposta = {}\n",
    "    lista_indicacao_temp = [value for value in dic['Indicacao'].values()]\n",
    "    lista_indicacao = [doenca[:-1] for doenca in lista_indicacao_temp]\n",
    "    set_indicacao = set()\n",
    "    for indicacao in lista_indicacao:\n",
    "        primeira_resposta[indicacao] = lista_indicacao.count(indicacao)\n",
    "    a = sorted(primeira_resposta.items(), key=lambda item: item[1], reverse=True)[0][0]\n",
    "    \n",
    "    gratuidade = copagamento = 0\n",
    "    for value in my_dict['Gratuidade/Copagamento'].values():\n",
    "        if 'GRATUIDADE' in value:\n",
    "            gratuidade  += 1\n",
    "        else:\n",
    "            copagamento += 1\n",
    "    b = (gratuidade, copagamento)\n",
    "    \n",
    "    \n",
    "    c = 0\n",
    "    for value in my_dict['Medicamento'].values():\n",
    "        if value.startswith('C'):\n",
    "            c += 1\n",
    "    \n",
    "    return a, b, c\n",
    "\n",
    "resolucao(my_dict)"
   ]
  }
 ],
 "metadata": {
  "kernelspec": {
   "display_name": "Python 3",
   "language": "python",
   "name": "python3"
  },
  "language_info": {
   "codemirror_mode": {
    "name": "ipython",
    "version": 3
   },
   "file_extension": ".py",
   "mimetype": "text/x-python",
   "name": "python",
   "nbconvert_exporter": "python",
   "pygments_lexer": "ipython3",
   "version": "3.9.6"
  }
 },
 "nbformat": 4,
 "nbformat_minor": 5
}
