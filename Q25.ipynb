{
 "cells": [
  {
   "cell_type": "markdown",
   "metadata": {},
   "source": [
    "## Questionário 25 (Q25)"
   ]
  },
  {
   "cell_type": "markdown",
   "metadata": {},
   "source": [
    "Orientações: \n",
    "\n",
    "- Registre suas respostas no questionário de mesmo nome no SIGAA.\n",
    "- O tempo de registro das respostas no questionário será de 10 minutos. Portanto, resolva primeiro as questões e depois registre-as.\n",
    "- Haverá apenas 1 (uma) tentativa de resposta.\n",
    "- Submeta seu arquivo-fonte (utilizado para resolver as questões) em formato _.ipynb_ pelo SIGAA anexando-o à Tarefa denominada \"Envio de arquivo\" correspondente ao questionário.\n",
    "\n",
    "*Nota:* o arquivo-fonte será utilizado apenas como prova de execução da tarefa. Nenhuma avaliação será feita quanto ao estilo de programação.\n",
    "\n",
    "<hr>"
   ]
  },
  {
   "attachments": {},
   "cell_type": "markdown",
   "metadata": {},
   "source": [
    "Em sua forma completa, o fragmento de código abaixo produz a seguinte plotagem para uma família de funções $g(x;k)$ a um parâmetro $k$ através do módulo _matplotlib_. Reconstitua as partes ausentes do código para reproduzir o mesmo gráfico e responda às questões 1 e 2 a seguir.\n",
    "![image.png](attachment:image.png)\n",
    "```{figure} ../figs/q/g-plots.png\n",
    "---\n",
    "width: 700px\n",
    "name: g(x)\n",
    "---\n",
    "Família de funções g(x;k).\n",
    "```"
   ]
  },
  {
   "cell_type": "code",
   "execution_count": 50,
   "metadata": {},
   "outputs": [
    {
     "data": {
      "image/png": "[encoded data removed]",
      "text/plain": [
       "<Figure size 720x432 with 1 Axes>"
      ]
     },
     "metadata": {
      "needs_background": "light"
     },
     "output_type": "display_data"
    }
   ],
   "source": [
    "import matplotlib.pyplot as plt\n",
    "from numpy import linspace\n",
    "\n",
    "A, B, C, D, E, F, G, H = 'm', '*', 'r', '-.', 'y', 'b', 'b', '<'\n",
    "I, J, K = 1., 10, 0.\n",
    "\n",
    "# m = magenta -> c cor da linha\n",
    "# -  -> linestyle\n",
    "# |  -> marker\n",
    "# y  -> markerfacecolor(mfc)\n",
    "# k  -> markeredgecolor\n",
    "# 1  -> markeredgewidth \n",
    "# 12 -> markersize\n",
    "# 2  -> linewidth\n",
    "#M = ('m', '-', '|', 'y', 'k', 1, 12, 2)\n",
    "M = (A, '-', '|', E, 'k', 1, 12, 2)\n",
    "N = ('c', ':', H, 'k', C, 1, 12, 2)\n",
    "O = (G, '--', B, 'r', 'g', 1, 12, 2)\n",
    "P = ('y', D,  'H', 'w', F, 1, 12, 2)        \n",
    "\n",
    "d = dict(zip([4,1,3,2],(P,M,O,N)))\n",
    "#{4:P, 1:M, 3:O, 2:N}\n",
    "#{4:P, 1:('m', '-', '|', 'y', 'k', 1, 12, 2), 3:O, 2:N}\n",
    "\n",
    "def p(a,b,n,k,opt):      \n",
    "    keys = ('c','ls','marker','mfc','mec','mew','ms','lw')\n",
    "    d = dict(zip(keys,opt))\n",
    "        #linspace(start, stop, num=50, endpoint=True, retstep=False, dtype=None, axis=0)\n",
    "    x = linspace(a,b,n)\n",
    "    g = lambda x,k: x**k + (-1)**k*k\n",
    "    plt.plot(x, g(x,k), label=f'k={k}',**d)\n",
    "             \n",
    "plt.figure(figsize=(10,6))        \n",
    "for k,opt in d.items():\n",
    "    #K = start = 0.0\n",
    "    #I = end = 1.0\n",
    "    #J = num = 10\n",
    "    p(K,I,J,k,opt)\n",
    "    \n",
    "plt.legend(loc='center left', ncol=2,fontsize=14)\n",
    "plt.xlabel('$x$',fontsize=14); plt.ylabel('$g(x)$',fontsize=14)\n",
    "plt.title('g(x) = $x^k + (-1)^kk, \\ \\ k = 1,2,3,4$',fontsize=14);\n",
    "plt.grid(axis='y')"
   ]
  },
  {
   "cell_type": "code",
   "execution_count": 49,
   "metadata": {},
   "outputs": [
    {
     "name": "stdout",
     "output_type": "stream",
     "text": [
      "Eu sou a:  4\n",
      "Eu sou b:  ('y', '-.', 'H', 'w', 'b', 1, 12, 2)\n",
      "---------------------------------------------------------------------------\n",
      "Eu sou a:  1\n",
      "Eu sou b:  ('m', '-', '|', 'y', 'k', 1, 12, 2)\n",
      "---------------------------------------------------------------------------\n",
      "Eu sou a:  3\n",
      "Eu sou b:  ('b', '--', '*', 'r', 'g', 1, 12, 2)\n",
      "---------------------------------------------------------------------------\n",
      "Eu sou a:  2\n",
      "Eu sou b:  ('c', ':', '<', 'k', 'r', 1, 12, 2)\n",
      "---------------------------------------------------------------------------\n"
     ]
    }
   ],
   "source": [
    "for a,b in d.items():\n",
    "    print(\"Eu sou a: \",a)\n",
    "    print(\"Eu sou b: \",b)\n",
    "    print(\"-\"*75)"
   ]
  },
  {
   "cell_type": "markdown",
   "metadata": {},
   "source": [
    "**Questão 1:** Marque a alternativa que contém os valores corretos para as variáveis `A`, `B`, `C`, ... , `H`, nesta ordem.\n",
    "\n",
    "A. `'*'`, `'s'`, `'-.'`, `'k'`, `'+'`, `'b'`, `'a'`, `'<'` \n",
    "\n",
    "B. `'#fefefe'`, `'*'`, `'r'`, `':'`, `'b'`, `'k'`, `'g'`, `'<'` \n",
    "\n",
    "C. `'g`, `'s'`, `'y'`, `'-.'`, `'k'`, `'('`, `'c'`, `'v'` \n",
    "\n",
    "***D.*** `'m'`, `'*'`, `'r'`, `'-.'`, `'y'`, `'b'`, `'b'`, `'<'` \n",
    "\n",
    "\n",
    "<div class=\"alert alert-block alert-success\">\n",
    "<b>Resposta:</b> D. 'm', '*', 'r', '-.', 'y', 'b', 'b', '<'\n",
    "</div>"
   ]
  },
  {
   "cell_type": "markdown",
   "metadata": {},
   "source": [
    "**Questão 2:** Marque a alternativa correta:\n",
    "\n",
    "***A.*** `I, J, K = 1., 10, 0.`\n",
    "\n",
    "B. `I, J, K = 0., 10.0, 11.`\n",
    "\n",
    "C. `I, J, K = 1., 11, 0.`\n",
    "\n",
    "D. `I, J, K = -1., 1, 10`\n",
    "\n",
    "<div class=\"alert alert-block alert-success\">\n",
    "<b>Resposta:</b>A. I, J, K = 1., 10, 0.\n",
    "</div>"
   ]
  },
  {
   "cell_type": "markdown",
   "metadata": {},
   "source": [
    "<hr>\n",
    "\n",
    "**Questão 3:** A energia cinética $K$ de uma partícula de massa $m$ que se move com velocidade dada por um vetor $\\vec{v}$ pode ser calculada como:\n",
    "\n",
    "$$K = m\\dfrac{\\langle \\vec{v}, \\vec{v}\\rangle}{2}.$$\n",
    "\n",
    "\n",
    "Determine a variação de energia cinética $\\Delta K = K_B - K_A$ de uma partícula de pó químico que se moveu do ponto A para o ponto B sabendo que sua massa é de 0.004 kg e que a sua velocidade em A e em B, eram, respectivamente, dadas pelos vetores:\n",
    "\n",
    "$$\\vec{v}_A = 10\\vec{i} - 2.5\\vec{j} + 0.5\\vec{k}\n",
    "\\\\\n",
    "\\vec{v}_B = 2.5\\vec{i} -1.1\\vec{j} + 0\\vec{k}$$\n",
    "\n",
    "Calcule a norma Euclidiana aproximada $V_B$ de $\\vec{v}_B$ e assinale a alternativa correta:\n",
    "\n",
    " ***A.*** $V_B \\approx 2.731$, $\\Delta K < 0$\n",
    " \n",
    " B. $V_B \\approx 3.123$, $\\Delta K < 0$\n",
    " \n",
    " C. $V_B \\approx 3.123$, $\\Delta K > 0$\n",
    " \n",
    " D. $V_B \\approx -1.210$, $\\Delta K > 0$\n",
    " \n",
    " <div class=\"alert alert-block alert-success\">\n",
    "<b>Resposta:</b>A. 𝑉𝐵≈2.731 ,  Δ𝐾 < 0\n",
    "</div>"
   ]
  },
  {
   "cell_type": "code",
   "execution_count": 37,
   "metadata": {},
   "outputs": [],
   "source": [
    "# k = mv²/2\n",
    "import numpy as np\n",
    "va = np.array([10, -2.5, 0.5])\n",
    "vb = np.array([2.5, -1.1, 0])\n",
    "m  = 0.004\n",
    "\n",
    "ka = m*va.dot(va)/2\n",
    "kb = m*vb.dot(vb)/2\n",
    "delta_k = kb - ka\n",
    "norma = np.linalg.norm(vb)"
   ]
  },
  {
   "cell_type": "code",
   "execution_count": 38,
   "metadata": {
    "scrolled": true
   },
   "outputs": [
    {
     "name": "stdout",
     "output_type": "stream",
     "text": [
      "A norma Euclidiana Vb é aproximadamente: 2.731\n",
      "A variação de energia cinética da párticula é igual a: -0.19808\n"
     ]
    }
   ],
   "source": [
    "print(f\"A norma Euclidiana Vb é aproximadamente: {round(norma,3)}\\nA variação de energia cinética da párticula é igual a: {delta_k}\")"
   ]
  },
  {
   "cell_type": "code",
   "execution_count": 1,
   "metadata": {},
   "outputs": [],
   "source": [
    "lista = [[1,1,1,1,1,],[1,1,1,1,0,],[1,1,1,1],[1,1,1]]"
   ]
  },
  {
   "cell_type": "code",
   "execution_count": 20,
   "metadata": {},
   "outputs": [],
   "source": [
    "lista = [\n",
    "    [\n",
    "        \"V={(x,y)∈R2} com soma (x,y)+(a,b)=(xa,yb) e multiplicação por escalar coordenada a coordenada.\",\n",
    "        \"V={(x,y)∈R2/x>0,y=ln(x)} com soma e multiplicação por escalar coordenada a coordenada.\",\n",
    "        \"V={(x,y)∈R2} com soma (x,y)+(a,b)=(xa,yb) e multiplicação por escalar dada por  α(x,y)=(αx,αy)\",\n",
    "        \"Matrizes triangulares inferiores\",\n",
    "        \"V={(x,y)∈R2} com soma coordenada a coordenada e multiplicação por escalar dada por α(x,y)=(α+x,α+y).\"\n",
    "    ],\n",
    "    [\n",
    "        \"V={(x,y)∈R2/y=1} com soma e multiplicação por escalar coordenada a coordenada.\",\n",
    "        \"V={(x,y,z)∈R3/3x+2y+5z=0} com soma e multiplicação por escalar coordenada a coordenada.\",\n",
    "        \"V={(x,y)∈R2/xy=1} com soma e multiplicação por escalar coordenada a coordenada.\",\n",
    "        \"V={(x,y)∈R2/x>0,y=ln(x)} com soma e multiplicação por escalar coordenada a coordenada.\",\n",
    "        \"V={(x,y)∈R2} com soma (x,y)+(a,b)=(xa,yb) e multiplicação por escalar coordenada a coordenada.\"\n",
    "    ],\n",
    "    [\n",
    "        \"V={(x,y)∈R2} com soma (x,y)+(a,b)=(xa,yb) e multiplicação por escalar dada por α(x,y)=(αx,αy)\",\n",
    "        \"V={(x,y)∈R2/x>0,y>0} com soma e multiplicação por escalar coordenada a coordenada.\",\n",
    "        \"Os números complexos com a soma usual e produto por escalar dado pelo produto de números complexos.\",\n",
    "        \"V={(x,y)∈R2} com soma coordenada a coordenada e multiplicação por escalar dada por α(x,y)=(α2x,α2y).\",\n",
    "        \"polinômios de grau 5\"\n",
    "    ],\n",
    "    [\n",
    "        \"polinômios de grau 5\",\n",
    "        \"Matrizes simétricas\",\n",
    "        \"V={(x,y)∈R2} com soma coordenada a coordenada e multiplicação por escalar dada por α(x,y)=(α2x,α2y).\",\n",
    "        \"V={(x,y)∈R2/x>0,y>0} com soma e multiplicação por escalar coordenada a coordenada.\",\n",
    "        \"V={(x,y)∈R2} com soma (x,y)+(a,b)=(xa,yb) e multiplicação por escalar dada por α(x,y)=(αx,αy)\"\n",
    "    ],\n",
    "    [\n",
    "        \"V={(x,y)∈R2/x>0,y=ln(x)} com soma e multiplicação por escalar coordenada a coordenada.\",\n",
    "        \"V={(x,y)∈R2} com soma coordenada a coordenada e multiplicação por escalar dada por α(x,y)=(α+x,α+y).\",\n",
    "        \"V={(x,y)∈R2} com soma (x,y)+(a,b)=(xa,yb) e multiplicação por escalar dada por α(x,y)=(αx,αy)\",\n",
    "        \"V={(x,y,z)∈R3/x=y=z} com soma e multiplicação por escalar coordenada a coordenada.\",\n",
    "        \"V={(x,y)∈R2} com soma (x,y)+(a,b)=(xa,yb) e multiplicação por escalar coordenada a coordenada.\"\n",
    "    ],\n",
    "    [\n",
    "        \"matrizes triangulares superiores\",\n",
    "        \"V={(x,y)∈R2/x>0,y>0} com soma e multiplicação por escalar coordenada a coordenada.\",\n",
    "        \"polinômios de grau 5\",\n",
    "        \"V={(x,y)∈R2} com soma (x,y)+(a,b)=(xa,yb) e multiplicação por escalar dada por α(x,y)=(αx,αy)\",\n",
    "        \"V={(x,y)∈R2} com soma coordenada a coordenada e multiplicação por escalar dada por α(x,y)=(α2x,α2y).\"\n",
    "    ],\n",
    "    [\n",
    "        \"V={(x,y)∈R2/x>0,y>0} com soma e multiplicação por escalar coordenada a coordenada.\",\n",
    "        \"Matrizes diagonais\",\n",
    "        \"V={(x,y)∈R2} com soma coordenada a coordenada e multiplicação por escalar dada por α(x,y)=(α2x,α2y).\",\n",
    "        \"polinômios de grau 5\",\n",
    "        \"V={(x,y)∈R2} com soma (x,y)+(a,b)=(xa,yb) e multiplicação por escalar dada por α(x,y)=(αx,αy)\"\n",
    "    ],\n",
    "    [\n",
    "        \"V={(x,y)∈R2} com soma (x,y)+(a,b)=(xa,yb) e multiplicação por escalar coordenada a coordenada.\",\n",
    "        \"V={(x,y)∈R2/x>0,y=ln(x)} com soma e multiplicação por escalar coordenada a coordenada.\",\n",
    "        \"V={(x,y)∈R2} com soma (x,y)+(a,b)=(xa,yb) e multiplicação por escalar dada por α(x,y)=(αx,αy)\",\n",
    "        \"V={(x,y,z)∈R3/3x+2y+5z=0} com soma e multiplicação por escalar coordenada a coordenada.\",\n",
    "        \"V={(x,y)∈R2} com soma coordenada a coordenada e multiplicação por escalar dada por α(x,y)=(α+x,α+y).\"\n",
    "    ]\n",
    "    \n",
    "    \n",
    "]"
   ]
  },
  {
   "cell_type": "code",
   "execution_count": 14,
   "metadata": {},
   "outputs": [
    {
     "data": {
      "text/plain": [
       "8"
      ]
     },
     "execution_count": 14,
     "metadata": {},
     "output_type": "execute_result"
    }
   ],
   "source": [
    "len(lista)"
   ]
  },
  {
   "cell_type": "code",
   "execution_count": 10,
   "metadata": {},
   "outputs": [],
   "source": [
    "for i in range(len(lista)):\n",
    "    for j in range(len(lista[i])):\n",
    "        lista[i][j] = lista[i][j].lower()"
   ]
  },
  {
   "cell_type": "code",
   "execution_count": 17,
   "metadata": {},
   "outputs": [],
   "source": [
    "master_list = [\n",
    "              [False, False, False, False, False], #1\n",
    "              [False, False, False, False, False], #2\n",
    "              [False, False, False, False, False], #3\n",
    "              [False, False, False, False, False], #4\n",
    "              [False, False, False, False, False], #5\n",
    "              [False, False, False, False, False], #6\n",
    "              [False, False, False, False, False], #7\n",
    "              [False, False, False, False, False]  #8\n",
    "              ]\n",
    "\n",
    "\n",
    "\n",
    "count_lista = 0\n",
    "count_sublista = 0\n",
    "\n",
    "for lis in lista:\n",
    "    string_compare = lista[count_lista][count_sublista]\n",
    "    \n",
    "    "
   ]
  },
  {
   "cell_type": "code",
   "execution_count": 29,
   "metadata": {},
   "outputs": [],
   "source": [
    "flat_list = [item for sublist in lista for item in sublist]"
   ]
  },
  {
   "cell_type": "code",
   "execution_count": 60,
   "metadata": {},
   "outputs": [
    {
     "data": {
      "text/plain": [
       "['V={(x,y)∈R2} com soma (x,y)+(a,b)=(xa,yb) e multiplicação por escalar coordenada a coordenada.',\n",
       " 'V={(x,y)∈R2/x>0,y=ln(x)} com soma e multiplicação por escalar coordenada a coordenada.',\n",
       " 'V={(x,y)∈R2} com soma (x,y)+(a,b)=(xa,yb) e multiplicação por escalar dada por  α(x,y)=(αx,αy)',\n",
       " 'Matrizes triangulares inferiores',\n",
       " 'V={(x,y)∈R2} com soma coordenada a coordenada e multiplicação por escalar dada por α(x,y)=(α+x,α+y).',\n",
       " 'V={(x,y)∈R2/y=1} com soma e multiplicação por escalar coordenada a coordenada.',\n",
       " 'V={(x,y,z)∈R3/3x+2y+5z=0} com soma e multiplicação por escalar coordenada a coordenada.',\n",
       " 'V={(x,y)∈R2/xy=1} com soma e multiplicação por escalar coordenada a coordenada.',\n",
       " 'V={(x,y)∈R2/x>0,y=ln(x)} com soma e multiplicação por escalar coordenada a coordenada.',\n",
       " 'V={(x,y)∈R2} com soma (x,y)+(a,b)=(xa,yb) e multiplicação por escalar coordenada a coordenada.',\n",
       " 'V={(x,y)∈R2} com soma (x,y)+(a,b)=(xa,yb) e multiplicação por escalar dada por α(x,y)=(αx,αy)',\n",
       " 'V={(x,y)∈R2/x>0,y>0} com soma e multiplicação por escalar coordenada a coordenada.',\n",
       " 'Os números complexos com a soma usual e produto por escalar dado pelo produto de números complexos.',\n",
       " 'V={(x,y)∈R2} com soma coordenada a coordenada e multiplicação por escalar dada por α(x,y)=(α2x,α2y).',\n",
       " 'polinômios de grau 5',\n",
       " 'polinômios de grau 5',\n",
       " 'Matrizes simétricas',\n",
       " 'V={(x,y)∈R2} com soma coordenada a coordenada e multiplicação por escalar dada por α(x,y)=(α2x,α2y).',\n",
       " 'V={(x,y)∈R2/x>0,y>0} com soma e multiplicação por escalar coordenada a coordenada.',\n",
       " 'V={(x,y)∈R2} com soma (x,y)+(a,b)=(xa,yb) e multiplicação por escalar dada por α(x,y)=(αx,αy)',\n",
       " 'V={(x,y)∈R2/x>0,y=ln(x)} com soma e multiplicação por escalar coordenada a coordenada.',\n",
       " 'V={(x,y)∈R2} com soma coordenada a coordenada e multiplicação por escalar dada por α(x,y)=(α+x,α+y).',\n",
       " 'V={(x,y)∈R2} com soma (x,y)+(a,b)=(xa,yb) e multiplicação por escalar dada por α(x,y)=(αx,αy)',\n",
       " 'V={(x,y,z)∈R3/x=y=z} com soma e multiplicação por escalar coordenada a coordenada.',\n",
       " 'V={(x,y)∈R2} com soma (x,y)+(a,b)=(xa,yb) e multiplicação por escalar coordenada a coordenada.',\n",
       " 'matrizes triangulares superiores',\n",
       " 'V={(x,y)∈R2/x>0,y>0} com soma e multiplicação por escalar coordenada a coordenada.',\n",
       " 'polinômios de grau 5',\n",
       " 'V={(x,y)∈R2} com soma (x,y)+(a,b)=(xa,yb) e multiplicação por escalar dada por α(x,y)=(αx,αy)',\n",
       " 'V={(x,y)∈R2} com soma coordenada a coordenada e multiplicação por escalar dada por α(x,y)=(α2x,α2y).',\n",
       " 'V={(x,y)∈R2/x>0,y>0} com soma e multiplicação por escalar coordenada a coordenada.',\n",
       " 'Matrizes diagonais',\n",
       " 'V={(x,y)∈R2} com soma coordenada a coordenada e multiplicação por escalar dada por α(x,y)=(α2x,α2y).',\n",
       " 'polinômios de grau 5',\n",
       " 'V={(x,y)∈R2} com soma (x,y)+(a,b)=(xa,yb) e multiplicação por escalar dada por α(x,y)=(αx,αy)',\n",
       " 'V={(x,y)∈R2} com soma (x,y)+(a,b)=(xa,yb) e multiplicação por escalar coordenada a coordenada.',\n",
       " 'V={(x,y)∈R2/x>0,y=ln(x)} com soma e multiplicação por escalar coordenada a coordenada.',\n",
       " 'V={(x,y)∈R2} com soma (x,y)+(a,b)=(xa,yb) e multiplicação por escalar dada por α(x,y)=(αx,αy)',\n",
       " 'V={(x,y,z)∈R3/3x+2y+5z=0} com soma e multiplicação por escalar coordenada a coordenada.',\n",
       " 'V={(x,y)∈R2} com soma coordenada a coordenada e multiplicação por escalar dada por α(x,y)=(α+x,α+y).']"
      ]
     },
     "execution_count": 60,
     "metadata": {},
     "output_type": "execute_result"
    }
   ],
   "source": [
    "flat_list"
   ]
  },
  {
   "cell_type": "code",
   "execution_count": 62,
   "metadata": {},
   "outputs": [],
   "source": [
    "for i in range(len(flat_list)):\n",
    "    flat_list[i] = flat_list[i].lower()\n",
    "    "
   ]
  },
  {
   "cell_type": "code",
   "execution_count": 63,
   "metadata": {},
   "outputs": [
    {
     "data": {
      "text/plain": [
       "['v={(x,y)∈r2} com soma (x,y)+(a,b)=(xa,yb) e multiplicação por escalar coordenada a coordenada.',\n",
       " 'v={(x,y)∈r2/x>0,y=ln(x)} com soma e multiplicação por escalar coordenada a coordenada.',\n",
       " 'v={(x,y)∈r2} com soma (x,y)+(a,b)=(xa,yb) e multiplicação por escalar dada por  α(x,y)=(αx,αy)',\n",
       " 'matrizes triangulares inferiores',\n",
       " 'v={(x,y)∈r2} com soma coordenada a coordenada e multiplicação por escalar dada por α(x,y)=(α+x,α+y).',\n",
       " 'v={(x,y)∈r2/y=1} com soma e multiplicação por escalar coordenada a coordenada.',\n",
       " 'v={(x,y,z)∈r3/3x+2y+5z=0} com soma e multiplicação por escalar coordenada a coordenada.',\n",
       " 'v={(x,y)∈r2/xy=1} com soma e multiplicação por escalar coordenada a coordenada.',\n",
       " 'v={(x,y)∈r2/x>0,y=ln(x)} com soma e multiplicação por escalar coordenada a coordenada.',\n",
       " 'v={(x,y)∈r2} com soma (x,y)+(a,b)=(xa,yb) e multiplicação por escalar coordenada a coordenada.',\n",
       " 'v={(x,y)∈r2} com soma (x,y)+(a,b)=(xa,yb) e multiplicação por escalar dada por α(x,y)=(αx,αy)',\n",
       " 'v={(x,y)∈r2/x>0,y>0} com soma e multiplicação por escalar coordenada a coordenada.',\n",
       " 'os números complexos com a soma usual e produto por escalar dado pelo produto de números complexos.',\n",
       " 'v={(x,y)∈r2} com soma coordenada a coordenada e multiplicação por escalar dada por α(x,y)=(α2x,α2y).',\n",
       " 'polinômios de grau 5',\n",
       " 'polinômios de grau 5',\n",
       " 'matrizes simétricas',\n",
       " 'v={(x,y)∈r2} com soma coordenada a coordenada e multiplicação por escalar dada por α(x,y)=(α2x,α2y).',\n",
       " 'v={(x,y)∈r2/x>0,y>0} com soma e multiplicação por escalar coordenada a coordenada.',\n",
       " 'v={(x,y)∈r2} com soma (x,y)+(a,b)=(xa,yb) e multiplicação por escalar dada por α(x,y)=(αx,αy)',\n",
       " 'v={(x,y)∈r2/x>0,y=ln(x)} com soma e multiplicação por escalar coordenada a coordenada.',\n",
       " 'v={(x,y)∈r2} com soma coordenada a coordenada e multiplicação por escalar dada por α(x,y)=(α+x,α+y).',\n",
       " 'v={(x,y)∈r2} com soma (x,y)+(a,b)=(xa,yb) e multiplicação por escalar dada por α(x,y)=(αx,αy)',\n",
       " 'v={(x,y,z)∈r3/x=y=z} com soma e multiplicação por escalar coordenada a coordenada.',\n",
       " 'v={(x,y)∈r2} com soma (x,y)+(a,b)=(xa,yb) e multiplicação por escalar coordenada a coordenada.',\n",
       " 'matrizes triangulares superiores',\n",
       " 'v={(x,y)∈r2/x>0,y>0} com soma e multiplicação por escalar coordenada a coordenada.',\n",
       " 'polinômios de grau 5',\n",
       " 'v={(x,y)∈r2} com soma (x,y)+(a,b)=(xa,yb) e multiplicação por escalar dada por α(x,y)=(αx,αy)',\n",
       " 'v={(x,y)∈r2} com soma coordenada a coordenada e multiplicação por escalar dada por α(x,y)=(α2x,α2y).',\n",
       " 'v={(x,y)∈r2/x>0,y>0} com soma e multiplicação por escalar coordenada a coordenada.',\n",
       " 'matrizes diagonais',\n",
       " 'v={(x,y)∈r2} com soma coordenada a coordenada e multiplicação por escalar dada por α(x,y)=(α2x,α2y).',\n",
       " 'polinômios de grau 5',\n",
       " 'v={(x,y)∈r2} com soma (x,y)+(a,b)=(xa,yb) e multiplicação por escalar dada por α(x,y)=(αx,αy)',\n",
       " 'v={(x,y)∈r2} com soma (x,y)+(a,b)=(xa,yb) e multiplicação por escalar coordenada a coordenada.',\n",
       " 'v={(x,y)∈r2/x>0,y=ln(x)} com soma e multiplicação por escalar coordenada a coordenada.',\n",
       " 'v={(x,y)∈r2} com soma (x,y)+(a,b)=(xa,yb) e multiplicação por escalar dada por α(x,y)=(αx,αy)',\n",
       " 'v={(x,y,z)∈r3/3x+2y+5z=0} com soma e multiplicação por escalar coordenada a coordenada.',\n",
       " 'v={(x,y)∈r2} com soma coordenada a coordenada e multiplicação por escalar dada por α(x,y)=(α+x,α+y).']"
      ]
     },
     "execution_count": 63,
     "metadata": {},
     "output_type": "execute_result"
    }
   ],
   "source": [
    "flat_list"
   ]
  },
  {
   "cell_type": "code",
   "execution_count": 67,
   "metadata": {},
   "outputs": [
    {
     "name": "stdout",
     "output_type": "stream",
     "text": [
      "['polinômios de grau 5', 4]\n",
      "['v={(x,y)∈r2/x>0,y=ln(x)} com soma e multiplicação por escalar coordenada a coordenada.', 4]\n",
      "['v={(x,y)∈r2/x>0,y>0} com soma e multiplicação por escalar coordenada a coordenada.', 4]\n",
      "['v={(x,y)∈r2} com soma (x,y)+(a,b)=(xa,yb) e multiplicação por escalar coordenada a coordenada.', 4]\n",
      "['v={(x,y)∈r2} com soma (x,y)+(a,b)=(xa,yb) e multiplicação por escalar dada por α(x,y)=(αx,αy)', 6]\n",
      "['v={(x,y)∈r2} com soma coordenada a coordenada e multiplicação por escalar dada por α(x,y)=(α+x,α+y).', 3]\n",
      "['v={(x,y)∈r2} com soma coordenada a coordenada e multiplicação por escalar dada por α(x,y)=(α2x,α2y).', 4]\n",
      "['v={(x,y,z)∈r3/3x+2y+5z=0} com soma e multiplicação por escalar coordenada a coordenada.', 2]\n"
     ]
    }
   ],
   "source": [
    "def Find_Repeated(x):\n",
    "    x2=sorted(x)\n",
    "    List_Of_Repeated=[]\n",
    "    for i in x2:\n",
    "        if x2.count(i)>1:\n",
    "            List_Of_Repeated.append([i,x2.count(i)])\n",
    "            for c in range(x2.count(i)):\n",
    "                for j in x2:\n",
    "                    if i==j and x2.count(i)>1:\n",
    "                        x2.remove(i)\n",
    "    List_Of_Repeated.sort()\n",
    "    return List_Of_Repeated\n",
    "\n",
    "\n",
    "# Repeated numbers: [1,2,3,4,5]\n",
    "\n",
    "# Simple print output:\n",
    "\n",
    "\n",
    "# For a neat output:\n",
    "\n",
    "for i in Find_Repeated(flat_list):\n",
    "    print(i)"
   ]
  },
  {
   "cell_type": "code",
   "execution_count": 68,
   "metadata": {},
   "outputs": [],
   "source": [
    "meu_set = set(flat_list)"
   ]
  },
  {
   "cell_type": "code",
   "execution_count": 70,
   "metadata": {},
   "outputs": [],
   "source": [
    "minha_lista = [['polinômios de grau 5'],\n",
    "['v={(x,y)∈r2/x>0,y=ln(x)} com soma e multiplicação por escalar coordenada a coordenada.'],\n",
    "['v={(x,y)∈r2/x>0,y>0} com soma e multiplicação por escalar coordenada a coordenada.'],\n",
    "['v={(x,y)∈r2} com soma (x,y)+(a,b)=(xa,yb) e multiplicação por escalar coordenada a coordenada.'],\n",
    "['v={(x,y)∈r2} com soma (x,y)+(a,b)=(xa,yb) e multiplicação por escalar dada por α(x,y)=(αx,αy)'],\n",
    "['v={(x,y)∈r2} com soma coordenada a coordenada e multiplicação por escalar dada por α(x,y)=(α+x,α+y).'],\n",
    "['v={(x,y)∈r2} com soma coordenada a coordenada e multiplicação por escalar dada por α(x,y)=(α2x,α2y).'],\n",
    "['v={(x,y,z)∈r3/3x+2y+5z=0} com soma e multiplicação por escalar coordenada a coordenada.']]"
   ]
  },
  {
   "cell_type": "code",
   "execution_count": 73,
   "metadata": {},
   "outputs": [],
   "source": [
    "for lista in minha_lista:\n",
    "    for sublista in lista:\n",
    "        meu_set.remove(sublista)"
   ]
  },
  {
   "cell_type": "code",
   "execution_count": 75,
   "metadata": {},
   "outputs": [
    {
     "name": "stdout",
     "output_type": "stream",
     "text": [
      "os números complexos com a soma usual e produto por escalar dado pelo produto de números complexos.\n",
      "v={(x,y,z)∈r3/x=y=z} com soma e multiplicação por escalar coordenada a coordenada.\n",
      "v={(x,y)∈r2} com soma (x,y)+(a,b)=(xa,yb) e multiplicação por escalar dada por  α(x,y)=(αx,αy)\n",
      "v={(x,y)∈r2/y=1} com soma e multiplicação por escalar coordenada a coordenada.\n",
      "matrizes triangulares inferiores\n",
      "matrizes simétricas\n",
      "matrizes triangulares superiores\n",
      "v={(x,y)∈r2/xy=1} com soma e multiplicação por escalar coordenada a coordenada.\n",
      "matrizes diagonais\n"
     ]
    }
   ],
   "source": [
    "for coisa in meu_set:\n",
    "    print(coisa)"
   ]
  },
  {
   "cell_type": "code",
   "execution_count": null,
   "metadata": {},
   "outputs": [],
   "source": []
  }
 ],
 "metadata": {
  "kernelspec": {
   "display_name": "Python 3",
   "language": "python",
   "name": "python3"
  },
  "language_info": {
   "codemirror_mode": {
    "name": "ipython",
    "version": 3
   },
   "file_extension": ".py",
   "mimetype": "text/x-python",
   "name": "python",
   "nbconvert_exporter": "python",
   "pygments_lexer": "ipython3",
   "version": "3.9.6"
  }
 },
 "nbformat": 4,
 "nbformat_minor": 4
}
