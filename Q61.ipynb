{
 "cells": [
  {
   "cell_type": "markdown",
   "id": "9c028aaa",
   "metadata": {},
   "source": [
    "## Questionário 61 (Q61)"
   ]
  },
  {
   "cell_type": "markdown",
   "id": "0932fad3",
   "metadata": {},
   "source": [
    "\n",
    "\n",
    "Orientações: \n",
    "\n",
    "- Registre suas respostas no questionário de mesmo nome no SIGAA.\n",
    "- O tempo de registro das respostas no questionário será de 10 minutos. Portanto, resolva primeiro as questões e depois registre-as.\n",
    "- Haverá apenas 1 (uma) tentativa de resposta.\n",
    "- Submeta seu arquivo-fonte (utilizado para resolver as questões) em formato _.ipynb_ pelo SIGAA anexando-o à Tarefa denominada \"Envio de arquivo\" correspondente ao questionário.\n",
    "\n",
    "*Nota:* o arquivo-fonte será utilizado apenas como prova de execução da tarefa. Nenhuma avaliação será feita quanto ao estilo de programação.\n",
    "\n",
    "<hr>"
   ]
  },
  {
   "cell_type": "markdown",
   "id": "ee30f903",
   "metadata": {},
   "source": [
    "**Questão 1.** Observe os gráficos abaixo e julgue os itens a seguir.\n",
    "\n",
    "<center><img src=\"https://i.imgur.com/QagZTDC.png\" width=\"800\" height=\"700\"></center> \n",
    "\n",
    "\n",
    "i) existe uma função convexa entre as quatro plotadas.\n",
    "\n",
    "<i style=\"color:blue;\">A função C é uma função convexa</i>\n",
    "\n",
    "ii) uma entre as funções plotadas possui convexidade parcial.\n",
    "\n",
    "\n",
    "iii) duas entre as funções plotadas não são convexas.\n",
    "\n",
    "<i style=\"color:blue;\">As funções ***A*** e ***B*** não são convexas</i>\n",
    "\n",
    "\n",
    "Assinale a alternativa correta:\n",
    "\n",
    "A. São corretos i) e ii), apenas.\n",
    "\n",
    "B. Apenas i) é correto.\n",
    "\n",
    "***C. São corretos i) e iii), apenas.***\n",
    "\n",
    "D. n.d.a.\n",
    "\n",
    "<div class=\"alert alert-block alert-success\">\n",
    "<b>Resposta:</b> C. São corretos i) e iii), apenas.\n",
    "</div>"
   ]
  },
  {
   "cell_type": "markdown",
   "id": "ab24149b",
   "metadata": {},
   "source": [
    "**Questão 2.** A função a seguir simula a curva do _potencial de ação_ de uma membrana:\n",
    "\n",
    "$$P(x) = \\dfrac{1.0}{(x - 0.5)^2 + 0.01} - \\dfrac{1.0}{(x - 0.8)^2 + 0.04} - 70.$$\n",
    "\n",
    "Use computação simbólica para calcular uma aproximação para $P'(x=0)$ e assinale a alternativa correta.\n",
    "\n",
    "A. -67.62\n",
    "\n",
    "\n",
    "B. 0.25\n",
    "\n",
    "\n",
    "***C. 11.33***\n",
    "\n",
    "\n",
    "D. 0.00\n",
    "\n",
    "Nota: Use `sympy.subs(x,x0)`.\n",
    "\n",
    "<div class=\"alert alert-block alert-success\">\n",
    "<b>Resposta:</b> C. 11.33\n",
    "</div>"
   ]
  },
  {
   "cell_type": "code",
   "execution_count": 1,
   "id": "d88f3d5c",
   "metadata": {},
   "outputs": [
    {
     "data": {
      "text/latex": [
       "$\\displaystyle -70 + \\frac{1}{\\left(x - 0.5\\right)^{2} + 0.01} - \\frac{1}{\\left(x - 0.8\\right)^{2} + 0.04}$"
      ],
      "text/plain": [
       "-70 + 1/((x - 0.5)**2 + 0.01) - 1/((x - 0.8)**2 + 0.04)"
      ]
     },
     "execution_count": 1,
     "metadata": {},
     "output_type": "execute_result"
    }
   ],
   "source": [
    "import sympy as sp\n",
    "x = sp.symbols('x')\n",
    "\n",
    "expr = 1/((x-0.5)**2+0.01) - 1/((x-0.8)**2+0.04)-70\n",
    "expr"
   ]
  },
  {
   "cell_type": "code",
   "execution_count": 2,
   "id": "a814533b",
   "metadata": {},
   "outputs": [
    {
     "data": {
      "text/latex": [
       "$\\displaystyle \\frac{1.0 - 2 x}{\\left(\\left(x - 0.5\\right)^{2} + 0.01\\right)^{2}} - \\frac{1.6 - 2 x}{\\left(\\left(x - 0.8\\right)^{2} + 0.04\\right)^{2}}$"
      ],
      "text/plain": [
       "(1.0 - 2*x)/((x - 0.5)**2 + 0.01)**2 - (1.6 - 2*x)/((x - 0.8)**2 + 0.04)**2"
      ]
     },
     "execution_count": 2,
     "metadata": {},
     "output_type": "execute_result"
    }
   ],
   "source": [
    "derivada = sp.diff(expr,x)\n",
    "derivada"
   ]
  },
  {
   "cell_type": "code",
   "execution_count": 3,
   "id": "00047a51",
   "metadata": {},
   "outputs": [
    {
     "data": {
      "text/latex": [
       "$\\displaystyle 11.3326917958273$"
      ],
      "text/plain": [
       "11.3326917958273"
      ]
     },
     "execution_count": 3,
     "metadata": {},
     "output_type": "execute_result"
    }
   ],
   "source": [
    "derivada.subs(x,0)"
   ]
  },
  {
   "cell_type": "markdown",
   "id": "b8ae46de",
   "metadata": {},
   "source": [
    "**Questão 3.** Considere a função\n",
    "\n",
    "$$f(x) =  - \\dfrac{1}{e^x \\text{sen}(6x)},$$\n",
    "\n",
    "definida no domínio $[-0.5,-0.1]$. Assinale a alternativa correta:\n",
    "\n",
    "A. $f(x)$ não é convexa e $f'(x) = -\\frac{e^{x}}{\\text{sen}{\\left(6 x \\right)}} + \\frac{6 e^{- x} \\cos{\\left(6 x \\right)}}{\\text{sen}^{2}{\\left(6 x \\right)}}$\n",
    "\n",
    "***B. $f(x)$ é convexa e $f'(x) = \\frac{e^{- x}}{\\text{sen}{\\left(6 x \\right)}} + \\frac{6 e^{- x} \\cos{\\left(6 x \\right)}}{\\text{sen}^{2}{\\left(6 x \\right)}}$***\n",
    "\n",
    "C. $f(x)$ não é convexa e $f'(x) = \\frac{e^{x}}{\\text{sen}{\\left(6 x \\right)}} + \\frac{6 e^{- x} \\cos{\\left(6 x \\right)}}{\\text{sen}^{2}{\\left(6 x \\right)}}$\n",
    "\n",
    "D. $f(x)$ é convexa e $f'(x) = -\\frac{e^{- x}}{\\text{sen}{\\left(6 x \\right)}} + \\frac{6 e^{- x} \\cos{\\left(6 x \\right)}}{\\text{sen}^{2}{\\left(6 x \\right)}}$\n",
    "\n",
    "\n",
    "\n",
    "\n",
    "\n",
    "<div class=\"alert alert-block alert-success\">\n",
    "<b>Resposta:</b> B. $f(x)$ é convexa e $f'(x) = \\frac{e^{- x}}{\\text{sen}{\\left(6 x \\right)}} + \\frac{6 e^{- x} \\cos{\\left(6 x \\right)}}{\\text{sen}^{2}{\\left(6 x \\right)}}$\n",
    "</div>"
   ]
  },
  {
   "cell_type": "code",
   "execution_count": 4,
   "id": "a0ce65b0",
   "metadata": {},
   "outputs": [
    {
     "data": {
      "image/png": "[encoded data removed]",
      "text/plain": [
       "<Figure size 432x288 with 1 Axes>"
      ]
     },
     "metadata": {
      "needs_background": "light"
     },
     "output_type": "display_data"
    }
   ],
   "source": [
    "import matplotlib.pyplot as plt\n",
    "import numpy as np\n",
    "\n",
    "\n",
    "\n",
    "#valores de x\n",
    "x = np.linspace(-0.5,-0.1,100)\n",
    "#equação\n",
    "y = -1/(np.e**x*np.sin(np.radians(6*x)))\n",
    "\n",
    "\n",
    "\n",
    "plt.plot(x,y)\n",
    "\n",
    "#ponto a esquerda (x=-0.5)\n",
    "plt.plot(-0.5,31.50264921207809,'o',color='r')\n",
    "#ponto a direita (x=-0.1)\n",
    "plt.plot(-0.1,105.53797765569855,'o',color='r')\n",
    "#linha\n",
    "x2, y2 = [-0.5,-0.1], [31.50264921207809,105.53797765569855]\n",
    "\n",
    "plt.plot(x2,y2, color='r')\n",
    "\n",
    "plt.show()"
   ]
  },
  {
   "cell_type": "code",
   "execution_count": 5,
   "id": "6d94078b",
   "metadata": {},
   "outputs": [
    {
     "data": {
      "text/latex": [
       "$\\displaystyle \\frac{e^{- x}}{\\sin{\\left(6 x \\right)}} + \\frac{6 e^{- x} \\cos{\\left(6 x \\right)}}{\\sin^{2}{\\left(6 x \\right)}}$"
      ],
      "text/plain": [
       "exp(-x)/sin(6*x) + 6*exp(-x)*cos(6*x)/sin(6*x)**2"
      ]
     },
     "execution_count": 5,
     "metadata": {},
     "output_type": "execute_result"
    }
   ],
   "source": [
    "x = sp.symbols('x')\n",
    "derivada = sp.diff(-1/(sp.E**x*sp.sin(6*x)))\n",
    "derivada"
   ]
  }
 ],
 "metadata": {
  "kernelspec": {
   "display_name": "Python 3",
   "language": "python",
   "name": "python3"
  },
  "language_info": {
   "codemirror_mode": {
    "name": "ipython",
    "version": 3
   },
   "file_extension": ".py",
   "mimetype": "text/x-python",
   "name": "python",
   "nbconvert_exporter": "python",
   "pygments_lexer": "ipython3",
   "version": "3.9.6"
  }
 },
 "nbformat": 4,
 "nbformat_minor": 5
}
