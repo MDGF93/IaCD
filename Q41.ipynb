{
 "cells": [
  {
   "cell_type": "markdown",
   "id": "ae739765",
   "metadata": {},
   "source": [
    "## Questionário 41 (Q41)"
   ]
  },
  {
   "cell_type": "markdown",
   "id": "3f742e8d",
   "metadata": {},
   "source": [
    "Orientações: \n",
    "\n",
    "- Registre suas respostas no questionário de mesmo nome no SIGAA.\n",
    "- O tempo de registro das respostas no questionário será de 10 minutos. Portanto, resolva primeiro as questões e depois registre-as.\n",
    "- Haverá apenas 1 (uma) tentativa de resposta.\n",
    "- Submeta seu arquivo-fonte (utilizado para resolver as questões) em formato _.ipynb_ pelo SIGAA anexando-o à Tarefa denominada \"Envio de arquivo\" correspondente ao questionário.\n",
    "\n",
    "*Nota:* o arquivo-fonte será utilizado apenas como prova de execução da tarefa. Nenhuma avaliação será feita quanto ao estilo de programação.\n",
    "\n",
    "<hr>"
   ]
  },
  {
   "cell_type": "markdown",
   "id": "2568c76e",
   "metadata": {},
   "source": [
    "**Questão 1.** No _dataset_ [enem2019.xlsx](https://github.com/gcpeixoto/ICD/blob/main/database/enem2019.xlsx), estão disponíveis as notas médias por estado obtidas nas provas do ENEM 2019. A partir da série que contém a média das notas da prova de Ciências Humanas, converta os valores para inteiro, faça uma distribuição de frequências e calcule a amplitude _h_ dos intervalos de classe, se divididos uniformemente. Marque a alternativa que corresponde ao valor correto de _h_ e à classe cuja frequência é 3.\n",
    "\n",
    "A. _h_ = 8 e [499,509)\n",
    "\n",
    "***B. _h_ = 10 e [499,509)***\n",
    "\n",
    "C. _h_ = 9 e [509,519)\n",
    "\n",
    "D. _h_ = 10 e [509,519)\n",
    "\n",
    "\n",
    "<div class=\"alert alert-block alert-success\">\n",
    "    <b>Resposta:</b> B. <i>h</i> = 10 e [499,509)\n",
    "</div>"
   ]
  },
  {
   "cell_type": "code",
   "execution_count": 113,
   "id": "a0b9eda2",
   "metadata": {},
   "outputs": [],
   "source": [
    "import numpy as np\n",
    "import pandas as pd\n",
    "import seaborn as sns\n",
    "\n",
    "\n",
    "def sturges(dados):\n",
    "    \"\"\"\n",
    "    Aplica a formula de Sturges em uma série ou lista\n",
    "\n",
    "    C = R/1+3.322log(N)\n",
    "\n",
    "    onde C é a amplitude de cada intervalo de classes, R é a amplitude dos dados (range)\n",
    "    e N é o número de itens contidos na série (len)\n",
    "    \"\"\"\n",
    "    r = dados.max() - dados.min()\n",
    "    n = len(dados)\n",
    "    return math.ceil((r) / (1 + 3.322 * np.log10(n)))"
   ]
  },
  {
   "cell_type": "code",
   "execution_count": 167,
   "id": "39ff685f",
   "metadata": {},
   "outputs": [
    {
     "name": "stdout",
     "output_type": "stream",
     "text": [
      "{5: 478.1666666666667, 6: 487.3333333333333, 3: 496.5, 1: 505.6666666666667, 7: 514.8333333333334}\n"
     ]
    }
   ],
   "source": [
    "df = pd.read_excel(\n",
    "    \"https://raw.githubusercontent.com/gcpeixoto/ICD/main/database/enem2019.xlsx\"\n",
    ")\n",
    "df[\"Média da nota da prova de Ciências Humanas\"] = df[\n",
    "    \"Média da nota da prova de Ciências Humanas\"\n",
    "].astype(int)\n",
    "dados = df[\"Média da nota da prova de Ciências Humanas\"]\n",
    "\n",
    "# O número k de bins para os dados deve ser:\n",
    "k = int(np.ceil(1 + 3.322 * np.log10(len(dados))))\n",
    "# A amplitude para cada bin deve é de:\n",
    "amp = sturges(dados)\n",
    "\n",
    "# O histogram do NumPy retorna dois conjuntos de array\n",
    "# o primeiro é a frequência de cada bin, e o são os valores de início de cada bin\n",
    "hist_plot = np.histogram(dados, bins=k)\n",
    "\n",
    "intervalos = dict(zip(list(hist_plot[0]), list(hist_plot[1])))\n",
    "print(intervalos)"
   ]
  },
  {
   "cell_type": "markdown",
   "id": "5877d83b",
   "metadata": {},
   "source": [
    "O bin que contém 3 valores é \\[496.5, 505.6666666666667)"
   ]
  },
  {
   "cell_type": "markdown",
   "id": "d2fdeecf",
   "metadata": {},
   "source": [
    "\n",
    "**Questão 2.** Considerando a série que contém a média das notas da prova de Matemática apenas para os estados nordestinos, assinale a alternativa que corresponde ao valor médio aproximado dessas médias, a mediana e a moda, se houver.\n",
    "\n",
    "A. 504.27, 502.84, unimodal\n",
    "\n",
    "B. 505.27, 502.84, 9\n",
    "\n",
    "***C. 504.27, 502.84, amodal***\n",
    "\n",
    "D. 504.27, 503.84, 8\n",
    "\n",
    "\n",
    "<div class=\"alert alert-block alert-success\">\n",
    "    <b>Resposta:</b> C. 504.27, 502.84, amodal\n",
    "\n",
    "</div>"
   ]
  },
  {
   "cell_type": "code",
   "execution_count": 213,
   "id": "0879b140",
   "metadata": {},
   "outputs": [],
   "source": [
    "df = pd.read_excel(\n",
    "    \"https://raw.githubusercontent.com/gcpeixoto/ICD/main/database/enem2019.xlsx\"\n",
    ")\n",
    "\n",
    "# O primeiro dígito da coluna \"COD UF\" corresponde à região que aquele estado pertence, de tal maneira:\n",
    "# 1 = Norte\n",
    "# 2 = Noreste\n",
    "# 3 = Sudeste\n",
    "# 4 = Sul\n",
    "# 5 = Centro-Oeste\n",
    "#\n",
    "# Logo, para filtrar todos aqueles estados que não são do Nordeste basta remover todas aquelas linhas\n",
    "# cujo o código de estados não começam com '2', para isso há necessidade de transformar os itens da coluna\n",
    "# em string.\n",
    "\n",
    "df[\"COD UF\"] = df[\"COD UF\"].astype(str)\n",
    "for i in range(len(df)):\n",
    "    if not df.at[i, \"COD UF\"].startswith(\"2\"):\n",
    "        df = df.drop(i)"
   ]
  },
  {
   "cell_type": "code",
   "execution_count": 202,
   "id": "15b84e0e",
   "metadata": {},
   "outputs": [
    {
     "data": {
      "text/plain": [
       "count      9.000000\n",
       "mean     504.269135\n",
       "std       12.146534\n",
       "min      480.233747\n",
       "25%      498.939480\n",
       "50%      502.835294\n",
       "75%      509.135298\n",
       "max      523.480033\n",
       "Name: Média da nota da prova de Matemática, dtype: float64"
      ]
     },
     "execution_count": 202,
     "metadata": {},
     "output_type": "execute_result"
    }
   ],
   "source": [
    "df[\"Média da nota da prova de Matemática\"].describe()"
   ]
  },
  {
   "cell_type": "markdown",
   "id": "9776a0b2",
   "metadata": {},
   "source": [
    "***Mean*** é a média da série, ou seja, a média das médias das notas da prova de matemática para os estados do Nordeste.\n",
    "\n",
    "E o quartil de ***50%*** é equivalente à mediana"
   ]
  },
  {
   "cell_type": "code",
   "execution_count": 200,
   "id": "f5181b63",
   "metadata": {},
   "outputs": [
    {
     "name": "stdout",
     "output_type": "stream",
     "text": [
      "A mediana foi de, aproximadamente: 502.84\n",
      "A média foi de, aproximadamente: 504.27\n"
     ]
    }
   ],
   "source": [
    "print(\n",
    "    f\"\"\"A mediana foi de, aproximadamente: {round(df[\"Média da nota da prova de Matemática\"].describe()[\"50%\"], 2)}\n",
    "A média foi de, aproximadamente: {round(df[\"Média da nota da prova de Matemática\"].describe()[\"mean\"], 2)}\"\"\"\n",
    ")"
   ]
  },
  {
   "cell_type": "code",
   "execution_count": 209,
   "id": "ccf5d874",
   "metadata": {},
   "outputs": [
    {
     "data": {
      "text/plain": [
       "0    480.233747\n",
       "1    498.075512\n",
       "2    498.939480\n",
       "3    501.978563\n",
       "4    502.835294\n",
       "5    508.695031\n",
       "6    509.135298\n",
       "7    515.049252\n",
       "8    523.480033\n",
       "dtype: float64"
      ]
     },
     "execution_count": 209,
     "metadata": {},
     "output_type": "execute_result"
    }
   ],
   "source": [
    "df[\"Média da nota da prova de Matemática\"].mode()"
   ]
  },
  {
   "cell_type": "markdown",
   "id": "7180f755",
   "metadata": {},
   "source": [
    "Pode-se constatar que não há moda na Series acima, sendo assim, essa é uma sequência ***amodal***"
   ]
  },
  {
   "cell_type": "markdown",
   "id": "1eacbd4b",
   "metadata": {},
   "source": [
    "**Questão 3.** Levando em conta a série que contém as médias das notas da prova de Redação apenas para os estados nordestinos, assinale a alternativa correta quanto ao quartil em que o estado da Paraíba se encontrou nesta prova.\n",
    "\n",
    "A. 4-quartil\n",
    "\n",
    "***B. 3-quartil***\n",
    "\n",
    "C. 2-quartil\n",
    "\n",
    "D. 1-quartil\n",
    "\n",
    "\n",
    "<div class=\"alert alert-block alert-success\">\n",
    "    <b>Resposta:</b> B. 3-quartil\n",
    "\n",
    "</div>\n"
   ]
  },
  {
   "cell_type": "code",
   "execution_count": 6,
   "id": "dc82c6a6",
   "metadata": {},
   "outputs": [],
   "source": [
    "import pandas as pd\n",
    "\n",
    "df = pd.read_excel(\n",
    "    \"https://raw.githubusercontent.com/gcpeixoto/ICD/main/database/enem2019.xlsx\"\n",
    ")\n",
    "df[\"COD UF\"] = df[\"COD UF\"].astype(str)\n",
    "for i in range(len(df)):\n",
    "    if not df.at[i, \"COD UF\"].startswith(\"2\"):\n",
    "        df = df.drop(i)\n",
    "\n",
    "# Resetando os indexes do dataframe\n",
    "df = df.reset_index().drop([\"index\"], axis=1)"
   ]
  },
  {
   "cell_type": "code",
   "execution_count": 268,
   "id": "28839eff",
   "metadata": {},
   "outputs": [
    {
     "data": {
      "text/plain": [
       "count      9.000000\n",
       "mean     565.778561\n",
       "std       28.193971\n",
       "min      526.061777\n",
       "25%      553.236927\n",
       "50%      561.313678\n",
       "75%      585.282333\n",
       "max      604.263188\n",
       "Name: Média da nota da prova de redação, dtype: float64"
      ]
     },
     "execution_count": 268,
     "metadata": {},
     "output_type": "execute_result"
    }
   ],
   "source": [
    "df[\"Média da nota da prova de redação\"].describe()"
   ]
  },
  {
   "cell_type": "code",
   "execution_count": 7,
   "id": "40997edc",
   "metadata": {},
   "outputs": [
    {
     "data": {
      "text/plain": [
       "4    585.282333\n",
       "Name: Média da nota da prova de redação, dtype: float64"
      ]
     },
     "execution_count": 7,
     "metadata": {},
     "output_type": "execute_result"
    }
   ],
   "source": [
    "df[(df == \"PB\").any(axis=1)][\"Média da nota da prova de redação\"]"
   ]
  },
  {
   "cell_type": "markdown",
   "id": "1b2217c5",
   "metadata": {},
   "source": [
    "A nota da Paraíba é o valor que inicia o ***terceiro quartil (75%)*** dos dados."
   ]
  }
 ],
 "metadata": {
  "kernelspec": {
   "display_name": "Python 3",
   "language": "python",
   "name": "python3"
  },
  "language_info": {
   "codemirror_mode": {
    "name": "ipython",
    "version": 3
   },
   "file_extension": ".py",
   "mimetype": "text/x-python",
   "name": "python",
   "nbconvert_exporter": "python",
   "pygments_lexer": "ipython3",
   "version": "3.9.6"
  }
 },
 "nbformat": 4,
 "nbformat_minor": 5
}
