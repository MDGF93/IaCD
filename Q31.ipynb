{
 "cells": [
  {
   "cell_type": "markdown",
   "id": "61de8ae9",
   "metadata": {},
   "source": [
    "## Questionário 31 (Q31)"
   ]
  },
  {
   "cell_type": "markdown",
   "id": "48192f3e",
   "metadata": {},
   "source": [
    "Orientações: \n",
    "\n",
    "- Registre suas respostas no questionário de mesmo nome no SIGAA.\n",
    "- O tempo de registro das respostas no questionário será de 10 minutos. Portanto, resolva primeiro as questões e depois registre-as.\n",
    "- Haverá apenas 1 (uma) tentativa de resposta.\n",
    "- Submeta seu arquivo-fonte (utilizado para resolver as questões) em formato _.ipynb_ pelo SIGAA anexando-o à Tarefa denominada \"Envio de arquivo\" correspondente ao questionário.\n",
    "\n",
    "*Nota:* o arquivo-fonte será utilizado apenas como prova de execução da tarefa. Nenhuma avaliação será feita quanto ao estilo de programação.\n",
    "\n",
    "<hr>"
   ]
  },
  {
   "cell_type": "markdown",
   "id": "ec591ee7",
   "metadata": {},
   "source": [
    "**Questão 1.** Assinale a alternativa cujos tipos de dado mencionados podem ser todos utilizados para construir uma _Series_ do `pandas`.\n",
    "\n",
    "A. `str`, `numpy.array`, `set`.\n",
    "\n",
    "B. `set`, `list`, `tuple`.\n",
    " \n",
    "C. `numpy.array`, `set`, `float`.\n",
    "\n",
    "**D. `dict`, `numpy.array`, `complex`.**\n",
    "\n",
    "\n",
    "\n",
    "<div class=\"alert alert-block alert-success\">\n",
    "<b>Resposta:</b> D. dict, numpy.array, complex.\n",
    "</div>"
   ]
  },
  {
   "cell_type": "code",
   "execution_count": 12,
   "id": "6f4a6e7a",
   "metadata": {},
   "outputs": [
    {
     "name": "stdout",
     "output_type": "stream",
     "text": [
      "<class 'set'> Não pode ser utilizado para criar um Series\n"
     ]
    }
   ],
   "source": [
    "import pandas as pd\n",
    "import numpy as np\n",
    "\n",
    "string = 'abc' #Pode\n",
    "np_arr = np.array([1,2,3]) #Pode\n",
    "um_set = {1,2,3} # N pode\n",
    "tupla  = (1,2,3) # Pode\n",
    "floatt = 2.3434  # Pode\n",
    "comple = 2j # Pode\n",
    "\n",
    "elementos = [string, np_arr, um_set, tupla, floatt, comple]\n",
    "\n",
    "for datatype in elementos:\n",
    "    try:\n",
    "        x = pd.Series(datatype)\n",
    "    except:\n",
    "        print(f\"{type(datatype)} Não pode ser utilizado para criar um Series\")"
   ]
  },
  {
   "cell_type": "markdown",
   "id": "c60b536c",
   "metadata": {},
   "source": [
    "**Questão 2** Ao se construir um objeto `pandas.Series`, um comportamento padrão é esperado quando índices não são explicitamente fornecidos. Semelhantemente, ao se trabalhar com objetos `pandas.DataFrame`, a biblioteca encarrega-se, por padrão, de tratar dados chamados \"ausentes\".  Assinale a alternativa correta quanto à execução das funções de criação dos objetos.\n",
    "\n",
    "A. `pandas.Series()` sempre retorna erro se um `index` não for especificado; `pandas.DataFrame` trata dados ausentes adicionando 0 nas posições devidas e converte o `dtype` de todas as `Series` que o constituem para `int64`. \n",
    "\n",
    "B. `pandas.Series()` atribui valores de `1` a `n` (sendo `n` o número de elementos) às linhas; `pandas.DataFrame()` trata dados ausentes adicionando `np.nan` nas posições devidas.\n",
    "\n",
    "**C. `pandas.Series()` atribui valores de `0` a `n` (sendo `n` o número de elementos) às linhas; `pandas.DataFrame()` trata dados ausentes adicionando `np.nan` nas posições devidas.**\n",
    "\n",
    "D. n.d.a.\n",
    "\n",
    "<div class=\"alert alert-block alert-success\">\n",
    "<b>Resposta:</b> C. pandas.Series() atribui valores de 0 a n (sendo n o número de elementos) às linhas; pandas.DataFrame() trata dados ausentes adicionando np.nan nas posições devidas.\n",
    "</div>"
   ]
  },
  {
   "cell_type": "code",
   "execution_count": 36,
   "id": "b37be1b6",
   "metadata": {},
   "outputs": [
    {
     "name": "stdout",
     "output_type": "stream",
     "text": [
      "RangeIndex(start=0, stop=4, step=1)\n"
     ]
    }
   ],
   "source": [
    "x = pd.Series([1,2,None,4])\n",
    "print(x.keys())"
   ]
  },
  {
   "cell_type": "code",
   "execution_count": 37,
   "id": "a899d7bc",
   "metadata": {},
   "outputs": [
    {
     "data": {
      "text/plain": [
       "0   NaN\n",
       "Name: 2, dtype: float64"
      ]
     },
     "execution_count": 37,
     "metadata": {},
     "output_type": "execute_result"
    }
   ],
   "source": [
    "df = pd.DataFrame(x)\n",
    "df.iloc[2]"
   ]
  },
  {
   "attachments": {
    "image.png": {
     "image/png": "[encoded data removed]"
    }
   },
   "cell_type": "markdown",
   "id": "185b1f2a",
   "metadata": {},
   "source": [
    "**Questão 3.** A temperatura na Elysium Planitia do Planeta Vermelho é monitorada pela NASA através da MARS InSigth Mission. \n",
    "Suponha que você assinou um contrato com a NASA para analisar supostas predições climáticas para o ano de 2022. O gráfico abaixo mostra uma distribuição provável da temperatura média diária na região supracitada para cada dia do mês de junho (disponível no arquivo [mars-temp-2022-06.csv](https://github.com/gcpeixoto/ICD/blob/main/database/mars-temp-2022-06.csv?raw=true)), porém, falhas de medição passadas induziram _gaps_ nas previsões para alguns dias, como pode ser observado.\n",
    "\n",
    "![image.png](attachment:image.png)\n",
    "\n",
    "Fonte: adaptado de [NASA MARS Insight Mission](https://mars.nasa.gov/insight/weather/)\n",
    "\n",
    "\n",
    "Sabendo que a temperatura $T_d$ no dia desconhecido $d$ pode ser estimada por\n",
    "\n",
    "$$T_d = \\mu(T_{d-1},T_{d-2},T_{d-3}),$$\n",
    "\n",
    "onde $\\mu$ significa \"média aritmética dos valores dados\", assinale a alternativa que corresponde à temperatura média para todo o mês de junho, à menor e à maior, nesta ordem.\n",
    "\n",
    "A. (-72.15, -74.99, -65.07)\n",
    "\n",
    "B. (-65.0, -72.99, -65.07)\n",
    "\n",
    "C. (-75.0, -74.99, -65.07)\n",
    "\n",
    "**D. (-69.97, -74.99, -65.07)**\n",
    "\n",
    "\n",
    "**Obs.:** se $d=25$, a temperatura no 25o. dia é a média das temperaturas do 22o. ao 24o. dia.\n",
    "\n",
    "<div class=\"alert alert-block alert-success\">\n",
    "<b>Resposta:</b> D. (-69.97, -74.99, -65.07)\n",
    "</div>"
   ]
  },
  {
   "cell_type": "code",
   "execution_count": 2,
   "id": "75545e26",
   "metadata": {},
   "outputs": [],
   "source": [
    "import pandas as pd\n",
    "\n",
    "df = pd.read_csv(\"https://raw.githubusercontent.com/gcpeixoto/ICD/main/database/mars-temp-2022-06.csv\")\n",
    "df.rename(columns={'Unnamed: 0': 'dia'}, inplace=True)"
   ]
  },
  {
   "cell_type": "code",
   "execution_count": 4,
   "id": "704847fa",
   "metadata": {},
   "outputs": [
    {
     "data": {
      "text/plain": [
       "nan"
      ]
     },
     "execution_count": 4,
     "metadata": {},
     "output_type": "execute_result"
    }
   ],
   "source": [
    "df.at[3,'temp']"
   ]
  },
  {
   "cell_type": "code",
   "execution_count": 104,
   "id": "9f612368",
   "metadata": {},
   "outputs": [],
   "source": [
    "def temp_mars(dia):\n",
    "    return (df.at[dia-1, 'temp'] + df.at[dia-2, 'temp'] + df.at[dia-3, 'temp'])/3\n",
    "\n",
    "for i in range(len(df)):\n",
    "    if pd.isna(df.at[i, 'temp']):\n",
    "        df.at[i, 'temp'] = temp_mars(i)"
   ]
  },
  {
   "cell_type": "code",
   "execution_count": 105,
   "id": "4ea254ea",
   "metadata": {},
   "outputs": [
    {
     "name": "stdout",
     "output_type": "stream",
     "text": [
      "\n",
      "A temperatura média para o mês de junho é: -69.97°C\n",
      "A temperatura mínima para o mês de junho é: -74.99°C\n",
      "A temperatura máxima para o mês de junho é: -65.07°C\n",
      "----------------------------------------------------\n",
      "Resposta: (-69.97, -74.99, -65.07)\n",
      "\n"
     ]
    }
   ],
   "source": [
    "print(f'''\n",
    "A temperatura média para o mês de junho é: {round(df['temp'].describe()['mean'], 2)}°C\n",
    "A temperatura mínima para o mês de junho é: {round(df['temp'].describe()['min'], 2)}°C\n",
    "A temperatura máxima para o mês de junho é: {round(df['temp'].describe()['max'], 2)}°C\n",
    "----------------------------------------------------\n",
    "Resposta: ({round(df['temp'].describe()['mean'],2)}, {round(df['temp'].describe()['min'],2)}, {round(df['temp'].describe()['max'],2 )})\n",
    "''')\n"
   ]
  },
  {
   "cell_type": "code",
   "execution_count": null,
   "id": "15d983a7",
   "metadata": {},
   "outputs": [],
   "source": []
  }
 ],
 "metadata": {
  "kernelspec": {
   "display_name": "Python 3",
   "language": "python",
   "name": "python3"
  },
  "language_info": {
   "codemirror_mode": {
    "name": "ipython",
    "version": 3
   },
   "file_extension": ".py",
   "mimetype": "text/x-python",
   "name": "python",
   "nbconvert_exporter": "python",
   "pygments_lexer": "ipython3",
   "version": "3.9.6"
  }
 },
 "nbformat": 4,
 "nbformat_minor": 5
}
