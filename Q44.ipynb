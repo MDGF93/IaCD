{
 "cells": [
  {
   "cell_type": "markdown",
   "id": "edfc2eb1",
   "metadata": {},
   "source": [
    "## Questionário 44 (Q44)"
   ]
  },
  {
   "cell_type": "markdown",
   "id": "850415d9",
   "metadata": {},
   "source": [
    "Orientações: \n",
    "\n",
    "- Registre suas respostas no questionário de mesmo nome no SIGAA.\n",
    "- O tempo de registro das respostas no questionário será de 10 minutos. Portanto, resolva primeiro as questões e depois registre-as.\n",
    "- Haverá apenas 1 (uma) tentativa de resposta.\n",
    "- Submeta seu arquivo-fonte (utilizado para resolver as questões) em formato _.ipynb_ pelo SIGAA anexando-a à Tarefa denominada \"Envio de arquivo\" correspondente ao questionário.\n",
    "\n",
    "*Nota:* o arquivo-fonte será utilizado apenas como prova de execução da tarefa. Nenhuma avaliação será feita quanto ao estilo de programação.\n",
    "\n",
    "<hr>"
   ]
  },
  {
   "cell_type": "markdown",
   "id": "41f1a425",
   "metadata": {},
   "source": [
    "**Questão 1.** O _dataset_ [covid19-weekly-trends-in-europe](https://github.com/gcpeixoto/ICD/blob/main/database/covid19-weekly-trends-in-europe.csv) contém tendências semanais de casos de Covid-19 em diferentes países da Europa com referência ao dia 8 de novembro de 2021. Separe a série correspondente ao número de casos nos últimos 7 dias (_Cases in the last 7 days_) entre países pertencentes à União Europeia (_UE_) e não pertencentes à UE (_non-UE_). Assinale a alternativa que associa corretamente o grupo de países ao valor do coeficiente de Pearson.\n",
    "\n",
    "A. _non-UE_: 620983827.08\n",
    "\n",
    "B. _UE_: 620983827.08\n",
    "\n",
    "C. _UE_: 750983827.02\n",
    "\n",
    "D. _non-UE_: 8290903184.71"
   ]
  },
  {
   "cell_type": "code",
   "execution_count": 1,
   "id": "1be1e4d8",
   "metadata": {},
   "outputs": [],
   "source": [
    "import pandas as pd\n",
    "\n",
    "def p(x):\n",
    "    pearson = 3*(x.mean() - x.median()) * x.std()\n",
    "    return pearson[0]\n",
    "\n",
    "UE = [\n",
    "    'Austria',\n",
    "    'Belgium',\n",
    "    'Bulgaria',\n",
    "    'Croatia',\n",
    "    'Republic of Cyprus',\n",
    "    'Czechia',\n",
    "    'Denmark',\n",
    "    'Estonia',\n",
    "    'Finland',\n",
    "    'France',\n",
    "    'Germany',\n",
    "    'Greece',\n",
    "    'Hungary',\n",
    "    'Ireland',\n",
    "    'Italy',\n",
    "    'Latvia',\n",
    "    'Lithuania',\n",
    "    'Luxembourg',\n",
    "    'Malta',\n",
    "    'Netherlands',\n",
    "    'Poland',\n",
    "    'Portugal',\n",
    "    'Romania',\n",
    "    'Slovakia',\n",
    "    'Slovenia',\n",
    "    'Spain',\n",
    "    'Sweden'\n",
    "]\n",
    "\n",
    "df = pd.read_csv(\"https://github.com/gcpeixoto/ICD/raw/main/database/covid19-weekly-trends-in-europe.csv\")\n"
   ]
  },
  {
   "cell_type": "code",
   "execution_count": 2,
   "id": "7eadb98c",
   "metadata": {},
   "outputs": [
    {
     "data": {
      "text/html": [
       "<div>\n",
       "<style scoped>\n",
       "    .dataframe tbody tr th:only-of-type {\n",
       "        vertical-align: middle;\n",
       "    }\n",
       "\n",
       "    .dataframe tbody tr th {\n",
       "        vertical-align: top;\n",
       "    }\n",
       "\n",
       "    .dataframe thead th {\n",
       "        text-align: right;\n",
       "    }\n",
       "</style>\n",
       "<table border=\"1\" class=\"dataframe\">\n",
       "  <thead>\n",
       "    <tr style=\"text-align: right;\">\n",
       "      <th></th>\n",
       "      <th>Country, Other</th>\n",
       "      <th>Cases in the last 7 days</th>\n",
       "      <th>Cases in the preceding 7 days</th>\n",
       "      <th>Weekly Case % Change</th>\n",
       "      <th>Cases in the last 7 days/1M pop</th>\n",
       "      <th>Deaths in the last 7 days</th>\n",
       "      <th>Deaths in the preceeding 7 days</th>\n",
       "      <th>Weekly Death % Change</th>\n",
       "      <th>Deaths in the last 7 days/1M pop</th>\n",
       "      <th>Population</th>\n",
       "    </tr>\n",
       "  </thead>\n",
       "  <tbody>\n",
       "    <tr>\n",
       "      <th>0</th>\n",
       "      <td>Russia</td>\n",
       "      <td>281305</td>\n",
       "      <td>272147</td>\n",
       "      <td>3.0</td>\n",
       "      <td>1926</td>\n",
       "      <td>8276</td>\n",
       "      <td>7938</td>\n",
       "      <td>4.0</td>\n",
       "      <td>57</td>\n",
       "      <td>146018963</td>\n",
       "    </tr>\n",
       "    <tr>\n",
       "      <th>1</th>\n",
       "      <td>UK</td>\n",
       "      <td>245052</td>\n",
       "      <td>281168</td>\n",
       "      <td>-13.0</td>\n",
       "      <td>3584</td>\n",
       "      <td>1173</td>\n",
       "      <td>1099</td>\n",
       "      <td>7.0</td>\n",
       "      <td>17</td>\n",
       "      <td>68367364</td>\n",
       "    </tr>\n",
       "    <tr>\n",
       "      <th>2</th>\n",
       "      <td>Germany</td>\n",
       "      <td>172611</td>\n",
       "      <td>131880</td>\n",
       "      <td>31.0</td>\n",
       "      <td>2051</td>\n",
       "      <td>800</td>\n",
       "      <td>465</td>\n",
       "      <td>72.0</td>\n",
       "      <td>10</td>\n",
       "      <td>84145628</td>\n",
       "    </tr>\n",
       "    <tr>\n",
       "      <th>3</th>\n",
       "      <td>Ukraine</td>\n",
       "      <td>153131</td>\n",
       "      <td>152897</td>\n",
       "      <td>0.2</td>\n",
       "      <td>3530</td>\n",
       "      <td>4355</td>\n",
       "      <td>3857</td>\n",
       "      <td>13.0</td>\n",
       "      <td>100</td>\n",
       "      <td>43378803</td>\n",
       "    </tr>\n",
       "    <tr>\n",
       "      <th>4</th>\n",
       "      <td>Poland</td>\n",
       "      <td>78963</td>\n",
       "      <td>52327</td>\n",
       "      <td>51.0</td>\n",
       "      <td>2089</td>\n",
       "      <td>758</td>\n",
       "      <td>552</td>\n",
       "      <td>37.0</td>\n",
       "      <td>20</td>\n",
       "      <td>37790630</td>\n",
       "    </tr>\n",
       "  </tbody>\n",
       "</table>\n",
       "</div>"
      ],
      "text/plain": [
       "  Country, Other  Cases in the last 7 days  Cases in the preceding 7 days  \\\n",
       "0         Russia                    281305                         272147   \n",
       "1             UK                    245052                         281168   \n",
       "2        Germany                    172611                         131880   \n",
       "3        Ukraine                    153131                         152897   \n",
       "4         Poland                     78963                          52327   \n",
       "\n",
       "   Weekly Case % Change  Cases in the last 7 days/1M pop  \\\n",
       "0                   3.0                             1926   \n",
       "1                 -13.0                             3584   \n",
       "2                  31.0                             2051   \n",
       "3                   0.2                             3530   \n",
       "4                  51.0                             2089   \n",
       "\n",
       "   Deaths in the last 7 days  Deaths in the preceeding 7 days  \\\n",
       "0                       8276                             7938   \n",
       "1                       1173                             1099   \n",
       "2                        800                              465   \n",
       "3                       4355                             3857   \n",
       "4                        758                              552   \n",
       "\n",
       "   Weekly Death % Change  Deaths in the last 7 days/1M pop  Population  \n",
       "0                    4.0                                57   146018963  \n",
       "1                    7.0                                17    68367364  \n",
       "2                   72.0                                10    84145628  \n",
       "3                   13.0                               100    43378803  \n",
       "4                   37.0                                20    37790630  "
      ]
     },
     "execution_count": 2,
     "metadata": {},
     "output_type": "execute_result"
    }
   ],
   "source": [
    "df.head()"
   ]
  },
  {
   "cell_type": "code",
   "execution_count": 3,
   "id": "fae92717",
   "metadata": {},
   "outputs": [
    {
     "data": {
      "text/plain": [
       "['Albania',\n",
       " 'Andorra',\n",
       " 'Austria',\n",
       " 'Belarus',\n",
       " 'Belgium',\n",
       " 'Bosnia and Herzegovina',\n",
       " 'Bulgaria',\n",
       " 'Channel Islands',\n",
       " 'Croatia',\n",
       " 'Czechia',\n",
       " 'Denmark',\n",
       " 'Estonia',\n",
       " 'Faeroe Islands',\n",
       " 'Finland',\n",
       " 'France',\n",
       " 'Germany',\n",
       " 'Gibraltar',\n",
       " 'Greece',\n",
       " 'Hungary',\n",
       " 'Iceland',\n",
       " 'Ireland',\n",
       " 'Isle of Man',\n",
       " 'Italy',\n",
       " 'Latvia',\n",
       " 'Liechtenstein',\n",
       " 'Lithuania',\n",
       " 'Luxembourg',\n",
       " 'Malta',\n",
       " 'Moldova',\n",
       " 'Monaco',\n",
       " 'Montenegro',\n",
       " 'Netherlands',\n",
       " 'North Macedonia',\n",
       " 'Norway',\n",
       " 'Poland',\n",
       " 'Portugal',\n",
       " 'Romania',\n",
       " 'Russia',\n",
       " 'San Marino',\n",
       " 'Serbia',\n",
       " 'Slovakia',\n",
       " 'Slovenia',\n",
       " 'Spain',\n",
       " 'Sweden',\n",
       " 'Switzerland',\n",
       " 'UK',\n",
       " 'Ukraine']"
      ]
     },
     "execution_count": 3,
     "metadata": {},
     "output_type": "execute_result"
    }
   ],
   "source": [
    "nome = list(df['Country, Other'])\n",
    "nome.sort()\n",
    "i = 0\n",
    "for pais in nome:\n",
    "    if pais in UE:\n",
    "        i += 1\n",
    "nome"
   ]
  },
  {
   "cell_type": "code",
   "execution_count": 248,
   "id": "408cc365",
   "metadata": {},
   "outputs": [
    {
     "data": {
      "text/html": [
       "<div>\n",
       "<style scoped>\n",
       "    .dataframe tbody tr th:only-of-type {\n",
       "        vertical-align: middle;\n",
       "    }\n",
       "\n",
       "    .dataframe tbody tr th {\n",
       "        vertical-align: top;\n",
       "    }\n",
       "\n",
       "    .dataframe thead th {\n",
       "        text-align: right;\n",
       "    }\n",
       "</style>\n",
       "<table border=\"1\" class=\"dataframe\">\n",
       "  <thead>\n",
       "    <tr style=\"text-align: right;\">\n",
       "      <th></th>\n",
       "      <th>Country, Other</th>\n",
       "      <th>Cases in the last 7 days</th>\n",
       "      <th>Cases in the preceding 7 days</th>\n",
       "      <th>Weekly Case % Change</th>\n",
       "      <th>Cases in the last 7 days/1M pop</th>\n",
       "      <th>Deaths in the last 7 days</th>\n",
       "      <th>Deaths in the preceeding 7 days</th>\n",
       "      <th>Weekly Death % Change</th>\n",
       "      <th>Deaths in the last 7 days/1M pop</th>\n",
       "      <th>Population</th>\n",
       "      <th>isEU</th>\n",
       "    </tr>\n",
       "  </thead>\n",
       "  <tbody>\n",
       "    <tr>\n",
       "      <th>0</th>\n",
       "      <td>Russia</td>\n",
       "      <td>281305</td>\n",
       "      <td>272147</td>\n",
       "      <td>3.0</td>\n",
       "      <td>1926</td>\n",
       "      <td>8276</td>\n",
       "      <td>7938</td>\n",
       "      <td>4.0</td>\n",
       "      <td>57</td>\n",
       "      <td>146018963</td>\n",
       "      <td>non-UE</td>\n",
       "    </tr>\n",
       "    <tr>\n",
       "      <th>1</th>\n",
       "      <td>UK</td>\n",
       "      <td>245052</td>\n",
       "      <td>281168</td>\n",
       "      <td>-13.0</td>\n",
       "      <td>3584</td>\n",
       "      <td>1173</td>\n",
       "      <td>1099</td>\n",
       "      <td>7.0</td>\n",
       "      <td>17</td>\n",
       "      <td>68367364</td>\n",
       "      <td>non-UE</td>\n",
       "    </tr>\n",
       "    <tr>\n",
       "      <th>2</th>\n",
       "      <td>Germany</td>\n",
       "      <td>172611</td>\n",
       "      <td>131880</td>\n",
       "      <td>31.0</td>\n",
       "      <td>2051</td>\n",
       "      <td>800</td>\n",
       "      <td>465</td>\n",
       "      <td>72.0</td>\n",
       "      <td>10</td>\n",
       "      <td>84145628</td>\n",
       "      <td>UE</td>\n",
       "    </tr>\n",
       "    <tr>\n",
       "      <th>3</th>\n",
       "      <td>Ukraine</td>\n",
       "      <td>153131</td>\n",
       "      <td>152897</td>\n",
       "      <td>0.2</td>\n",
       "      <td>3530</td>\n",
       "      <td>4355</td>\n",
       "      <td>3857</td>\n",
       "      <td>13.0</td>\n",
       "      <td>100</td>\n",
       "      <td>43378803</td>\n",
       "      <td>non-UE</td>\n",
       "    </tr>\n",
       "    <tr>\n",
       "      <th>4</th>\n",
       "      <td>Poland</td>\n",
       "      <td>78963</td>\n",
       "      <td>52327</td>\n",
       "      <td>51.0</td>\n",
       "      <td>2089</td>\n",
       "      <td>758</td>\n",
       "      <td>552</td>\n",
       "      <td>37.0</td>\n",
       "      <td>20</td>\n",
       "      <td>37790630</td>\n",
       "      <td>UE</td>\n",
       "    </tr>\n",
       "  </tbody>\n",
       "</table>\n",
       "</div>"
      ],
      "text/plain": [
       "  Country, Other  Cases in the last 7 days  Cases in the preceding 7 days  \\\n",
       "0         Russia                    281305                         272147   \n",
       "1             UK                    245052                         281168   \n",
       "2        Germany                    172611                         131880   \n",
       "3        Ukraine                    153131                         152897   \n",
       "4         Poland                     78963                          52327   \n",
       "\n",
       "   Weekly Case % Change  Cases in the last 7 days/1M pop  \\\n",
       "0                   3.0                             1926   \n",
       "1                 -13.0                             3584   \n",
       "2                  31.0                             2051   \n",
       "3                   0.2                             3530   \n",
       "4                  51.0                             2089   \n",
       "\n",
       "   Deaths in the last 7 days  Deaths in the preceeding 7 days  \\\n",
       "0                       8276                             7938   \n",
       "1                       1173                             1099   \n",
       "2                        800                              465   \n",
       "3                       4355                             3857   \n",
       "4                        758                              552   \n",
       "\n",
       "   Weekly Death % Change  Deaths in the last 7 days/1M pop  Population    isEU  \n",
       "0                    4.0                                57   146018963  non-UE  \n",
       "1                    7.0                                17    68367364  non-UE  \n",
       "2                   72.0                                10    84145628      UE  \n",
       "3                   13.0                               100    43378803  non-UE  \n",
       "4                   37.0                                20    37790630      UE  "
      ]
     },
     "execution_count": 248,
     "metadata": {},
     "output_type": "execute_result"
    }
   ],
   "source": [
    "isUE = []\n",
    "for country in df[\"Country, Other\"]:\n",
    "    if country in UE:\n",
    "        isUE.append('UE')\n",
    "    else:\n",
    "        isUE.append('non-UE')\n",
    "df['isEU'] = isUE\n",
    "df.head()"
   ]
  },
  {
   "cell_type": "code",
   "execution_count": 249,
   "id": "dd2c0f50",
   "metadata": {},
   "outputs": [],
   "source": [
    "df_non_eu = df.groupby([\"isEU\"]).get_group('non-UE')\n",
    "df_eu = df.groupby([\"isEU\"]).get_group('UE')"
   ]
  },
  {
   "cell_type": "code",
   "execution_count": 244,
   "id": "f55f90df",
   "metadata": {},
   "outputs": [
    {
     "name": "stdout",
     "output_type": "stream",
     "text": [
      "UE: 620983827.088694\n",
      "Non-UE: 8290903184.710569\n"
     ]
    }
   ],
   "source": [
    "print(\"UE: \"+ str(p(df_eu[['Cases in the last 7 days']])))\n",
    "print(\"Non-UE: \"+ str(p(df_non_eu[['Cases in the last 7 days']])))"
   ]
  },
  {
   "cell_type": "code",
   "execution_count": 250,
   "id": "7e4b7426",
   "metadata": {},
   "outputs": [
    {
     "name": "stdout",
     "output_type": "stream",
     "text": [
      "UE: 606925009.7401268\n",
      "Non-UE: 8347315637.069853\n"
     ]
    }
   ],
   "source": [
    "print(\"UE: \"+ str(p(df_eu[['Cases in the last 7 days']])))\n",
    "print(\"Non-UE: \"+ str(p(df_non_eu[['Cases in the last 7 days']])))"
   ]
  },
  {
   "cell_type": "markdown",
   "id": "192fb6e9",
   "metadata": {},
   "source": [
    "<hr>\n",
    "\n",
    "**Questão 2.** Analise as seguintes distribuições normais aleatórias:\n",
    "\n",
    "\n",
    "<center><img src='https://i.imgur.com/Aa8FZQt.png' width=500 heigth=500></center>\n",
    "\n",
    "\n",
    "Assinale a alternativa em que as curvas aparecem em ordem crescente de desvio padrão.\n",
    "\n",
    "A. (A, B, C, D)\n",
    "\n",
    "***B. (B, A, D, C)***\n",
    "\n",
    "C. (B, A, C, D)\n",
    "\n",
    "D. (A, B, D, C)\n",
    "\n",
    "<div class=\"alert alert-block alert-success\">\n",
    "<b>Resposta:</b> B. (B, A, D, C)\n",
    "</div>"
   ]
  },
  {
   "cell_type": "markdown",
   "id": "f183b0ba",
   "metadata": {},
   "source": [
    "<hr>\n",
    "\n",
    "**Questão 3.** O código\n",
    "\n",
    "```python\n",
    "import numpy as np, from scipy.stats import norm\n",
    "N, band = 100, 0.5\n",
    "\n",
    "np.random.seed(2)\n",
    "X = np.concatenate(\n",
    "    (np.random.normal(0, 1, int(0.3 * N)),\n",
    "     np.random.normal(5, 1, int(0.7 * N))))[:, np.newaxis]\n",
    "Xp = np.linspace(-5, 10, 1000)[:, np.newaxis]\n",
    "\n",
    "dens = 0.3*norm(0,1).pdf(Xp[:, 0]) + 0.7*norm(5,1).pdf(Xp[:, 0])\n",
    "```\n",
    "gera a distribuição sombreada `dens` apresentada nas figuras de (a) a (d) abaixo. \n",
    "\n",
    "<center><img src='https://i.imgur.com/IAO3Gd3.png' width=500 heigth=500></center>\n",
    "\n",
    "Com base nos _kernels_ disponíveis na classe `KernelDensity`\n",
    "do módulo _scikit-learn_, assinale a alternativa que melhor preeche as lacunas na sentença:\n",
    "\n",
    "*\"O kernel ______ aproxima a distribuição em ______, ao passo que o kernel ______ aproxima a distribuição mostrada em ______.\"*\n",
    "\n",
    "\n",
    "A. _'linear'_ / (a) / _'gaussian'_ / (d)\n",
    "\n",
    "B. _'linear'_ / (b) / _'tophat'_ / (a)\n",
    "\n",
    "***C. _'epanechnikov'_ / \\(c\\) / _'linear'_ / (d)***\n",
    "\n",
    "D. _'gaussian'_ / (b) / _'epanechnikov'_ / \\(c\\)\n",
    "\n",
    "<div class=\"alert alert-block alert-success\">\n",
    "<b>Resposta:</b> C.  ‘<i>epanechnikov</i>’ / (c) / ‘<i>linear</i>’ / (d)\n",
    "</div>"
   ]
  },
  {
   "cell_type": "code",
   "execution_count": 77,
   "id": "9484fdc0",
   "metadata": {},
   "outputs": [
    {
     "data": {
      "text/plain": [
       "Text(-3.5, 0.31, 'Linear')"
      ]
     },
     "execution_count": 77,
     "metadata": {},
     "output_type": "execute_result"
    },
    {
     "data": {
      "image/png": "[encoded data removed]",
      "text/plain": [
       "<Figure size 432x288 with 4 Axes>"
      ]
     },
     "metadata": {
      "needs_background": "light"
     },
     "output_type": "display_data"
    }
   ],
   "source": [
    "\n",
    "# ----------------------------------------------------------------------\n",
    "# ----------------------------------------------------------------------\n",
    "# Plot a 1D density example\n",
    "N = 100\n",
    "np.random.seed(2)\n",
    "X = np.concatenate(\n",
    "    (np.random.normal(0, 1, int(0.3 * N)), np.random.normal(5, 1, int(0.7 * N)))\n",
    ")[:, np.newaxis]\n",
    "\n",
    "X_plot = np.linspace(-5, 10, 1000)[:, np.newaxis]\n",
    "\n",
    "true_dens = 0.3*norm(0,1).pdf(Xp[:, 0]) + 0.7*norm(5,1).pdf(Xp[:, 0])\n",
    "\n",
    "kde = KernelDensity(kernel='gaussian', bandwidth=0.5).fit(X)\n",
    "log_dens = kde.score_samples(X_plot)\n",
    "fig, ax = plt.subplots(2, 2, sharex=True, sharey=True)\n",
    "fig.subplots_adjust(hspace=0.05, wspace=0.05)\n",
    "ax[0, 0].plot(X_plot[:, 0], np.exp(log_dens), color='navy', lw=lw, linestyle=\"-\",\n",
    "                 )\n",
    "ax[0, 0].text(-3.5, 0.31, \"Gaussian\")\n",
    "\n",
    "kde = KernelDensity(kernel='tophat', bandwidth=0.5).fit(X)\n",
    "log_dens = kde.score_samples(X_plot)\n",
    "ax[0, 1].plot(X_plot[:, 0], np.exp(log_dens), color='navy', lw=lw, linestyle=\"-\",\n",
    "                 )\n",
    "ax[0, 1].text(-3.5, 0.31, \"Tophat\")\n",
    "\n",
    "kde = KernelDensity(kernel='epanechnikov', bandwidth=0.5).fit(X)\n",
    "log_dens = kde.score_samples(X_plot)\n",
    "ax[1, 0].plot(X_plot[:, 0], np.exp(log_dens), color='navy', lw=lw, linestyle=\"-\",\n",
    "                 )\n",
    "ax[1, 0].text(-3.5, 0.31, \"Epanechnikov\")\n",
    "\n",
    "kde = KernelDensity(kernel='linear', bandwidth=0.5).fit(X)\n",
    "log_dens = kde.score_samples(X_plot)\n",
    "ax[1, 1].plot(X_plot[:, 0], np.exp(log_dens), color='navy', lw=lw, linestyle=\"-\",\n",
    "                 )\n",
    "ax[1, 1].text(-3.5, 0.31, \"Linear\")"
   ]
  },
  {
   "cell_type": "code",
   "execution_count": 202,
   "id": "7f0d30e8",
   "metadata": {
    "scrolled": true
   },
   "outputs": [],
   "source": [
    "data = pd.read_csv(\"C:\\\\Users\\\\Administrator\\\\Downloads\\\\data.csv\")"
   ]
  },
  {
   "cell_type": "code",
   "execution_count": 225,
   "id": "f127ddc4",
   "metadata": {
    "scrolled": false
   },
   "outputs": [
    {
     "data": {
      "text/plain": [
       "dateRep                    08/11/2021\n",
       "day                                 8\n",
       "month                              11\n",
       "year                             2021\n",
       "cases                           15513\n",
       "deaths                             33\n",
       "countriesAndTerritories       Germany\n",
       "geoId                              DE\n",
       "countryterritoryCode              DEU\n",
       "popData2020                  83166711\n",
       "continentExp                   Europe\n",
       "Name: 2629, dtype: object"
      ]
     },
     "execution_count": 225,
     "metadata": {},
     "output_type": "execute_result"
    }
   ],
   "source": [
    "data.groupby(\"dateRep\").get_group(\"08/11/2021\").iloc[10]"
   ]
  },
  {
   "cell_type": "code",
   "execution_count": 227,
   "id": "7116bc6e",
   "metadata": {},
   "outputs": [
    {
     "data": {
      "text/plain": [
       "23543"
      ]
     },
     "execution_count": 227,
     "metadata": {},
     "output_type": "execute_result"
    }
   ],
   "source": [
    "data.groupby(\"dateRep\").get_group(\"07/11/2021\").iloc[10]['cases']"
   ]
  },
  {
   "cell_type": "code",
   "execution_count": 231,
   "id": "94759a05",
   "metadata": {},
   "outputs": [
    {
     "name": "stdout",
     "output_type": "stream",
     "text": [
      "1\n",
      "2\n",
      "3\n",
      "4\n",
      "5\n",
      "6\n",
      "7\n"
     ]
    }
   ],
   "source": [
    "total = 0\n",
    "for i in range(1,8):\n",
    "    total += data.groupby(\"dateRep\").get_group(f\"0{i}/11/2021\").iloc[10]['cases']\n",
    "    print(i)"
   ]
  },
  {
   "cell_type": "code",
   "execution_count": 232,
   "id": "5362dea6",
   "metadata": {},
   "outputs": [
    {
     "data": {
      "text/plain": [
       "169483"
      ]
     },
     "execution_count": 232,
     "metadata": {},
     "output_type": "execute_result"
    }
   ],
   "source": [
    "total"
   ]
  },
  {
   "cell_type": "code",
   "execution_count": null,
   "id": "87505043",
   "metadata": {},
   "outputs": [],
   "source": []
  },
  {
   "cell_type": "code",
   "execution_count": null,
   "id": "aaa3ee02",
   "metadata": {},
   "outputs": [],
   "source": []
  }
 ],
 "metadata": {
  "kernelspec": {
   "display_name": "Python 3",
   "language": "python",
   "name": "python3"
  },
  "language_info": {
   "codemirror_mode": {
    "name": "ipython",
    "version": 3
   },
   "file_extension": ".py",
   "mimetype": "text/x-python",
   "name": "python",
   "nbconvert_exporter": "python",
   "pygments_lexer": "ipython3",
   "version": "3.9.6"
  }
 },
 "nbformat": 4,
 "nbformat_minor": 5
}
