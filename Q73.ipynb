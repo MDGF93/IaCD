{
 "cells": [
  {
   "cell_type": "markdown",
   "id": "ecfb2d13-20d3-450a-82f5-fd11b9cc65cb",
   "metadata": {},
   "source": [
    "## Questionário 73 (Q73)\n",
    "\n",
    "Orientações: \n",
    "\n",
    "- Registre suas respostas no questionário de mesmo nome no SIGAA.\n",
    "- O tempo de registro das respostas no questionário será de 10 minutos. Portanto, resolva primeiro as questões e depois registre-as.\n",
    "- Haverá apenas 1 (uma) tentativa de resposta.\n",
    "- Submeta seu arquivo-fonte (utilizado para resolver as questões) em formato _.ipynb_ pelo SIGAA anexando-o à Tarefa denominada \"Envio de arquivo\" correspondente ao questionário.\n",
    "\n",
    "*Nota:* o arquivo-fonte será utilizado apenas como prova de execução da tarefa. Nenhuma avaliação será feita quanto ao estilo de programação.\n",
    "\n",
    "<hr>"
   ]
  },
  {
   "cell_type": "markdown",
   "id": "b3164879-717c-44f1-8aaf-47eadeecdb5f",
   "metadata": {},
   "source": [
    "Para responder às questões, leia o texto introdutório a seguir.\n",
    "\n",
    "Diversos países firmam acordos bilaterais com o intuito de fortalecer interesses mútuos. Uma rede multinacional da qual o Brasil faz parte começou a ser modelada por cientistas de dados a partir de um grafo não dirigido em que os _nós_ do grafo representam os países, renomeados segundo o código Alpha-3 do padrão [IBAN](https://www.iban.com/country-codes), e as _arestas_ representam a existência de um acordo bilateral.\n",
    "A figura abaixo mostra, por exemplo, um subgrafo dessa rede formado por Áustria (AUS), Bélgica (BEL), Brasil (BRA), Noruega (NOR) e Estados Unidos (USA).\n",
    " <center><img src=\"https://i.imgur.com/gwrtFoS.png\" width=\"800\" height=\"700\"></center> \n",
    "\n",
    "<center>Exemplo de rede de países que mantêm acordos bilaterais.</center>\n",
    "\n",
    "O arquivo `paises-acordo-bilateral.txt` contém, implicitamente, a lista de conexões que formam o grafo da rede inteira, as quais são determinadas por pares do tipo `x,y`, onde `x` e `y` são nomes de países não padronizados. Por exemplo, o par `China,Norway` indica que há um acordo bilateral entre China e Noruega.\n",
    "\n",
    "*Obs.:* acesse o arquivo [aqui](https://github.com/gcpeixoto/ICD/tree/main/database/paises-acordo-bilateral.txt)."
   ]
  },
  {
   "cell_type": "markdown",
   "id": "9d80ccef-5cb7-4534-9ad9-925832b0548c",
   "metadata": {},
   "source": [
    "**Questão 1.** Faça a raspagem da tabela de códigos de países disponíveis na página [IBAN](https://www.iban.com/country-codes) para recuperar os códigos Alpha-3 para cada país contido na lista de arestas e crie um segundo arquivo chamado `paises-acordo-bilateral-IBAN.txt`. Use o módulo `networkx` e a função `read_edgelist` para construir o grafo da rede multinacional. Em seguida, assinale a alternativa correta para a tupla (número de nós, número de arestas) que você encontrou. Sugestão: use as funções `get_table_head` e `get_table_body` criadas no capítulo do livro de ICD sobre _Raspagem de dados_.\n",
    "\n",
    "A. (14, 28)\n",
    "\n",
    "B. (16, 30)\n",
    "\n",
    "C. (12, 36)\n",
    "\n",
    "***D. (14, 38)***\n",
    "\n",
    "<div class=\"alert alert-block alert-success\">\n",
    "<b>Resposta:</b> D. (14, 38)\n",
    "</div>"
   ]
  },
  {
   "cell_type": "code",
   "execution_count": 1,
   "id": "62028f64",
   "metadata": {},
   "outputs": [],
   "source": [
    "import requests\n",
    "import pandas as pd\n",
    "from bs4 import BeautifulSoup\n",
    "from urllib.parse import unquote\n",
    "import networkx as nx\n",
    "import matplotlib.pyplot as plt\n",
    "import numpy as np\n",
    "\n",
    "url = requests.get(\"https://www.iban.com/country-codes\")\n",
    "html = url.content\n",
    "soup = BeautifulSoup(html,\"html\")\n"
   ]
  },
  {
   "cell_type": "code",
   "execution_count": 2,
   "id": "7054effc",
   "metadata": {},
   "outputs": [],
   "source": [
    "td = soup.find_all(\"td\")\n",
    "alpha3 = []\n",
    "nome_pais = []\n",
    "for i in range(len(td)//4):\n",
    "    alpha3.append(td[2+4*i].text)\n",
    "    nome_pais.append(td[4*i].text)"
   ]
  },
  {
   "cell_type": "code",
   "execution_count": 3,
   "id": "b97f9711",
   "metadata": {},
   "outputs": [],
   "source": [
    "d = {\"pais\":nome_pais, \"alpha3\":alpha3}\n",
    "df = pd.DataFrame(d)"
   ]
  },
  {
   "cell_type": "code",
   "execution_count": 4,
   "id": "bbff5032",
   "metadata": {},
   "outputs": [
    {
     "data": {
      "text/plain": [
       "'BRA'"
      ]
     },
     "execution_count": 4,
     "metadata": {},
     "output_type": "execute_result"
    }
   ],
   "source": [
    "df.query(\"pais == 'Brazil'\").alpha3.iloc[0]"
   ]
  },
  {
   "cell_type": "code",
   "execution_count": 5,
   "id": "a1507dce",
   "metadata": {},
   "outputs": [],
   "source": [
    "with open(\"paises-acordo-bilateral-IBAN.csv\", \"w\") as f:\n",
    "    f.write(\"Alpha-3,\")\n",
    "    for idx,cod in enumerate(alpha3):\n",
    "        if idx < len(alpha3)-1:\n",
    "            f.write('\\n'+cod+',')\n",
    "        else:\n",
    "            f.write('\\n'+cod)"
   ]
  },
  {
   "cell_type": "code",
   "execution_count": 6,
   "id": "f9850bb1",
   "metadata": {},
   "outputs": [],
   "source": [
    "with open(\"paises-acordo-bilateral.txt\", \"r\") as f:\n",
    "    nodes = f.readlines()"
   ]
  },
  {
   "cell_type": "code",
   "execution_count": 7,
   "id": "a629f286",
   "metadata": {},
   "outputs": [],
   "source": [
    "node_alpha3 = []\n",
    "acordo_alpha3 = ''\n",
    "from_to_dict = {}\n",
    "from_list = []\n",
    "to_list = []\n",
    "for node in nodes:\n",
    "    paises = node.split(\",\")\n",
    "    node_1 = paises[0]\n",
    "    node_2 = paises[1].replace(\"\\n\",\"\")\n",
    "    node_1_clean = node_1.replace(node_1, df.query(f\"pais == '{node_1}'\").alpha3.iloc[0])\n",
    "    node_2_clean = node_2.replace(node_2, df.query(f\"pais == '{node_2}'\").alpha3.iloc[0])\n",
    "    from_list.append(node_1_clean)\n",
    "    to_list.append(node_2_clean)\n",
    "    acordo_alpha3 += node_1_clean + ' ' + node_2_clean + '\\n'\n",
    "\n",
    "from_to_dict = {\"from\":from_list, \"to\":to_list}\n",
    "from_to_df = pd.DataFrame(from_to_dict)"
   ]
  },
  {
   "cell_type": "code",
   "execution_count": 8,
   "id": "18bafa8d",
   "metadata": {},
   "outputs": [],
   "source": [
    "with open(\"acordo_alpha3.txt\", \"w\") as f:\n",
    "    f.write(acordo_alpha3)"
   ]
  },
  {
   "cell_type": "code",
   "execution_count": 9,
   "id": "a409a9d6",
   "metadata": {
    "scrolled": true
   },
   "outputs": [
    {
     "name": "stdout",
     "output_type": "stream",
     "text": [
      "ARG CHN\n",
      "\n",
      "ARG DEU\n",
      "\n",
      "ARG NOR\n",
      "\n",
      "ARG ZAF\n",
      "\n",
      "AUT BRA\n",
      "\n",
      "AUT CHN\n",
      "\n",
      "AUT DEU\n",
      "\n",
      "AUT ISR\n",
      "\n",
      "AUT NOR\n",
      "\n",
      "BEL ARE\n",
      "\n",
      "BEL USA\n",
      "\n",
      "BEL DEU\n",
      "\n",
      "BEL ISR\n",
      "\n",
      "BEL NOR\n",
      "\n",
      "BEL RUS\n",
      "\n",
      "BRA ARE\n",
      "\n",
      "BRA USA\n",
      "\n",
      "BRA RUS\n",
      "\n",
      "CHN ARE\n",
      "\n",
      "CHN IND\n",
      "\n",
      "CHN RUS\n",
      "\n",
      "ARE USA\n",
      "\n",
      "ARE DEU\n",
      "\n",
      "ARE ISR\n",
      "\n",
      "ARE NOR\n",
      "\n",
      "ARE RUS\n",
      "\n",
      "USA DEU\n",
      "\n",
      "USA ISR\n",
      "\n",
      "USA RUS\n",
      "\n",
      "DEU ISR\n",
      "\n",
      "DEU NLD\n",
      "\n",
      "DEU NOR\n",
      "\n",
      "DEU ZAF\n",
      "\n",
      "IND ISR\n",
      "\n",
      "IND NLD\n",
      "\n",
      "ISR NOR\n",
      "\n",
      "ISR ZAF\n",
      "\n",
      "NLD NOR\n",
      "\n"
     ]
    }
   ],
   "source": [
    "with open(\"acordo_alpha3.txt\", \"r\") as f:\n",
    "    lines = f.readlines()\n",
    "    for line in lines:\n",
    "        print(line)"
   ]
  },
  {
   "cell_type": "code",
   "execution_count": 10,
   "id": "83320af5",
   "metadata": {
    "scrolled": true
   },
   "outputs": [
    {
     "data": {
      "text/html": [
       "<div>\n",
       "<style scoped>\n",
       "    .dataframe tbody tr th:only-of-type {\n",
       "        vertical-align: middle;\n",
       "    }\n",
       "\n",
       "    .dataframe tbody tr th {\n",
       "        vertical-align: top;\n",
       "    }\n",
       "\n",
       "    .dataframe thead th {\n",
       "        text-align: right;\n",
       "    }\n",
       "</style>\n",
       "<table border=\"1\" class=\"dataframe\">\n",
       "  <thead>\n",
       "    <tr style=\"text-align: right;\">\n",
       "      <th></th>\n",
       "      <th>from</th>\n",
       "      <th>to</th>\n",
       "    </tr>\n",
       "  </thead>\n",
       "  <tbody>\n",
       "    <tr>\n",
       "      <th>0</th>\n",
       "      <td>ARG</td>\n",
       "      <td>CHN</td>\n",
       "    </tr>\n",
       "    <tr>\n",
       "      <th>1</th>\n",
       "      <td>ARG</td>\n",
       "      <td>DEU</td>\n",
       "    </tr>\n",
       "    <tr>\n",
       "      <th>2</th>\n",
       "      <td>ARG</td>\n",
       "      <td>NOR</td>\n",
       "    </tr>\n",
       "    <tr>\n",
       "      <th>3</th>\n",
       "      <td>ARG</td>\n",
       "      <td>ZAF</td>\n",
       "    </tr>\n",
       "    <tr>\n",
       "      <th>4</th>\n",
       "      <td>AUT</td>\n",
       "      <td>BRA</td>\n",
       "    </tr>\n",
       "    <tr>\n",
       "      <th>5</th>\n",
       "      <td>AUT</td>\n",
       "      <td>CHN</td>\n",
       "    </tr>\n",
       "    <tr>\n",
       "      <th>6</th>\n",
       "      <td>AUT</td>\n",
       "      <td>DEU</td>\n",
       "    </tr>\n",
       "    <tr>\n",
       "      <th>7</th>\n",
       "      <td>AUT</td>\n",
       "      <td>ISR</td>\n",
       "    </tr>\n",
       "    <tr>\n",
       "      <th>8</th>\n",
       "      <td>AUT</td>\n",
       "      <td>NOR</td>\n",
       "    </tr>\n",
       "    <tr>\n",
       "      <th>9</th>\n",
       "      <td>BEL</td>\n",
       "      <td>ARE</td>\n",
       "    </tr>\n",
       "    <tr>\n",
       "      <th>10</th>\n",
       "      <td>BEL</td>\n",
       "      <td>USA</td>\n",
       "    </tr>\n",
       "    <tr>\n",
       "      <th>11</th>\n",
       "      <td>BEL</td>\n",
       "      <td>DEU</td>\n",
       "    </tr>\n",
       "    <tr>\n",
       "      <th>12</th>\n",
       "      <td>BEL</td>\n",
       "      <td>ISR</td>\n",
       "    </tr>\n",
       "    <tr>\n",
       "      <th>13</th>\n",
       "      <td>BEL</td>\n",
       "      <td>NOR</td>\n",
       "    </tr>\n",
       "    <tr>\n",
       "      <th>14</th>\n",
       "      <td>BEL</td>\n",
       "      <td>RUS</td>\n",
       "    </tr>\n",
       "    <tr>\n",
       "      <th>15</th>\n",
       "      <td>BRA</td>\n",
       "      <td>ARE</td>\n",
       "    </tr>\n",
       "    <tr>\n",
       "      <th>16</th>\n",
       "      <td>BRA</td>\n",
       "      <td>USA</td>\n",
       "    </tr>\n",
       "    <tr>\n",
       "      <th>17</th>\n",
       "      <td>BRA</td>\n",
       "      <td>RUS</td>\n",
       "    </tr>\n",
       "    <tr>\n",
       "      <th>18</th>\n",
       "      <td>CHN</td>\n",
       "      <td>ARE</td>\n",
       "    </tr>\n",
       "    <tr>\n",
       "      <th>19</th>\n",
       "      <td>CHN</td>\n",
       "      <td>IND</td>\n",
       "    </tr>\n",
       "    <tr>\n",
       "      <th>20</th>\n",
       "      <td>CHN</td>\n",
       "      <td>RUS</td>\n",
       "    </tr>\n",
       "    <tr>\n",
       "      <th>21</th>\n",
       "      <td>ARE</td>\n",
       "      <td>USA</td>\n",
       "    </tr>\n",
       "    <tr>\n",
       "      <th>22</th>\n",
       "      <td>ARE</td>\n",
       "      <td>DEU</td>\n",
       "    </tr>\n",
       "    <tr>\n",
       "      <th>23</th>\n",
       "      <td>ARE</td>\n",
       "      <td>ISR</td>\n",
       "    </tr>\n",
       "    <tr>\n",
       "      <th>24</th>\n",
       "      <td>ARE</td>\n",
       "      <td>NOR</td>\n",
       "    </tr>\n",
       "    <tr>\n",
       "      <th>25</th>\n",
       "      <td>ARE</td>\n",
       "      <td>RUS</td>\n",
       "    </tr>\n",
       "    <tr>\n",
       "      <th>26</th>\n",
       "      <td>USA</td>\n",
       "      <td>DEU</td>\n",
       "    </tr>\n",
       "    <tr>\n",
       "      <th>27</th>\n",
       "      <td>USA</td>\n",
       "      <td>ISR</td>\n",
       "    </tr>\n",
       "    <tr>\n",
       "      <th>28</th>\n",
       "      <td>USA</td>\n",
       "      <td>RUS</td>\n",
       "    </tr>\n",
       "    <tr>\n",
       "      <th>29</th>\n",
       "      <td>DEU</td>\n",
       "      <td>ISR</td>\n",
       "    </tr>\n",
       "    <tr>\n",
       "      <th>30</th>\n",
       "      <td>DEU</td>\n",
       "      <td>NLD</td>\n",
       "    </tr>\n",
       "    <tr>\n",
       "      <th>31</th>\n",
       "      <td>DEU</td>\n",
       "      <td>NOR</td>\n",
       "    </tr>\n",
       "    <tr>\n",
       "      <th>32</th>\n",
       "      <td>DEU</td>\n",
       "      <td>ZAF</td>\n",
       "    </tr>\n",
       "    <tr>\n",
       "      <th>33</th>\n",
       "      <td>IND</td>\n",
       "      <td>ISR</td>\n",
       "    </tr>\n",
       "    <tr>\n",
       "      <th>34</th>\n",
       "      <td>IND</td>\n",
       "      <td>NLD</td>\n",
       "    </tr>\n",
       "    <tr>\n",
       "      <th>35</th>\n",
       "      <td>ISR</td>\n",
       "      <td>NOR</td>\n",
       "    </tr>\n",
       "    <tr>\n",
       "      <th>36</th>\n",
       "      <td>ISR</td>\n",
       "      <td>ZAF</td>\n",
       "    </tr>\n",
       "    <tr>\n",
       "      <th>37</th>\n",
       "      <td>NLD</td>\n",
       "      <td>NOR</td>\n",
       "    </tr>\n",
       "  </tbody>\n",
       "</table>\n",
       "</div>"
      ],
      "text/plain": [
       "   from   to\n",
       "0   ARG  CHN\n",
       "1   ARG  DEU\n",
       "2   ARG  NOR\n",
       "3   ARG  ZAF\n",
       "4   AUT  BRA\n",
       "5   AUT  CHN\n",
       "6   AUT  DEU\n",
       "7   AUT  ISR\n",
       "8   AUT  NOR\n",
       "9   BEL  ARE\n",
       "10  BEL  USA\n",
       "11  BEL  DEU\n",
       "12  BEL  ISR\n",
       "13  BEL  NOR\n",
       "14  BEL  RUS\n",
       "15  BRA  ARE\n",
       "16  BRA  USA\n",
       "17  BRA  RUS\n",
       "18  CHN  ARE\n",
       "19  CHN  IND\n",
       "20  CHN  RUS\n",
       "21  ARE  USA\n",
       "22  ARE  DEU\n",
       "23  ARE  ISR\n",
       "24  ARE  NOR\n",
       "25  ARE  RUS\n",
       "26  USA  DEU\n",
       "27  USA  ISR\n",
       "28  USA  RUS\n",
       "29  DEU  ISR\n",
       "30  DEU  NLD\n",
       "31  DEU  NOR\n",
       "32  DEU  ZAF\n",
       "33  IND  ISR\n",
       "34  IND  NLD\n",
       "35  ISR  NOR\n",
       "36  ISR  ZAF\n",
       "37  NLD  NOR"
      ]
     },
     "execution_count": 10,
     "metadata": {},
     "output_type": "execute_result"
    }
   ],
   "source": [
    "from_to_df"
   ]
  },
  {
   "cell_type": "code",
   "execution_count": 11,
   "id": "53f6b08b",
   "metadata": {},
   "outputs": [],
   "source": [
    "G = nx.from_pandas_edgelist(from_to_df, source='from',target='to')"
   ]
  },
  {
   "cell_type": "code",
   "execution_count": 12,
   "id": "a94ef51b",
   "metadata": {},
   "outputs": [
    {
     "data": {
      "image/png": "[encoded data removed]",
      "text/plain": [
       "<Figure size 432x288 with 1 Axes>"
      ]
     },
     "metadata": {},
     "output_type": "display_data"
    }
   ],
   "source": [
    "nx.draw(G,with_labels = True)"
   ]
  },
  {
   "cell_type": "code",
   "execution_count": 13,
   "id": "9c2686ae",
   "metadata": {},
   "outputs": [
    {
     "name": "stdout",
     "output_type": "stream",
     "text": [
      "(14, 38)\n"
     ]
    }
   ],
   "source": [
    "nós = G.number_of_nodes()\n",
    "arestas = G.number_of_edges()\n",
    "print(f\"({nós}, {arestas})\")"
   ]
  },
  {
   "cell_type": "markdown",
   "id": "1dba1b84-7882-43a0-9e66-627bbd46b171",
   "metadata": {},
   "source": [
    "**Questão 2.** A _centralidade de grau_ `deg`, calculada para cada nó do grafo completo pelo módulo `networkx`, pode ser interpretada, para este estudo de caso, como uma medida relativa da pré-disposição de um país para se abrir à globalização. Neste sentido, calcule `deg` e assinale a opção cujo país é o mais **fechado** ao fenômeno da globalização.\n",
    "\n",
    "A. CHN\n",
    "\n",
    "B. BRA\n",
    "\n",
    "C. ARG\n",
    "\n",
    "***D. NLD***\n",
    "\n",
    "<div class=\"alert alert-block alert-success\">\n",
    "<b>Resposta:</b> D. NLD\n",
    "</div>"
   ]
  },
  {
   "cell_type": "code",
   "execution_count": 14,
   "id": "a34baaef",
   "metadata": {},
   "outputs": [
    {
     "name": "stdout",
     "output_type": "stream",
     "text": [
      "Menor valor encontrado até agora: ARG, 0.3076923076923077\n",
      "Menor valor encontrado até agora: ZAF, 0.23076923076923078\n",
      "Menor valor encontrado até agora: IND, 0.23076923076923078\n",
      "Menor valor encontrado até agora: NLD, 0.23076923076923078\n"
     ]
    }
   ],
   "source": [
    "menor = 100\n",
    "maior = 0\n",
    "for grau in nx.degree_centrality(G):\n",
    "    if nx.degree_centrality(G)[grau] <= menor:\n",
    "        menor = nx.degree_centrality(G)[grau]\n",
    "        print(f\"Menor valor encontrado até agora: {grau}, {nx.degree_centrality(G)[grau]}\")\n",
    "\n"
   ]
  },
  {
   "cell_type": "code",
   "execution_count": 15,
   "id": "6188fd48",
   "metadata": {},
   "outputs": [
    {
     "data": {
      "text/plain": [
       "{'ARG': 0.3076923076923077,\n",
       " 'CHN': 0.38461538461538464,\n",
       " 'DEU': 0.6923076923076923,\n",
       " 'NOR': 0.5384615384615385,\n",
       " 'ZAF': 0.23076923076923078,\n",
       " 'AUT': 0.38461538461538464,\n",
       " 'BRA': 0.3076923076923077,\n",
       " 'ISR': 0.6153846153846154,\n",
       " 'BEL': 0.46153846153846156,\n",
       " 'ARE': 0.6153846153846154,\n",
       " 'USA': 0.46153846153846156,\n",
       " 'RUS': 0.38461538461538464,\n",
       " 'IND': 0.23076923076923078,\n",
       " 'NLD': 0.23076923076923078}"
      ]
     },
     "execution_count": 15,
     "metadata": {},
     "output_type": "execute_result"
    }
   ],
   "source": [
    "nx.degree_centrality(G)"
   ]
  },
  {
   "cell_type": "code",
   "execution_count": 16,
   "id": "f156aaea",
   "metadata": {},
   "outputs": [
    {
     "data": {
      "text/plain": [
       "0.23076923076923078"
      ]
     },
     "execution_count": 16,
     "metadata": {},
     "output_type": "execute_result"
    }
   ],
   "source": [
    "nx.degree_centrality(G)[\"ZAF\"]"
   ]
  },
  {
   "cell_type": "code",
   "execution_count": 17,
   "id": "a37e519c",
   "metadata": {},
   "outputs": [
    {
     "data": {
      "text/plain": [
       "0.23076923076923078"
      ]
     },
     "execution_count": 17,
     "metadata": {},
     "output_type": "execute_result"
    }
   ],
   "source": [
    "nx.degree_centrality(G)[\"IND\"]"
   ]
  },
  {
   "cell_type": "code",
   "execution_count": 18,
   "id": "ce0fc183",
   "metadata": {},
   "outputs": [
    {
     "data": {
      "text/plain": [
       "0.23076923076923078"
      ]
     },
     "execution_count": 18,
     "metadata": {},
     "output_type": "execute_result"
    }
   ],
   "source": [
    "nx.degree_centrality(G)[\"NLD\"]"
   ]
  },
  {
   "cell_type": "markdown",
   "id": "6f4cf9a5-1585-4729-98f4-cb4ef52eabb2",
   "metadata": {},
   "source": [
    "**Questão 3.** Semelhantemente à interpretação da questão anterior, a _centralidade de intermediação_ `bet` fornece uma medida relativa de quão boa é a confiança e respeitabilidade diplomática de um país para a concretização de acordos. Calcule `bet` e assinale a opção cujo país é o mais respeitado para intermediar acordos.\n",
    "\n",
    "A. AUT\n",
    "\n",
    "B. ZAF\n",
    "\n",
    "***C. DEU***\n",
    "\n",
    "D. ISR\n",
    "\n",
    "<div class=\"alert alert-block alert-success\">\n",
    "<b>Resposta:</b> C. DEU\n",
    "</div>"
   ]
  },
  {
   "cell_type": "code",
   "execution_count": 19,
   "id": "efc2cc3d",
   "metadata": {},
   "outputs": [
    {
     "data": {
      "text/plain": [
       "{'ARG': 0.027472527472527472,\n",
       " 'CHN': 0.0839896214896215,\n",
       " 'DEU': 0.16265262515262513,\n",
       " 'NOR': 0.06858974358974358,\n",
       " 'ZAF': 0.004273504273504273,\n",
       " 'AUT': 0.050534188034188035,\n",
       " 'BRA': 0.013247863247863246,\n",
       " 'ISR': 0.12664835164835167,\n",
       " 'BEL': 0.026098901098901096,\n",
       " 'ARE': 0.09372710622710621,\n",
       " 'USA': 0.03774420024420024,\n",
       " 'RUS': 0.025106837606837604,\n",
       " 'IND': 0.023504273504273504,\n",
       " 'NLD': 0.01282051282051282}"
      ]
     },
     "execution_count": 19,
     "metadata": {},
     "output_type": "execute_result"
    }
   ],
   "source": [
    "nx.betweenness_centrality(G)"
   ]
  },
  {
   "cell_type": "code",
   "execution_count": 20,
   "id": "638165d5",
   "metadata": {},
   "outputs": [
    {
     "data": {
      "text/plain": [
       "0.050534188034188035"
      ]
     },
     "execution_count": 20,
     "metadata": {},
     "output_type": "execute_result"
    }
   ],
   "source": [
    "nx.betweenness_centrality(G)['AUT']"
   ]
  },
  {
   "cell_type": "code",
   "execution_count": 21,
   "id": "2858c04d",
   "metadata": {},
   "outputs": [
    {
     "data": {
      "text/plain": [
       "0.004273504273504273"
      ]
     },
     "execution_count": 21,
     "metadata": {},
     "output_type": "execute_result"
    }
   ],
   "source": [
    "nx.betweenness_centrality(G)['ZAF']"
   ]
  },
  {
   "cell_type": "code",
   "execution_count": 22,
   "id": "179783ec",
   "metadata": {},
   "outputs": [
    {
     "data": {
      "text/plain": [
       "0.12664835164835167"
      ]
     },
     "execution_count": 22,
     "metadata": {},
     "output_type": "execute_result"
    }
   ],
   "source": [
    "nx.betweenness_centrality(G)['ISR']"
   ]
  },
  {
   "cell_type": "code",
   "execution_count": 23,
   "id": "c8b75538",
   "metadata": {},
   "outputs": [
    {
     "data": {
      "text/plain": [
       "0.16265262515262513"
      ]
     },
     "execution_count": 23,
     "metadata": {},
     "output_type": "execute_result"
    }
   ],
   "source": [
    "nx.betweenness_centrality(G)['DEU']"
   ]
  }
 ],
 "metadata": {
  "kernelspec": {
   "display_name": "Python 3",
   "language": "python",
   "name": "python3"
  },
  "language_info": {
   "codemirror_mode": {
    "name": "ipython",
    "version": 3
   },
   "file_extension": ".py",
   "mimetype": "text/x-python",
   "name": "python",
   "nbconvert_exporter": "python",
   "pygments_lexer": "ipython3",
   "version": "3.9.6"
  }
 },
 "nbformat": 4,
 "nbformat_minor": 5
}
