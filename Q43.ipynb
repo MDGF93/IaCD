{
 "cells": [
  {
   "cell_type": "markdown",
   "id": "9c028aaa",
   "metadata": {},
   "source": [
    "## Questionário 43 (Q43)"
   ]
  },
  {
   "cell_type": "markdown",
   "id": "0932fad3",
   "metadata": {},
   "source": [
    "\n",
    "\n",
    "Orientações: \n",
    "\n",
    "- Registre suas respostas no questionário de mesmo nome no SIGAA.\n",
    "- O tempo de registro das respostas no questionário será de 10 minutos. Portanto, resolva primeiro as questões e depois registre-as.\n",
    "- Haverá apenas 1 (uma) tentativa de resposta.\n",
    "- Submeta seu arquivo-fonte (utilizado para resolver as questões) em formato _.ipynb_ pelo SIGAA anexando-o à Tarefa denominada \"Envio de arquivo\" correspondente ao questionário.\n",
    "\n",
    "*Nota:* o arquivo-fonte será utilizado apenas como prova de execução da tarefa. Nenhuma avaliação será feita quanto ao estilo de programação.\n",
    "\n",
    "<hr>"
   ]
  },
  {
   "cell_type": "markdown",
   "id": "5e9d6086",
   "metadata": {},
   "source": [
    "Para responder este questionário, utilize o banco de dados [brasileirao2021.csv](https://github.com/gcpeixoto/ICD/blob/main/database/brasileirao2021.csv). Fonte: [[CBF]](https://www.cbf.com.br/futebol-brasileiro/competicoes/campeonato-brasileiro-serie-a).\n",
    "\n",
    "**Obs.:** use o _dataset_ do repositório Git e não o do site da CBF, visto que este é atualizado após cada jogo.\n",
    "\n",
    "<br>\n",
    "\n",
    "**Questão 1.** Utilizando o método de _z-scores_ e o _dataset_, identifique todos os times cuja pontuação superou a média do campeonato e assinale a alternativa correta quanto às posições que ocupavam no ranque do Brasileirão 2021 no momento em que o _dataset_ havia sido gerado.\n",
    "\n",
    "A. 1a. a 6a.\n",
    "\n",
    "B. 3a. a 5a.\n",
    "\n",
    "**C. 1a. a 9a.**\n",
    "\n",
    "D. 2a. a 8a.\n",
    "\n",
    "<div class=\"alert alert-block alert-success\">\n",
    "<b>Resposta:</b> C. 1a. a 9a.\n",
    "</div>"
   ]
  },
  {
   "cell_type": "code",
   "execution_count": 8,
   "id": "91a19465",
   "metadata": {},
   "outputs": [],
   "source": [
    "import pandas as pd\n",
    "\n",
    "df = pd.read_csv(\"https://raw.githubusercontent.com/gcpeixoto/ICD/main/database/brasileirao2021.csv\")"
   ]
  },
  {
   "cell_type": "code",
   "execution_count": 11,
   "id": "9e5bce18",
   "metadata": {},
   "outputs": [
    {
     "name": "stdout",
     "output_type": "stream",
     "text": [
      "1º  0  Atlético Mineiro - MG\n",
      "2º  +1  Palmeiras - SP\n",
      "3º  +1  Fortaleza - CE\n",
      "4º  -2  Flamengo - RJ\n",
      "5º  0  Red Bull Bragantino - SP\n",
      "6º  0  Internacional - RS\n",
      "7º  0  Corinthians - SP\n",
      "8º  0  Fluminense - RJ\n",
      "9º  +2  Atlético - GO\n"
     ]
    }
   ],
   "source": [
    "df[\"PTS_Z_Score\"] = (df[\"PTS\"] - df['PTS'].mean())/df['PTS'].std(ddof=0)\n",
    "for i in range(len(df)):\n",
    "    if df.at[i, \"PTS_Z_Score\"] > 0:\n",
    "        print(df.at[i, 'Posição'])"
   ]
  },
  {
   "cell_type": "markdown",
   "id": "d037fddc",
   "metadata": {},
   "source": [
    "**Questão 2.** O _dataset_ descreve o desempenho de cada time através de marcadores clássicos do futebol, a saber: Pontos (_PTS_), Jogos (_J_), Vitórias (_V_), Empates (_E_), Derrotas (_D_), Gols Marcados (Pró) (_GP_), Gol Sofridos (Contra) (_GC_), Saldo de Gols (_SG_), Cartões Amarelos (_CA_) e Cartões Vermelhos (_CV_).\n",
    "\n",
    "Considerando $X$ a série correspondente a _PTS_, determine as variáveis correspondentes às séries $Y_1$ e $Y_2$, tais que, $\\text{cov}(X,Y_1)$ seja a maior covariância positiva e $\\text{cov}(X,Y_2)$ seja a maior covariância negativa.\n",
    "\n",
    "\n",
    "A. _J_ e _V_\n",
    "\n",
    "B. _GP_ e _GC_\n",
    "\n",
    "C. _SG_ e _GP_\n",
    "\n",
    "**D. _SG_ e _GC_**\n",
    "\n",
    "\n",
    "<div class=\"alert alert-block alert-success\">\n",
    "<b>Resposta:</b> D. <i>SG</i>/<i>GC</i>\n",
    "</div>"
   ]
  },
  {
   "cell_type": "code",
   "execution_count": 20,
   "id": "b97974e0",
   "metadata": {},
   "outputs": [
    {
     "data": {
      "text/plain": [
       "GC     -39.747368\n",
       "CA     -33.631579\n",
       "D      -27.326316\n",
       "E      -11.010526\n",
       "CV      -2.621053\n",
       "J       -1.347368\n",
       "V       36.989474\n",
       "GP      68.515789\n",
       "PTS     99.957895\n",
       "SG     108.263158\n",
       "Name: PTS, dtype: float64"
      ]
     },
     "execution_count": 20,
     "metadata": {},
     "output_type": "execute_result"
    }
   ],
   "source": [
    "df = pd.read_csv(\"https://raw.githubusercontent.com/gcpeixoto/ICD/main/database/brasileirao2021.csv\")\n",
    "df[['PTS', 'J', 'V', 'E', 'D', 'GP', 'GC', 'SG', 'CA', 'CV']].cov()['PTS'].sort_values()"
   ]
  },
  {
   "cell_type": "markdown",
   "id": "cad5ece0",
   "metadata": {},
   "source": [
    "**Questão 3.** Tomando todas as séries do _DataFrama_ de _GM_ em diante, identifique aquela que possui a mais forte correlação positiva com _E_ e aquela que possui a mais forte correlação negativa com _V_, respectivamente.\n",
    "\n",
    "A. _GP_ / _GC_\n",
    "\n",
    "B. _CV_ / _GP_\n",
    "\n",
    "**C. _CA_ / _GC_**\n",
    "\n",
    "D. _SG_ / _GC_\n",
    "\n",
    "<div class=\"alert alert-block alert-success\">\n",
    "<b>Resposta:</b> C. <i>CA</i>/<i>GC</i>\n",
    "</div>"
   ]
  },
  {
   "cell_type": "code",
   "execution_count": 21,
   "id": "8d182939",
   "metadata": {},
   "outputs": [
    {
     "data": {
      "text/plain": [
       "Index(['Posição', 'PTS', 'J', 'V', 'E', 'D', 'GP', 'GC', 'SG', 'CA', 'CV', '%',\n",
       "       'Recentes', 'Próx'],\n",
       "      dtype='object')"
      ]
     },
     "execution_count": 21,
     "metadata": {},
     "output_type": "execute_result"
    }
   ],
   "source": [
    "df = pd.read_csv(\"https://raw.githubusercontent.com/gcpeixoto/ICD/main/database/brasileirao2021.csv\")\n",
    "df.keys()"
   ]
  },
  {
   "cell_type": "code",
   "execution_count": 35,
   "id": "ca0b755d",
   "metadata": {},
   "outputs": [
    {
     "data": {
      "text/plain": [
       "V      -0.573701\n",
       "GP     -0.431005\n",
       "%      -0.379907\n",
       "SG     -0.336322\n",
       "PTS    -0.315706\n",
       "D      -0.236669\n",
       "CV     -0.027594\n",
       "GC      0.021634\n",
       "CA      0.181544\n",
       "J       0.599265\n",
       "E       1.000000\n",
       "Próx         NaN\n",
       "Name: E, dtype: float64"
      ]
     },
     "execution_count": 35,
     "metadata": {},
     "output_type": "execute_result"
    }
   ],
   "source": [
    "df.corr()['E'].sort_values()\n",
    "#CA"
   ]
  },
  {
   "cell_type": "code",
   "execution_count": 36,
   "id": "673432f9",
   "metadata": {},
   "outputs": [
    {
     "data": {
      "text/plain": [
       "D      -0.643170\n",
       "E      -0.573701\n",
       "GC     -0.541370\n",
       "J      -0.322218\n",
       "CA     -0.313484\n",
       "CV     -0.090233\n",
       "GP      0.814522\n",
       "SG      0.915203\n",
       "PTS     0.958296\n",
       "%       0.970630\n",
       "V       1.000000\n",
       "Próx         NaN\n",
       "Name: V, dtype: float64"
      ]
     },
     "execution_count": 36,
     "metadata": {},
     "output_type": "execute_result"
    }
   ],
   "source": [
    "df.corr()['V'].sort_values()\n",
    "#GC"
   ]
  }
 ],
 "metadata": {
  "kernelspec": {
   "display_name": "Python 3",
   "language": "python",
   "name": "python3"
  },
  "language_info": {
   "codemirror_mode": {
    "name": "ipython",
    "version": 3
   },
   "file_extension": ".py",
   "mimetype": "text/x-python",
   "name": "python",
   "nbconvert_exporter": "python",
   "pygments_lexer": "ipython3",
   "version": "3.9.6"
  }
 },
 "nbformat": 4,
 "nbformat_minor": 5
}
